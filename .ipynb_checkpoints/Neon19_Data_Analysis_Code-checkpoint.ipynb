{
 "cells": [
  {
   "cell_type": "markdown",
   "metadata": {},
   "source": [
    "# Libraries Necessary "
   ]
  },
  {
   "cell_type": "code",
   "execution_count": 29,
   "metadata": {},
   "outputs": [],
   "source": [
    "import pandas as pd\n",
    "import matplotlib.pyplot as plt\n",
    "import numpy as np\n",
    "from scipy import stats\n",
    "import scipy as sp\n",
    "import math\n",
    "import random\n",
    "from scipy.optimize import curve_fit,minimize\n",
    "from numpy.linalg import inv\n",
    "from tqdm import tqdm as tqdm"
   ]
  },
  {
   "cell_type": "markdown",
   "metadata": {},
   "source": [
    "# Code for reading in the data from a run"
   ]
  },
  {
   "cell_type": "code",
   "execution_count": 2,
   "metadata": {},
   "outputs": [],
   "source": [
    "#This creates a dataframe for each channel\n",
    "\n",
    "def create_string(location):\n",
    "    path0 = 'C:/Users/higgi/Downloads/CH0@DT5725_1146_Data_{0:s}.csv'.format(location)\n",
    "    path2 = 'C:/Users/higgi/Downloads/CH2@DT5725_1146_Data_{0:s}.csv'.format(location)\n",
    "    \n",
    "    path = [path0,path2]\n",
    "    return path\n",
    "\n",
    "#def create_string(location):\n",
    "    #path0 = '/home/cenpa/Ne19/DAQ/FinalConfigSettings/DAQ/{0:s}/UNFILTERED/CH0@DT5725_1146_Data_{0:s}.csv'.format(location)\n",
    "    #path2 = '/home/cenpa/Ne19/DAQ/FinalConfigSettings/DAQ/{0:s}/UNFILTERED/CH2@DT5725_1146_Data_{0:s}.csv'.format(location)\n",
    "    \n",
    "    #path = [path0,path2]\n",
    "    #return path\n",
    "\n",
    "\n",
    "\n",
    "#write the folder location where 'BiTest-03' is\n",
    "run_name = 'Ne19rundeltaE-02-22-20_5'\n",
    "\n",
    "\n",
    "#ch0_df = pd.read_csv(path[0],sep=';')\n",
    "#ch1_df = pd.read_csv(path[1],sep=';')\n",
    "\n",
    "def Run_Data(run_folder_name):\n",
    "    return[pd.read_csv(create_string(run_name)[i],sep=';') for i in range(2)]"
   ]
  },
  {
   "cell_type": "markdown",
   "metadata": {},
   "source": [
    "# Code for splitting the data into separate cycles"
   ]
  },
  {
   "cell_type": "code",
   "execution_count": 3,
   "metadata": {},
   "outputs": [],
   "source": [
    "def Split_Data(ch0_dataFrame,ch2_dataFrame,minimum_counts = 0):\n",
    "    \"\"\"This function returns a list of the counts data split by run for channel0 based on the triggering from channel2\n",
    "    Parameters\n",
    "    ----------\n",
    "    ch0_dataFrame : Pandas Dataframe, counts data.\n",
    "    ch2_dataFrame : Pandas Dataframe, run trigger data.\n",
    "    minimum_counts : int, \n",
    "        minimum counts to remove any possible signals that may occur when not \n",
    "        running but still collecting data. Default is 0.\n",
    "    Returns\n",
    "    -------\n",
    "    ch0split_data : Pandas Dataframe,\n",
    "        Returns a list of Pandas Dataframes that correspond to each cycle in the run.\n",
    "    \"\"\"\n",
    "    #initializing an empty list for coincidencedata ch0 \n",
    "    #by the clock from ch2\n",
    "    \n",
    "    ch0split_data = []\n",
    "    \n",
    "    \n",
    "    #iterating through the number of times ch2 recieved a signal from our clock\n",
    "    for i in np.arange(0,len(ch2_dataFrame)-1):\n",
    "        \n",
    "        #creating a mask to separate the full data into their individual runs for ch0\n",
    "        ch0time_mask = np.where((ch0_dataFrame['TIMETAG'] > ch2_dataFrame['TIMETAG'][i]) & \n",
    "                                (ch0_dataFrame['TIMETAG'] < ch2_dataFrame['TIMETAG'][i+1]-(89*10**12)))#pullback time in units of 10**-12 seconds\n",
    "        \n",
    "        \n",
    "        #This number for minimum counts is to remove any possible signals that may occur when we are not running but still collecting data\n",
    "        if len(ch0time_mask[0]) >= minimum_counts:\n",
    "            \n",
    "            #for each run I am creating a new dataframe and storing in a list\n",
    "            split_dataFrame0 = ch0_dataFrame.iloc[[ch0time_mask][0][0]].copy()\n",
    "            #resetting the index\n",
    "            split_dataFrame0 = split_dataFrame0.reset_index(drop=True)\n",
    "            \n",
    "            ch0split_data.extend([split_dataFrame0])\n",
    "\n",
    "    #returns arrays of dataframes for channel0       \n",
    "    return ch0split_data"
   ]
  },
  {
   "cell_type": "markdown",
   "metadata": {},
   "source": [
    "# Code for binning the data for count rate information"
   ]
  },
  {
   "cell_type": "code",
   "execution_count": 4,
   "metadata": {},
   "outputs": [],
   "source": [
    "#Bin size is in units of seconds\n",
    "def count_rate(single_run_coincidences,cutoff=0, bin_size = 1):\n",
    "    \"\"\"This function returns a list of the numpy arrays, the first array is the times in seconds and the second array is \n",
    "        the number of counts at those times based on the bin size.\n",
    "    Parameters\n",
    "    ----------\n",
    "    single_run_coincidences : Pandas Dataframe, counts data for a single run after the data has been split.\n",
    "    cutoff : int, a time in seconds to indicate where to start making the bins after t=0.\n",
    "    bin_size : int, size of the bins in unit seconds.\n",
    "    Returns\n",
    "    -------\n",
    "    time_axis : numpy array,\n",
    "        Returns values that correspond to the time binnings.\n",
    "    counts : numpy array,\n",
    "        Returns values that correspond to the number of counts in each of the\n",
    "        time_axis bins.\n",
    "    \"\"\"    \n",
    "    #Converting units to seconds\n",
    "    bin_seconds = bin_size*(10**12)\n",
    "    \n",
    "    #Setting the run timetags to start at 0\n",
    "    singlerun = (single_run_coincidences['TIMETAG']).where((10**-12)*single_run_coincidences['TIMETAG']>=(10**-12)*single_run_coincidences['TIMETAG'].min()+cutoff).dropna()\n",
    "    singlerun = singlerun-singlerun.min()\n",
    "    #Creating an array of the time spacings\n",
    "    time_axis = np.arange(0,singlerun.max()-bin_seconds,bin_seconds)\n",
    "    \n",
    "    def time_binning(i):\n",
    "        #function to create the number of \n",
    "        number_of_counts = np.where((singlerun >= i) & \n",
    "                                    (singlerun < i+bin_seconds))\n",
    "        return len(number_of_counts[0])\n",
    "    #returning an array of the time axis and the counts\n",
    "    time_axis = time_axis*(10**-12)\n",
    "    counts = np.asarray([time_binning(i) for i in time_axis])\n",
    "    \n",
    "    return time_axis, counts"
   ]
  },
  {
   "cell_type": "markdown",
   "metadata": {},
   "source": [
    "# Code for plotting the counts"
   ]
  },
  {
   "cell_type": "code",
   "execution_count": 5,
   "metadata": {},
   "outputs": [],
   "source": [
    "def plot_rate(coincidences,cycle_number, bin_size = 1):\n",
    "    \n",
    "    x,y = count_rate(coincidences[cycle_number],bin_size = bin_size)\n",
    "    fig, ax = plt.subplots(1,figsize=(12,5))\n",
    "\n",
    "    #ax.errorbar(x,y,yerr=np.sqrt(y), label= 'Limits')\n",
    "\n",
    "    ax.plot(x,y)\n",
    "    ax.set_title('Run from {0:s} Cycle Number {1:d}'.format(run_name,cycle_number))\n",
    "    ax.set_ylabel('Counts')\n",
    "    ax.set_xlabel('Seconds')"
   ]
  },
  {
   "cell_type": "markdown",
   "metadata": {},
   "source": [
    "# Data Analysis Code"
   ]
  },
  {
   "cell_type": "markdown",
   "metadata": {},
   "source": [
    "$$N=N_0 e^{-\\lambda t} +B$$"
   ]
  },
  {
   "cell_type": "markdown",
   "metadata": {},
   "source": [
    "$$N= {\\frac  {N_{m}}{1-N_{m}D}}$$"
   ]
  },
  {
   "cell_type": "markdown",
   "metadata": {},
   "source": [
    "$$M_i = \\int_{T_{i-1}}^{T_i} \\frac{N}{1+ND}dt$$"
   ]
  },
  {
   "cell_type": "code",
   "execution_count": 6,
   "metadata": {
    "scrolled": true
   },
   "outputs": [],
   "source": [
    "#not a very important function, but I left it in since it can be used to check approximations quickly\n",
    "def Convert_Measured_to_Actual(counts,background = 0, bin_size = 1,deadtime = 0.000016):\n",
    "    background_subtracted_counts = counts - background\n",
    "    return background_subtracted_counts/(1-background_subtracted_counts*deadtime/bin_size)\n",
    "\n",
    "def optimize_single_cycle(counts, binsize=1, deadtime=0.000018, rc=.039, cutoff=100):\n",
    "    \"\"\"This function returns a numpy minimization object for a single cycle.\n",
    "    Parameters\n",
    "    ----------\n",
    "    counts : Pandas Dataframe, counts data for a single cycle after using the Split_Data function.\n",
    "    binsize : int, size of the bins in seconds.\n",
    "    deadtime : float, system deadtime in seconds.\n",
    "    rc : float, ln(2)/halflife.\n",
    "    cutoff : int, a time in seconds to indicate where to start making the bins after t=0.\n",
    "    Returns\n",
    "    -------\n",
    "    minimized_function : Numpy minimize object,\n",
    "        Returns information on the minimization of the chi-squared best fit for the data.\n",
    "        May return errors, but this can be due to the method numpy uses to create a hessian matrix and in most cases\n",
    "        does not apply.\n",
    "    \"\"\"\n",
    "    t,measured = count_rate(single_run_coincidences=counts, cutoff=cutoff, bin_size = binsize)\n",
    "    def chisquaredfunction(params):\n",
    "        D,l,N0,B = params\n",
    "        \n",
    "        expected = (np.log(np.absolute((D*N0*np.exp(-l*np.asarray(t[0:len(t)-1]))+B*D+1)/(D*N0*np.exp(-l*np.asarray(t[1:len(t)]))+B*D+1))) + B*D*l*(np.asarray(t[1:len(t)])-np.asarray(t[0:len(t)-1])))/(B*D*D*l+D*l)\n",
    "        \n",
    "        measured[0:len(measured)-1][np.where(measured[0:len(measured)-1]==0)] = 1\n",
    "        chisquared = np.sum((np.square(measured[0:len(measured)-1] - expected)) / measured[0:len(measured)-1])\n",
    "        return chisquared#t,measured[0:len(measured)-1],expected,chisquared\n",
    "    initial_guess = [rc, measured[0]/(1-measured[0]*deadtime/binsize),B]\n",
    "    minimized_function = minimize(chisquaredfunction, initial_guess)\n",
    "    return minimized_function\n",
    "        \n",
    "\n",
    "#functions for doing a very quick exponential fit.   \n",
    "def fit_function(t,N,l):\n",
    "    return (N*np.exp((-t*l)))\n",
    "\n",
    "def final_analysis(time,counts,rc):\n",
    "    \n",
    "    popt, pcov = curve_fit(fit_function, xdata=time, ydata=counts, p0=[counts[0],rc])\n",
    "        \n",
    "\n",
    "        \n",
    "        \n",
    "    return {'N_0' : popt[0],\"Decay_Constant\": popt[1],\"Covariance Matrix\": pcov}"
   ]
  },
  {
   "cell_type": "markdown",
   "metadata": {},
   "source": [
    "$$M_i = \\dfrac{\\ln\\left(\\left|\\frac{DN_0\\mathrm{e}^{-\\lambda T_{i-1}}+BD+1}{DN_0\\mathrm{e}^{-\\lambda T_i}+BD+1}\\right|\\right)+BD\\lambda( T_i-T_{i-1})}{\\left(BD^2+D\\right)\\lambda}$$"
   ]
  },
  {
   "cell_type": "code",
   "execution_count": 7,
   "metadata": {},
   "outputs": [],
   "source": [
    "def optimize_sharedvalues(counts, binsize=1, deadtime=0.000018, rc=.039, cutoff=0):\n",
    "    \"\"\"This function returns a numpy minimization object for the best fit of multiple\n",
    "        cycles with the same deadtime and rc.\n",
    "    Parameters\n",
    "    ----------\n",
    "    counts : list of Pandas Dataframes, counts data for multiple cycles or all cycles in a run.\n",
    "    binsize : int, size of the bins in seconds.\n",
    "    deadtime : float, system deadtime in seconds.\n",
    "    rc : float, ln(2)/halflife.\n",
    "    cutoff : int, a time in seconds to indicate where to start making the bins after t=0.\n",
    "    Returns\n",
    "    -------\n",
    "    minimized_function : Numpy minimize object,\n",
    "        Returns information on the minimization of the chi-squared best fit for the data.\n",
    "        May return errors, but this can be due to the method numpy uses to create a hessian matrix and in most cases\n",
    "        does not apply.\n",
    "    \"\"\"\n",
    "    cycle_data = counts\n",
    "    numbercycles = len(counts)\n",
    "    t=[]\n",
    "    measured=[]\n",
    "    for i in np.arange(0,numbercycles):\n",
    "        t_temporary,measured_temporary = count_rate(single_run_coincidences=cycle_data[i], cutoff=cutoff, bin_size = binsize)\n",
    "        np.asarray(measured_temporary)[0:len(measured_temporary)-1][np.where(measured_temporary[0:len(measured_temporary)-1]==0)] = 1\n",
    "        measured_temporary = measured_temporary[0:len(measured_temporary)-1]\n",
    "        t.extend([[t_temporary]])\n",
    "        measured.extend([[measured_temporary]])\n",
    "    def chisquaredfun(params):\n",
    "\n",
    "        \n",
    "            \n",
    "        \n",
    "        D = deadtime#params[0]\n",
    "        l = params[0]\n",
    "        B = params[1:1+numbercycles]\n",
    "        N0 = params[1+numbercycles:1+2*numbercycles]\n",
    "        \n",
    "        expected = []\n",
    "        for i in np.arange(numbercycles):\n",
    "            expected_temp = (np.log(np.absolute((D*N0[i]*np.exp(-l*np.asarray(t[i][0][0:len(t[i][0])-1]))+B[i]*D+1)/(D*N0[i]*np.exp(-l*np.asarray(t[i][0][1:len(t[i][0])]))+B[i]*D+1))) + B[i]*D*l*(np.asarray(t[i][0][1:len(t[i][0])])-np.asarray(t[i][0][0:len(t[i][0])-1])))/(B[i]*D*D*l+D*l)#the expected equation\n",
    "\n",
    "            expected.extend([[expected_temp]])\n",
    "                        \n",
    "        chisquared = ((np.square(np.asarray(measured) - np.asarray(expected))) / np.asarray(measured))\n",
    "        \n",
    "        return np.sum([np.sum(item[0])for item in chisquared])\n",
    "    B_guess = np.ones(numbercycles)\n",
    "    N0_guess = [item[0][0]for item in measured]\n",
    "\n",
    "    \n",
    "    \n",
    "    initial_guess = [ rc, *np.ones(numbercycles), *N0_guess ]\n",
    "    \n",
    "    minimized_function = minimize(chisquaredfun, initial_guess)#,method = 'L-BFGS-B', bounds = [(0.000001,.001),(.01,.05),(.01,30),(.01,30),(.01,30),(.01,30),(.01,30),(1000,None),(1000,None),(1000,None),(1000,None),(1000,None)]) \n",
    "    return minimized_function"
   ]
  },
  {
   "cell_type": "markdown",
   "metadata": {},
   "source": [
    "$$N=N_0 e^{-\\lambda t} + B$$\n",
    "\n",
    "$$M_i = \\frac{N_0}{\\lambda}\\left( e^{-\\lambda T_{i-1}}- e^{-\\lambda T_{i}}\\right) + B(T_i - T_{i-1})$$"
   ]
  },
  {
   "cell_type": "code",
   "execution_count": 20,
   "metadata": {},
   "outputs": [],
   "source": [
    "def optimize_sharedvalues_simple(counts, binsize=1, rc=.039, cutoff=0):\n",
    "    \"\"\"This function returns a numpy minimization object for the best fit of multiple\n",
    "        cycles with the same rc with no deadtime.\n",
    "    Parameters\n",
    "    ----------\n",
    "    counts : list of Pandas Dataframes, counts data for multiple cycles or all cycles in a run.\n",
    "    binsize : int, size of the bins in seconds.\n",
    "    rc : float, ln(2)/halflife.\n",
    "    cutoff : int, a time in seconds to indicate where to start making the bins after t=0.\n",
    "        cutoff is almost never 0 for this function since the data at early times\n",
    "        is not close to a simple exponential.\n",
    "    Returns\n",
    "    -------\n",
    "    minimized_function : Numpy minimize object,\n",
    "        Returns information on the minimization of the chi-squared best fit for the data.\n",
    "        May return errors, but this can be due to the method numpy uses to create a hessian matrix and in most cases\n",
    "        does not apply.\n",
    "    \"\"\"\n",
    "    cycle_data = counts\n",
    "    numbercycles = len(counts)\n",
    "    t=[]\n",
    "    measured=[]\n",
    "    for i in np.arange(0,numbercycles):\n",
    "        t_temporary,measured_temporary = count_rate(single_run_coincidences=cycle_data[i], cutoff=cutoff, bin_size = binsize)\n",
    "        np.asarray(measured_temporary)[0:len(measured_temporary)-1][np.where(measured_temporary[0:len(measured_temporary)-1]==0)] = 1\n",
    "        \n",
    "        measured_temporary = measured_temporary[0:len(measured_temporary)-1]\n",
    "        t.extend([[t_temporary]])\n",
    "        measured.extend([[measured_temporary]])\n",
    "    def chisquaredfun(params):\n",
    "\n",
    "        \n",
    "            \n",
    "        \n",
    "        l = params[0]\n",
    "        B = params[1:1+numbercycles]\n",
    "        N0 = params[1+numbercycles:1+2*numbercycles]\n",
    "        \n",
    "        expected = []\n",
    "        for i in np.arange(numbercycles):\n",
    "            expected_temp = (N0[i]/l)*(np.exp(-l*np.asarray(t[i][0][0:len(t[i][0])-1]))-np.exp(-l*np.asarray(t[i][0][1:len(t[i][0])]))) + B[i]*(t[i][0][1:len(t[i][0])]-t[i][0][0:len(t[i][0])-1])\n",
    "\n",
    "            expected.extend([[expected_temp]])\n",
    "                        \n",
    "        chisquared = ((np.square(np.asarray(measured) - np.asarray(expected))) / np.asarray(measured))\n",
    "        \n",
    "        return np.sum([np.sum(item[0])for item in chisquared])\n",
    "    B_guess = np.ones(numbercycles)\n",
    "    N0_guess = [item[0][0]for item in measured]\n",
    "\n",
    "    \n",
    "    \n",
    "    initial_guess = [ rc, *np.ones(numbercycles), *N0_guess ]\n",
    "    minimized_function = minimize(chisquaredfun, initial_guess)#,method = 'L-BFGS-B', bounds = [(.01,.05),(0,0),(0,0),(0,0),(0,0),(0,0),(1000,None),(1000,None),(1000,None),(1000,None),(1000,None)]) \n",
    "    return minimized_function"
   ]
  },
  {
   "cell_type": "markdown",
   "metadata": {},
   "source": [
    "$$M_i = \\dfrac{\\ln(DN_0e^{-\\lambda T_{i-1}}+BD+1)}{D(BD+1)\\lambda}-\\dfrac{\\ln(DN_0e^{-\\lambda T_{i}}+BD+1)}{D(BD+1)\\lambda} + \\dfrac{B(T_i - T_{i-1})}{BD+1}$$"
   ]
  },
  {
   "cell_type": "markdown",
   "metadata": {},
   "source": [
    "$$x - \\frac{x^2}{2} + \\frac{x^3}{3} - \\frac{x^4}{4} + \\frac{x^5}{5} - \\frac{x^6}{6} + O(x^7)$$\n",
    "(Taylor series)\n",
    "(converges when abs(x)<1)"
   ]
  },
  {
   "cell_type": "markdown",
   "metadata": {},
   "source": [
    "B = 0 (can make data reflect this condition)"
   ]
  },
  {
   "cell_type": "markdown",
   "metadata": {},
   "source": [
    "$$M_i = \\frac{N_0e^{-\\lambda T_{i-1}}}{\\lambda} - \\frac{N_0e^{-\\lambda T_{i}}}{\\lambda} - \\frac{D(N_0e^{-\\lambda T_{i-1}})^2}{\\lambda} +\\frac{D(N_0e^{-\\lambda T_{i}})^2}{\\lambda}+...$$"
   ]
  },
  {
   "cell_type": "code",
   "execution_count": 63,
   "metadata": {},
   "outputs": [],
   "source": [
    "def optimize_sharedvalues_expanded(counts, binsize=1, deadtime=0.000016, rc=.039, cutoff=0):\n",
    "\"\"\"This function returns a numpy minimization object for the best fit of multiple\n",
    "        cycles with the same deadtime and rc and uses an approximation with no background counts.\n",
    "        Used more as a tool to check rather than a tool for analysis.\n",
    "    Parameters\n",
    "    ----------\n",
    "    counts : list of Pandas Dataframes, counts data for multiple cycles or all cycles in a run.\n",
    "    binsize : int, size of the bins in seconds.\n",
    "    deadtime : float, system deadtime in seconds.\n",
    "    rc : float, ln(2)/halflife.\n",
    "    cutoff : int, a time in seconds to indicate where to start making the bins after t=0.\n",
    "    Returns\n",
    "    -------\n",
    "    minimized_function : Numpy minimize object,\n",
    "        Returns information on the minimization of the chi-squared best fit for the data.\n",
    "        May return errors, but this can be due to the method numpy uses to create a hessian matrix and in most cases\n",
    "        does not apply.\n",
    "    \"\"\"\n",
    "    cycle_data = counts\n",
    "    numbercycles = len(counts)\n",
    "    t=[]\n",
    "    measured=[]\n",
    "    for i in np.arange(0,numbercycles):\n",
    "        t_temporary,measured_temporary = count_rate(single_run_coincidences=cycle_data[i], cutoff=cutoff, bin_size = binsize)\n",
    "        np.asarray(measured_temporary)[0:len(measured_temporary)-1][np.where(measured_temporary[0:len(measured_temporary)-1]==0)] = 1\n",
    "        \n",
    "        measured_temporary = measured_temporary[0:len(measured_temporary)-1]\n",
    "        t.extend([[t_temporary]])\n",
    "        measured.extend([[measured_temporary]])\n",
    "    def chisquaredfun(params):\n",
    "\n",
    "        \n",
    "            \n",
    "        D = params[1]\n",
    "        l = params[0]\n",
    "        N0 = params[2:2+numbercycles]\n",
    "        \n",
    "        \n",
    "        expected = []\n",
    "        for i in np.arange(numbercycles):\n",
    "            expected_temp = (N0[i]*np.exp(-l*np.asarray(t[i][0][0:len(t[i][0])-1])))/l - (N0[i]*np.exp(-l*np.asarray(t[i][0][1:len(t[i][0])])))/l - D*((N0[i]*np.exp(-l*np.asarray(t[i][0][0:len(t[i][0])-1])))**2 - (N0[i]*np.exp(-l*np.asarray(t[i][0][1:len(t[i][0])])))**2)/l #+ (D**2)*((N0[i]*np.exp(-l*np.asarray(t[i][0][0:len(t[i][0])-1])))**3 - (N0[i]*np.exp(-l*np.asarray(t[i][0][1:len(t[i][0])])))**3)/l\n",
    "\n",
    "            expected.extend([[expected_temp]])\n",
    "                        \n",
    "        chisquared = ((np.square(np.asarray(measured) - np.asarray(expected))) / np.asarray(measured))\n",
    "        \n",
    "        return np.sum([np.sum(item[0])for item in chisquared])\n",
    "    B_guess = np.ones(numbercycles)\n",
    "    N0_guess = [item[0][0]for item in measured]\n",
    "\n",
    "    \n",
    "    \n",
    "    initial_guess = [rc,deadtime , *N0_guess ]\n",
    "    minimized_function = minimize(chisquaredfun, initial_guess)#,method = 'L-BFGS-B', bounds = [(.01,.05),(0,.00001),(1000,None),(1000,None),(1000,None),(1000,None),(1000,None)]) \n",
    "    return minimized_function "
   ]
  },
  {
   "cell_type": "code",
   "execution_count": 9,
   "metadata": {},
   "outputs": [],
   "source": [
    "def residuals(counts,cycle_number,values, binsize=1, cutoff=0,):\n",
    "\"\"\"This function returns a dictionary with residuals information for a simple exponential fit.\n",
    "    Parameters\n",
    "    ----------\n",
    "    counts : Pandas Dataframe, counts data for a single cycle.\n",
    "    binsize : int, size of the bins in seconds.\n",
    "    values : minimized_fuction.x, the values from the minimization best fit.\n",
    "    cutoff : int, a time in seconds to indicate where to start making the bins after t=0.\n",
    "    Returns\n",
    "    -------\n",
    "    'time' : array of time values\n",
    "    'residuals' : array of normalized residuals\n",
    "    'fit' : array of best fit values\n",
    "    'measured' : array of measured values\n",
    "    \"\"\"\n",
    "    numbercycles = len(counts)\n",
    "    t,measured = count_rate(single_run_coincidences=counts[cycle_number], cutoff=cutoff, bin_size = binsize)\n",
    "    def residual(params):\n",
    "        l = params[0]\n",
    "        B = params[1:1+numbercycles]\n",
    "        N0 = params[1+numbercycles:1+2*numbercycles]\n",
    "        \n",
    "        expected = (N0[cycle_number]/l)*(np.exp(-l*np.asarray(t[0:len(t)-1]))-np.exp(-l*np.asarray(t[1:len(t)]))) + B[cycle_number]*(t[1:len(t)]-t[0:len(t)-1])\n",
    "\n",
    "        measured[0:len(measured)-1][np.where(measured[0:len(measured)-1]==0)] = 1\n",
    "        residuals = (expected - measured[0:len(measured)-1] ) / np.sqrt(measured[0:len(measured)-1])\n",
    "        return residuals, expected, measured\n",
    "    res, exp, meas= residual(values)\n",
    "    return dict(time = t[0:len(t)-1],\n",
    "                residuals = res,\n",
    "                fit = exp,\n",
    "                measured = meas)"
   ]
  },
  {
   "cell_type": "code",
   "execution_count": 10,
   "metadata": {},
   "outputs": [],
   "source": [
    "def residuals_deadtime(counts,cycle_number,values, binsize=1, cutoff=0,deadtime=1.8e-5):\n",
    "\"\"\"This function returns a dictionary with residuals information for a deadtime model fit.\n",
    "    Parameters\n",
    "    ----------\n",
    "    counts : Pandas Dataframe, counts data for a single cycle.\n",
    "    cycle_number : int, cycle number based on the list indexing in the Split_Data function. First cycle = 0.\n",
    "    values : minimized_fuction.x, the values from the minimization best fit.\n",
    "    binsize : int, size of the bins in seconds.\n",
    "    cutoff : int, a time in seconds to indicate where to start making the bins after t=0.\n",
    "    deadtime : float, system deadtime in seconds.\n",
    "    Returns\n",
    "    -------\n",
    "    'time' : array of time values\n",
    "    'residuals' : array of normalized residuals\n",
    "    'fit' : array of best fit values\n",
    "    'measured' : array of measured values\n",
    "    \"\"\"\n",
    "    numbercycles = len(counts)\n",
    "    t,measured = count_rate(single_run_coincidences=counts[cycle_number], cutoff=cutoff, bin_size = binsize)\n",
    "    def residual(params):\n",
    "        #D = params[0]\n",
    "        D = deadtime\n",
    "        l = params[0]\n",
    "        B = params[1:1+numbercycles]\n",
    "        N0 = params[1+numbercycles:1+2*numbercycles]\n",
    "        \n",
    "        expected = (np.log(np.absolute((D*N0[cycle_number]*np.exp(-l*np.asarray(t[0:len(t)-1]))+B[cycle_number]*D+1)/(D*N0[cycle_number]*np.exp(-l*np.asarray(t[1:len(t)]))+B[cycle_number]*D+1))) + B[cycle_number]*D*l*(np.asarray(t[1:len(t)])-np.asarray(t[0:len(t)-1])))/(B[cycle_number]*D*D*l+D*l)\n",
    "\n",
    "\n",
    "        measured[0:len(measured)-1][np.where(measured[0:len(measured)-1]==0)] = 1\n",
    "        residuals = (expected - measured[0:len(measured)-1] ) / np.sqrt(measured[0:len(measured)-1])\n",
    "        return residuals, expected, measured\n",
    "    res, exp, meas= residual(values)\n",
    "    return dict(time = t[0:len(t)-1],\n",
    "                residuals = res,\n",
    "                fit = exp,\n",
    "                measured = meas)"
   ]
  },
  {
   "cell_type": "markdown",
   "metadata": {},
   "source": [
    "$$  y(x_i;a) = \\sum_{j=0} \\frac{N_{0,i}}{\\lambda}\\left( e^{-\\lambda T_{i-1}}- e^{-\\lambda T_{i}}\\right) + B_i(T_i - T_{i-1}) $$"
   ]
  },
  {
   "cell_type": "markdown",
   "metadata": {},
   "source": [
    "$$\\alpha_{k,l} = \\sum^{N}_{i=1} \\frac{1}{\\sigma_i^2} \\left[ \\frac{\\partial y(x_i; \\bf a)}{\\partial a_k} \\cdot \\frac{\\partial y(x_i; \\bf a)}{\\partial a_l} \\right]$$"
   ]
  },
  {
   "cell_type": "markdown",
   "metadata": {},
   "source": [
    "$$\\frac{\\partial y(x_i;\\bf a)}{\\partial \\lambda} = \\sum_{j=0} -\\frac{N_{0,i}}{\\lambda^2}\\left( e^{-\\lambda T_{i-1}}- e^{-\\lambda T_{i}}\\right) + \\frac{N_{0,i}}{\\lambda}\\left( - T_{i-1}e^{-\\lambda T_{i-1}}+  T_{i}e^{-\\lambda T_{i}}\\right)$$\n",
    "\n",
    "$$\\frac{\\partial y(x_i;\\bf a)}{\\partial N_{0,i}} = \\frac{1}{\\lambda}\\left( e^{-\\lambda T_{i-1}}- e^{-\\lambda T_{i}}\\right)$$\n",
    "\n",
    "$$\\frac{\\partial y(x_i;\\bf a)}{\\partial B_i} = (T_i - T_{i-1})$$\n"
   ]
  },
  {
   "cell_type": "code",
   "execution_count": 11,
   "metadata": {},
   "outputs": [],
   "source": [
    "def covariance_matrix(best_fit_parameters,counts ,cutoff, binsize):\n",
    "\"\"\"This function returns the covariance matrix for a exponential fit.\n",
    "    Parameters\n",
    "    ----------\n",
    "    best_fit_parameters : list, values of the best fit parameters from the minimization function.\n",
    "    counts : list of Pandas Dataframes, counts data for multiple cycles or all cycles in a run.\n",
    "    cutoff : int, a time in seconds to indicate where to start making the bins after t=0.\n",
    "    binsize : int, size of the bins in seconds.\n",
    "    Returns\n",
    "    -------\n",
    "    covariance_matrix : matrix in order of rc,background counts_0,... background counts_i, initial counts_0, initial counts_i.\n",
    "    \"\"\"    \n",
    "    cycle_data = counts\n",
    "    numbercycles = len(counts)\n",
    "    t=[]\n",
    "    measured=[]\n",
    "    for i in np.arange(0,numbercycles):\n",
    "        t_temporary,measured_temporary = count_rate(single_run_coincidences=cycle_data[i], cutoff=cutoff, bin_size = binsize)\n",
    "        np.asarray(measured_temporary)[0:len(measured_temporary)-1][np.where(measured_temporary[0:len(measured_temporary)-1]==0)] = 1\n",
    "        t_temporary = t_temporary[0:int(210/binsize)-cutoff]\n",
    "        measured_temporary = measured_temporary[0:int(210/binsize)-cutoff]\n",
    "        t.extend([[t_temporary]])\n",
    "        measured.extend([[measured_temporary]])\n",
    "    \n",
    "    l = best_fit_parameters[0]\n",
    "    B = best_fit_parameters[1:1+numbercycles]\n",
    "    N0 = best_fit_parameters[1+numbercycles:1+2*numbercycles]\n",
    "\n",
    "    \n",
    "    def yB(time,std):\n",
    "        return (time[1:len(time)] - time[0:len(time)-1])/np.sqrt(std[0:len(std)-1])\n",
    "    \n",
    "    def yl(timelist,l,stdlist,Nlist):\n",
    "        y=0\n",
    "        for i in np.arange(len(Nlist)):\n",
    "            y= y+(-(Nlist[i]/(l**2))*(np.exp(-l*timelist[i][0][0:len(timelist[i][0])-1]) - np.exp(-l*timelist[i][0][1:len(timelist[i][0])])) + (Nlist[i]/l)*(-timelist[i][0][0:len(timelist[i][0])-1]*np.exp(-l*timelist[i][0][0:len(timelist[i][0])-1])+timelist[i][0][1:len(timelist[i][0])]*np.exp(-l*timelist[i][0][1:len(timelist[i][0])])))/np.sqrt(stdlist[i][0][0:len(stdlist[i][0])-1])\n",
    "            \n",
    "        return np.asarray(y)\n",
    "    \n",
    "    def yN0(time,l,std):\n",
    "        return (1/l)*(np.exp(-l*time[0:len(time)-1])-np.exp(-l*time[1:len(time)]))/np.sqrt(std[0:len(std)-1])\n",
    "    \n",
    "    unique_values = [yl(t,l,measured,N0)]\n",
    "    \n",
    "    for i in np.arange(numbercycles):\n",
    "        unique_values.extend([yB(t[i][0],measured[i][0])])\n",
    "        \n",
    "    for i in np.arange(numbercycles):\n",
    "        unique_values.extend([yN0(t[i][0],l,measured[i][0])])\n",
    "\n",
    "    \n",
    "    hessian=[]\n",
    "    for i in np.arange(0,1+numbercycles*2):\n",
    "        for j in np.arange(0,1+numbercycles*2):\n",
    "            hessian.extend([np.sum(unique_values[i]*unique_values[j])])\n",
    "    \n",
    "    h = np.asarray(hessian)\n",
    "    \n",
    "    #hessian = np.array([[a11,a12,a13,a14],[a12,a22,a23,a24],[a13,a23,a33,a34],[a14,a24,a34,a44]])\n",
    "    covariance_matrix =  inv(h.reshape((1+numbercycles*2,1+numbercycles*2)))\n",
    "    return covariance_matrix"
   ]
  },
  {
   "cell_type": "markdown",
   "metadata": {},
   "source": [
    "$$  y(x_i;a) = \\sum_{j=0} \\dfrac{\\ln\\left(\\left|\\frac{DN_{0,i}\\mathrm{e}^{-\\lambda T_{i-1}}+B_iD+1}{DN_{0,i}\\mathrm{e}^{-\\lambda T_i}+B_iD+1}\\right|\\right)+B_iD\\lambda( T_i-T_{i-1})}{\\left(B_iD^2+D\\right)\\lambda} $$"
   ]
  },
  {
   "cell_type": "code",
   "execution_count": 279,
   "metadata": {},
   "outputs": [
    {
     "ename": "ImportError",
     "evalue": "cannot import name 'sym'",
     "output_type": "error",
     "traceback": [
      "\u001b[1;31m---------------------------------------------------------------------------\u001b[0m",
      "\u001b[1;31mImportError\u001b[0m                               Traceback (most recent call last)",
      "\u001b[1;32m<ipython-input-279-fa9acc09907a>\u001b[0m in \u001b[0;36m<module>\u001b[1;34m\u001b[0m\n\u001b[1;32m----> 1\u001b[1;33m \u001b[1;32mfrom\u001b[0m \u001b[0msympy\u001b[0m \u001b[1;32mimport\u001b[0m \u001b[0msym\u001b[0m\u001b[1;33m\u001b[0m\u001b[1;33m\u001b[0m\u001b[0m\n\u001b[0m\u001b[0;32m      2\u001b[0m \u001b[1;33m\u001b[0m\u001b[0m\n\u001b[0;32m      3\u001b[0m \u001b[0mL\u001b[0m\u001b[1;33m,\u001b[0m \u001b[0md\u001b[0m\u001b[1;33m,\u001b[0m \u001b[0mn\u001b[0m\u001b[1;33m,\u001b[0m \u001b[0mb\u001b[0m\u001b[1;33m,\u001b[0m \u001b[0mti\u001b[0m\u001b[1;33m,\u001b[0m \u001b[0mti1\u001b[0m \u001b[1;33m=\u001b[0m \u001b[0msyp\u001b[0m\u001b[1;33m.\u001b[0m\u001b[0msymbols\u001b[0m\u001b[1;33m(\u001b[0m\u001b[1;34m'l D N B ti ti1'\u001b[0m\u001b[1;33m,\u001b[0m \u001b[0mreal\u001b[0m \u001b[1;33m=\u001b[0m \u001b[1;32mTrue\u001b[0m\u001b[1;33m)\u001b[0m\u001b[1;33m\u001b[0m\u001b[1;33m\u001b[0m\u001b[0m\n\u001b[0;32m      4\u001b[0m \u001b[0minit_printing\u001b[0m\u001b[1;33m(\u001b[0m\u001b[0muse_unicode\u001b[0m\u001b[1;33m=\u001b[0m\u001b[1;32mTrue\u001b[0m\u001b[1;33m)\u001b[0m\u001b[1;33m\u001b[0m\u001b[1;33m\u001b[0m\u001b[0m\n\u001b[0;32m      5\u001b[0m \u001b[1;33m\u001b[0m\u001b[0m\n",
      "\u001b[1;31mImportError\u001b[0m: cannot import name 'sym'"
     ]
    }
   ],
   "source": [
    "from sympy import sym\n",
    "\n",
    "L, d, n, b, ti, ti1 = syp.symbols('l D N B ti ti1', real = True)\n",
    "init_printing(use_unicode=True)\n",
    "\n",
    "expression = (sym.log((d*n*sym.exp(-L*ti1)+b*d+1)/(d*n*sym.exp(-L*ti)+b*d+1)) + b*d*L*(ti-ti1))/(d*L*(b*d+1))"
   ]
  },
  {
   "cell_type": "code",
   "execution_count": 12,
   "metadata": {},
   "outputs": [],
   "source": [
    "def covariance_matrixd(best_fit_parameters,counts,deadtime ,cutoff, binsize):\n",
    "\"\"\"This function returns the covariance matrix for a deadtime model fit.\n",
    "    Parameters\n",
    "    ----------\n",
    "    best_fit_parameters : list, values of the best fit parameters from the minimization function.\n",
    "    counts : list of Pandas Dataframes, counts data for multiple cycles or all cycles in a run.\n",
    "    deadtime : float, system deadtime in seconds.\n",
    "    cutoff : int, a time in seconds to indicate where to start making the bins after t=0.\n",
    "    binsize : int, size of the bins in seconds.\n",
    "    Returns\n",
    "    -------\n",
    "    covariance_matrix : matrix in order of deadtime,rc,background counts_0,... background counts_i, initial counts_0, initial counts_i.\n",
    "    \"\"\"      \n",
    "    cycle_data = counts\n",
    "    numbercycles = len(counts)\n",
    "    t=[]\n",
    "    measured=[]\n",
    "    for i in np.arange(0,numbercycles):\n",
    "        t_temporary,measured_temporary = count_rate(single_run_coincidences=cycle_data[i], cutoff=cutoff, bin_size = binsize)\n",
    "        np.asarray(measured_temporary)[0:len(measured_temporary)-1][np.where(measured_temporary[0:len(measured_temporary)-1]==0)] = 1\n",
    "        t_temporary = t_temporary[0:int(210/binsize)-cutoff]\n",
    "        measured_temporary = measured_temporary[0:int(210/binsize)-cutoff]\n",
    "        t.extend([[t_temporary]])\n",
    "        measured.extend([[measured_temporary]])\n",
    "    \n",
    "    D = deadtime\n",
    "    l = best_fit_parameters[0]\n",
    "    B = best_fit_parameters[1:1+numbercycles]\n",
    "    N0 = best_fit_parameters[1+numbercycles:1+2*numbercycles]\n",
    "\n",
    "    \n",
    "    def yB(timelist,l,D,stdlist,N,B,i):\n",
    "        y = (-1*((B*D*l*(timelist[i][0][1:len(timelist[i][0])]-timelist[i][0][0:len(timelist[i][0])-1])+np.log((B*D+D*N*np.exp(-l*timelist[i][0][0:len(timelist[i][0])-1])+1)/(B*D+D*N*np.exp(-l*timelist[i][0][1:len(timelist[i][0])])+1))))/(l*(B*D+1)**2)+(D*l*(timelist[i][0][1:len(timelist[i][0])]-timelist[i][0][0:len(timelist[i][0])-1])+(((D/(B*D+D*N*np.exp(-l*timelist[i][0][1:len(timelist[i][0])])+1))-(D*(B*D+D*N*np.exp(-l*timelist[i][0][0:len(timelist[i][0])-1])+1)/(B*D+D*N*np.exp(-l*timelist[i][0][1:len(timelist[i][0])])+1)**2 ))*(B*D+D*N*np.exp(-l*timelist[i][0][1:len(timelist[i][0])])+1)/(1+B*D+D*N*np.exp(-l*timelist[i][0][0:len(timelist[i][0])-1])))/(D*l*(B*D+1))))/np.sqrt(stdlist[i][0][0:len(stdlist[i][0])-1])\n",
    "        return np.asarray(y)\n",
    "    \n",
    "    def yl(timelist,l,D,stdlist,Nlist,Blist):\n",
    "        y=0\n",
    "        for i in np.arange(len(Nlist)):\n",
    "            y += ((Blist[i]*D*(timelist[i][0][1:len(timelist[i][0])]-timelist[i][0][0:len(timelist[i][0])-1])+((D*Nlist[i]*timelist[i][0][1:len(timelist[i][0])]*(Blist[i]*D+D*Nlist[i]*np.exp(-l*timelist[i][0][0:len(timelist[i][0])-1])+1)*np.exp(-l*timelist[i][0][1:len(timelist[i][0])])/(Blist[i]*D+D*Nlist[i]*np.exp(-l*timelist[i][0][1:len(timelist[i][0])])+1)**2-(D*Nlist[i]*timelist[i][0][0:len(timelist[i][0])-1]*np.exp(-l*timelist[i][0][0:len(timelist[i][0])-1]))/(Blist[i]*D+D*Nlist[i]*np.exp(-l*timelist[i][0][1:len(timelist[i][0])])+1))*(Blist[i]*D+D*Nlist[i]*np.exp(-l*timelist[i][0][1:len(timelist[i][0])])+1))/(Blist[i]*D+D*Nlist[i]*np.exp(-l*timelist[i][0][0:len(timelist[i][0])-1])+1))/(D*l*(Blist[i]*D+1)) - (Blist[i]*D*l*(timelist[i][0][1:len(timelist[i][0])]-timelist[i][0][0:len(timelist[i][0])-1])+np.log((Blist[i]*D+D*Nlist[i]*np.exp(-l*timelist[i][0][0:len(timelist[i][0])-1])+1)/(Blist[i]*D+D*Nlist[i]*np.exp(-l*timelist[i][0][1:len(timelist[i][0])])+1)))/(D*(l**2)*(Blist[i]*D+1)))/np.sqrt(stdlist[i][0][0:len(stdlist[i][0])-1])\n",
    "        return np.asarray(y)\n",
    "    \n",
    "    def yN0(timelist,l,D,stdlist,N,B,i):\n",
    "        y = (((D*np.exp(-l*timelist[i][0][0:len(timelist[i][0])-1])/(B*D+D*N*np.exp(-l*timelist[i][0][1:len(timelist[i][0])])+1) - (D*(B*D+D*N*np.exp(-l*timelist[i][0][0:len(timelist[i][0])-1])+1)*np.exp(-l*timelist[i][0][1:len(timelist[i][0])]))/(B*D+D*N*np.exp(-l*timelist[i][0][1:len(timelist[i][0])])+1)**2)*(B*D+D*N*np.exp(-l*timelist[i][0][1:len(timelist[i][0])])+1))/(D*l*(B*D+1)*(B*D+D*N*np.exp(-l*timelist[i][0][0:len(timelist[i][0])-1])+1)))/np.sqrt(stdlist[i][0][0:len(stdlist[i][0])-1])\n",
    "        return np.asarray(y)\n",
    "    \n",
    "    def yD(timelist,l,D,stdlist,Nlist,Blist):\n",
    "        y=0\n",
    "        for i in np.arange(len(Nlist)):\n",
    "            \n",
    "            y += (-(Blist[i]*(Blist[i]*D*l*(timelist[i][0][1:len(timelist[i][0])]-timelist[i][0][0:len(timelist[i][0])-1])+np.log((Blist[i]*D+D*Nlist[i]*np.exp(-l*timelist[i][0][0:len(timelist[i][0])-1])+1)/(Blist[i]*D+D*Nlist[i]*np.exp(-l*timelist[i][0][1:len(timelist[i][0])])+1))))/(D*l*(Blist[i]*D+1)**2)  +  (Blist[i]*l*(timelist[i][0][1:len(timelist[i][0])]-timelist[i][0][0:len(timelist[i][0])-1])+((((-Blist[i]-Nlist[i]*np.exp(-l*timelist[i][0][1:len(timelist[i][0])]))*(Blist[i]*D+D*Nlist[i]*np.exp(-l*timelist[i][0][0:len(timelist[i][0])-1])+1))/((Blist[i]*D+D*Nlist[i]*np.exp(-l*timelist[i][0][1:len(timelist[i][0])])+1)**2))+(Blist[i]+Nlist[i]*np.exp(-l*timelist[i][0][0:len(timelist[i][0])-1]))/(Blist[i]*D+D*Nlist[i]*np.exp(-l*timelist[i][0][1:len(timelist[i][0])])+1))*(Blist[i]*D+D*Nlist[i]*np.exp(-l*timelist[i][0][1:len(timelist[i][0])])+1)/(Blist[i]*D+D*Nlist[i]*np.exp(-l*timelist[i][0][0:len(timelist[i][0])-1])+1))/(D*l*(Blist[i]*D+1))  -  (Blist[i]*D*l*(timelist[i][0][1:len(timelist[i][0])]-timelist[i][0][0:len(timelist[i][0])-1])+np.log((Blist[i]*D+D*Nlist[i]*np.exp(-l*timelist[i][0][0:len(timelist[i][0])-1])+1)/(Blist[i]*D+D*Nlist[i]*np.exp(-l*timelist[i][0][1:len(timelist[i][0])])+1)))/((D**2)*l*(Blist[i]*D+1)))/np.sqrt(stdlist[i][0][0:len(stdlist[i][0])-1])\n",
    "        return np.asarray(y)\n",
    "    \n",
    "    unique_values = [yD(t,l,D,measured,N0,B)]\n",
    "    unique_values.extend([yl(t,l,D,measured,N0,B)])\n",
    "    for i in np.arange(numbercycles):\n",
    "        unique_values.extend([yB(t,l,D,measured,N0[i],B[i],i)])\n",
    "    for i in np.arange(numbercycles):\n",
    "        unique_values.extend([yN0(t,l,D,measured,N0[i],B[i],i)])\n",
    "\n",
    "    \n",
    "    hessian=[]\n",
    "    for i in np.arange(0,2+numbercycles*2):\n",
    "        for j in np.arange(0,2+numbercycles*2):\n",
    "            hessian.extend([np.sum(unique_values[i]*unique_values[j])])\n",
    "    \n",
    "    h = np.asarray(hessian)\n",
    "    \n",
    "    #hessian = np.array([[a11,a12,a13,a14],[a12,a22,a23,a24],[a13,a23,a33,a34],[a14,a24,a34,a44]])\n",
    "    covariance_matrix =  inv(h.reshape((2+numbercycles*2,2+numbercycles*2)))\n",
    "    return covariance_matrix"
   ]
  },
  {
   "cell_type": "markdown",
   "metadata": {},
   "source": [
    "# Example Use:"
   ]
  },
  {
   "cell_type": "markdown",
   "metadata": {},
   "source": [
    "## Create a pandas dataframe of the counts for ch1 and ch2 of the digitizer"
   ]
  },
  {
   "cell_type": "code",
   "execution_count": 13,
   "metadata": {},
   "outputs": [],
   "source": [
    "data = Run_Data(run_name)"
   ]
  },
  {
   "cell_type": "code",
   "execution_count": 281,
   "metadata": {},
   "outputs": [
    {
     "data": {
      "text/html": [
       "<div>\n",
       "<style scoped>\n",
       "    .dataframe tbody tr th:only-of-type {\n",
       "        vertical-align: middle;\n",
       "    }\n",
       "\n",
       "    .dataframe tbody tr th {\n",
       "        vertical-align: top;\n",
       "    }\n",
       "\n",
       "    .dataframe thead th {\n",
       "        text-align: right;\n",
       "    }\n",
       "</style>\n",
       "<table border=\"1\" class=\"dataframe\">\n",
       "  <thead>\n",
       "    <tr style=\"text-align: right;\">\n",
       "      <th></th>\n",
       "      <th>TIMETAG</th>\n",
       "      <th>ENERGY</th>\n",
       "      <th>ENERGYSHORT</th>\n",
       "      <th>FLAGS</th>\n",
       "    </tr>\n",
       "  </thead>\n",
       "  <tbody>\n",
       "    <tr>\n",
       "      <th>0</th>\n",
       "      <td>175704934272</td>\n",
       "      <td>147</td>\n",
       "      <td>140</td>\n",
       "      <td>0x4400</td>\n",
       "    </tr>\n",
       "    <tr>\n",
       "      <th>1</th>\n",
       "      <td>316757152710</td>\n",
       "      <td>144</td>\n",
       "      <td>140</td>\n",
       "      <td>0x4400</td>\n",
       "    </tr>\n",
       "    <tr>\n",
       "      <th>2</th>\n",
       "      <td>491867333157</td>\n",
       "      <td>154</td>\n",
       "      <td>149</td>\n",
       "      <td>0x4400</td>\n",
       "    </tr>\n",
       "    <tr>\n",
       "      <th>3</th>\n",
       "      <td>602186772266</td>\n",
       "      <td>136</td>\n",
       "      <td>132</td>\n",
       "      <td>0x4400</td>\n",
       "    </tr>\n",
       "    <tr>\n",
       "      <th>4</th>\n",
       "      <td>617917005222</td>\n",
       "      <td>154</td>\n",
       "      <td>149</td>\n",
       "      <td>0x4400</td>\n",
       "    </tr>\n",
       "    <tr>\n",
       "      <th>...</th>\n",
       "      <td>...</td>\n",
       "      <td>...</td>\n",
       "      <td>...</td>\n",
       "      <td>...</td>\n",
       "    </tr>\n",
       "    <tr>\n",
       "      <th>13765028</th>\n",
       "      <td>1862390168485414</td>\n",
       "      <td>156</td>\n",
       "      <td>149</td>\n",
       "      <td>0x4400</td>\n",
       "    </tr>\n",
       "    <tr>\n",
       "      <th>13765029</th>\n",
       "      <td>1863958730877177</td>\n",
       "      <td>144</td>\n",
       "      <td>140</td>\n",
       "      <td>0x4400</td>\n",
       "    </tr>\n",
       "    <tr>\n",
       "      <th>13765030</th>\n",
       "      <td>1864129248381229</td>\n",
       "      <td>154</td>\n",
       "      <td>149</td>\n",
       "      <td>0x4400</td>\n",
       "    </tr>\n",
       "    <tr>\n",
       "      <th>13765031</th>\n",
       "      <td>1864410007964693</td>\n",
       "      <td>144</td>\n",
       "      <td>140</td>\n",
       "      <td>0x4400</td>\n",
       "    </tr>\n",
       "    <tr>\n",
       "      <th>13765032</th>\n",
       "      <td>1864756965044332</td>\n",
       "      <td>137</td>\n",
       "      <td>133</td>\n",
       "      <td>0x4400</td>\n",
       "    </tr>\n",
       "  </tbody>\n",
       "</table>\n",
       "<p>13765033 rows × 4 columns</p>\n",
       "</div>"
      ],
      "text/plain": [
       "                   TIMETAG  ENERGY  ENERGYSHORT   FLAGS\n",
       "0             175704934272     147          140  0x4400\n",
       "1             316757152710     144          140  0x4400\n",
       "2             491867333157     154          149  0x4400\n",
       "3             602186772266     136          132  0x4400\n",
       "4             617917005222     154          149  0x4400\n",
       "...                    ...     ...          ...     ...\n",
       "13765028  1862390168485414     156          149  0x4400\n",
       "13765029  1863958730877177     144          140  0x4400\n",
       "13765030  1864129248381229     154          149  0x4400\n",
       "13765031  1864410007964693     144          140  0x4400\n",
       "13765032  1864756965044332     137          133  0x4400\n",
       "\n",
       "[13765033 rows x 4 columns]"
      ]
     },
     "execution_count": 281,
     "metadata": {},
     "output_type": "execute_result"
    }
   ],
   "source": [
    "#data for channel 0\n",
    "data[0]"
   ]
  },
  {
   "cell_type": "markdown",
   "metadata": {},
   "source": [
    "## Split the data into the individual cycles"
   ]
  },
  {
   "cell_type": "code",
   "execution_count": 15,
   "metadata": {},
   "outputs": [],
   "source": [
    "cycles = Split_Data(data[0],data[1])"
   ]
  },
  {
   "cell_type": "code",
   "execution_count": 16,
   "metadata": {
    "scrolled": true
   },
   "outputs": [
    {
     "data": {
      "text/plain": [
       "[                TIMETAG  ENERGY  ENERGYSHORT   FLAGS\n",
       " 0       140236947896901     159          154  0x4400\n",
       " 1       140237041556435     141          137  0x4400\n",
       " 2       140237049948941     165          158  0x4400\n",
       " 3       140237071872949     149          145  0x4400\n",
       " 4       140237073773033     153          148  0x4400\n",
       " ...                 ...     ...          ...     ...\n",
       " 720175  350604249566979     150          137  0x4400\n",
       " 720176  350690904100759     156          151  0x4400\n",
       " 720177  351090341124902     143          139  0x4400\n",
       " 720178  351143782810951     148          137  0x4400\n",
       " 720179  351277579336957     165          158  0x4400\n",
       " \n",
       " [720180 rows x 4 columns],\n",
       "                 TIMETAG  ENERGY  ENERGYSHORT   FLAGS\n",
       " 0       440281016497726     153          145  0x4400\n",
       " 1       440281103562381     150          140  0x4400\n",
       " 2       440281127116951     150          146  0x4400\n",
       " 3       440281132829048     155          150  0x4400\n",
       " 4       440281179205796     153          144  0x4400\n",
       " ...                 ...     ...          ...     ...\n",
       " 730481  651014928928646     139          136  0x4400\n",
       " 730482  651069564229878     160          143  0x4400\n",
       " 730483  651074132785345     158          150  0x4400\n",
       " 730484  651133061276777     153          148  0x4400\n",
       " 730485  651270265688151     139          135  0x4400\n",
       " \n",
       " [730486 rows x 4 columns],\n",
       "                 TIMETAG  ENERGY  ENERGYSHORT   FLAGS\n",
       " 0       740325130641335     156          150  0x4400\n",
       " 1       740325149365573     154          147  0x4400\n",
       " 2       740325203508796     141          137  0x4400\n",
       " 3       740325206525195     161          153  0x4400\n",
       " 4       740325208320950     149          145  0x4400\n",
       " ...                 ...     ...          ...     ...\n",
       " 725353  950671654265055     154          149  0x4400\n",
       " 725354  950896822728456     147          142  0x4400\n",
       " 725355  950905040349451     160          148  0x4400\n",
       " 725356  951282324538249     149          141  0x4400\n",
       " 725357  951346537289743     155          145  0x4400\n",
       " \n",
       " [725358 rows x 4 columns],\n",
       "                  TIMETAG  ENERGY  ENERGYSHORT   FLAGS\n",
       " 0       1040370390902325     149          140  0x4400\n",
       " 1       1040370408312000     137          133  0x4400\n",
       " 2       1040370419300927     144          140  0x4400\n",
       " 3       1040370452125389     155          149  0x4400\n",
       " 4       1040370512496202     142          138  0x4400\n",
       " ...                  ...     ...          ...     ...\n",
       " 795559  1250923721785330     156          150  0x4400\n",
       " 795560  1251141219140944     151          147  0x4400\n",
       " 795561  1251163307236848     153          148  0x4400\n",
       " 795562  1251216771709789     159          144  0x4400\n",
       " 795563  1251375277989332     160          150  0x4400\n",
       " \n",
       " [795564 rows x 4 columns],\n",
       "                  TIMETAG  ENERGY  ENERGYSHORT   FLAGS\n",
       " 0       1340413352545180     161          153  0x4400\n",
       " 1       1340413381309538     155          147  0x4400\n",
       " 2       1340413469844950     165          158  0x4400\n",
       " 3       1340413495372452     146          142  0x4400\n",
       " 4       1340413511092852     145          141  0x4400\n",
       " ...                  ...     ...          ...     ...\n",
       " 765812  1551196673134743     157          138  0x4400\n",
       " 765813  1551198387073198     161          153  0x4400\n",
       " 765814  1551294201948935     156          151  0x4400\n",
       " 765815  1551337361241337     161          150  0x4400\n",
       " 765816  1551447326870484     149          139  0x4400\n",
       " \n",
       " [765817 rows x 4 columns]]"
      ]
     },
     "execution_count": 16,
     "metadata": {},
     "output_type": "execute_result"
    }
   ],
   "source": [
    "#Data for channel 0 split by the triggering in channel 1\n",
    "cycles"
   ]
  },
  {
   "cell_type": "markdown",
   "metadata": {},
   "source": [
    "## Example of how to find the best fit deadtime:"
   ]
  },
  {
   "cell_type": "code",
   "execution_count": 53,
   "metadata": {
    "scrolled": true
   },
   "outputs": [
    {
     "name": "stderr",
     "output_type": "stream",
     "text": [
      "\n",
      "  0%|          | 0/40 [00:00<?, ?it/s]\n",
      "  2%|▎         | 1/40 [00:27<17:40, 27.19s/it]\n",
      "  5%|▌         | 2/40 [00:54<17:12, 27.18s/it]\n",
      "  8%|▊         | 3/40 [01:13<15:18, 24.83s/it]\n",
      " 10%|█         | 4/40 [01:32<13:52, 23.12s/it]\n",
      " 12%|█▎        | 5/40 [01:51<12:42, 21.80s/it]\n",
      " 15%|█▌        | 6/40 [02:12<12:14, 21.61s/it]\n",
      " 18%|█▊        | 7/40 [02:30<11:16, 20.50s/it]\n",
      " 20%|██        | 8/40 [02:48<10:29, 19.67s/it]\n",
      " 22%|██▎       | 9/40 [03:08<10:09, 19.67s/it]\n",
      " 25%|██▌       | 10/40 [03:27<09:52, 19.76s/it]\n",
      " 28%|██▊       | 11/40 [03:46<09:18, 19.25s/it]\n",
      " 30%|███       | 12/40 [04:03<08:46, 18.81s/it]\n",
      " 32%|███▎      | 13/40 [04:23<08:38, 19.20s/it]\n",
      " 35%|███▌      | 14/40 [04:42<08:11, 18.89s/it]\n",
      " 38%|███▊      | 15/40 [05:00<07:49, 18.78s/it]\n",
      " 40%|████      | 16/40 [05:18<07:22, 18.45s/it]\n",
      " 42%|████▎     | 17/40 [05:36<07:00, 18.28s/it]\n",
      " 45%|████▌     | 18/40 [05:54<06:39, 18.16s/it]\n",
      " 48%|████▊     | 19/40 [06:12<06:22, 18.21s/it]\n",
      " 50%|█████     | 20/40 [06:30<06:03, 18.19s/it]\n",
      " 52%|█████▎    | 21/40 [06:48<05:44, 18.12s/it]\n",
      " 55%|█████▌    | 22/40 [07:06<05:27, 18.17s/it]\n",
      " 57%|█████▊    | 23/40 [07:24<05:06, 18.04s/it]\n",
      " 60%|██████    | 24/40 [07:42<04:47, 17.96s/it]\n",
      " 62%|██████▎   | 25/40 [08:01<04:34, 18.32s/it]\n",
      " 65%|██████▌   | 26/40 [08:19<04:16, 18.33s/it]\n",
      " 68%|██████▊   | 27/40 [08:37<03:56, 18.16s/it]\n",
      " 70%|███████   | 28/40 [08:55<03:38, 18.18s/it]\n",
      " 72%|███████▎  | 29/40 [09:14<03:22, 18.40s/it]\n",
      " 75%|███████▌  | 30/40 [09:32<03:02, 18.22s/it]\n",
      " 78%|███████▊  | 31/40 [09:51<02:46, 18.55s/it]\n",
      " 80%|████████  | 32/40 [10:11<02:30, 18.76s/it]\n",
      " 82%|████████▎ | 33/40 [10:28<02:08, 18.42s/it]\n",
      " 85%|████████▌ | 34/40 [10:46<01:49, 18.23s/it]\n",
      " 88%|████████▊ | 35/40 [11:03<01:29, 18.00s/it]\n",
      " 90%|█████████ | 36/40 [11:22<01:12, 18.05s/it]\n",
      " 92%|█████████▎| 37/40 [11:40<00:54, 18.28s/it]\n",
      " 95%|█████████▌| 38/40 [12:01<00:37, 18.93s/it]\n",
      " 98%|█████████▊| 39/40 [12:19<00:18, 18.63s/it]\n",
      "100%|██████████| 40/40 [12:39<00:00, 19.21s/it]\n"
     ]
    }
   ],
   "source": [
    "#this takes a while to run, deadtime = 1.853e-05 for cutoff = 0 for data right now\n",
    "deadtimelist = np.arange(1e-8,2e-5,5e-7)\n",
    "fitlist = []\n",
    "for i in tqdm(deadtimelist):\n",
    "    op2 = optimize_sharedvalues(cycles,cutoff=30,deadtime=i,binsize=1)\n",
    "    fitlist[0:0] = [op2]\n",
    "fitlist.reverse()"
   ]
  },
  {
   "cell_type": "markdown",
   "metadata": {},
   "source": [
    "## Plotting the Deadtime minimization:"
   ]
  },
  {
   "cell_type": "code",
   "execution_count": 174,
   "metadata": {},
   "outputs": [
    {
     "data": {
      "text/plain": [
       "(array([1.251e-05]), array([876.06622777]))"
      ]
     },
     "execution_count": 174,
     "metadata": {},
     "output_type": "execute_result"
    },
    {
     "data": {
      "image/png": "[encoded data removed]",
      "text/plain": [
       "<Figure size 432x288 with 1 Axes>"
      ]
     },
     "metadata": {
      "needs_background": "light"
     },
     "output_type": "display_data"
    }
   ],
   "source": [
    "\n",
    "plt.figure(figsize=(11,8))\n",
    "\n",
    "chilist = np.asarray([fitlist[i].fun for i in np.arange(0,len(fitlist)) ])\n",
    "plt.scatter(deadtimelist,chilist)\n",
    "plt.xlim(1.3e-8,2e-5)\n",
    "plt.ylim(0,2000)\n",
    "\n",
    "#Finding the deadtime that corresponds to the minimum chi-squared value\n",
    "np.asarray(deadtimelist)[np.where(chilist==chilist.min())],chilist[np.where(chilist==chilist.min())]"
   ]
  },
  {
   "cell_type": "markdown",
   "metadata": {},
   "source": [
    "## Find the best fit for shared deadtime and halflife using a simple exponential"
   ]
  },
  {
   "cell_type": "code",
   "execution_count": 102,
   "metadata": {},
   "outputs": [
    {
     "name": "stderr",
     "output_type": "stream",
     "text": [
      "C:\\Users\\higgi\\Anaconda3\\lib\\site-packages\\scipy\\optimize\\optimize.py:1013: RuntimeWarning: divide by zero encountered in double_scalars\n",
      "  rhok = 1.0 / (numpy.dot(yk, sk))\n"
     ]
    }
   ],
   "source": [
    "op = optimize_sharedvalues_simple(cycles,cutoff=70,binsize=1)"
   ]
  },
  {
   "cell_type": "code",
   "execution_count": 103,
   "metadata": {},
   "outputs": [
    {
     "data": {
      "text/plain": [
       "      fun: 700.8710513653325\n",
       " hess_inv: array([[1.76797988e-08, 2.47789045e-05, 3.31142169e-05, 2.93744645e-05,\n",
       "        4.02065455e-05, 5.27255230e-05, 1.55921070e-03, 1.19075226e-03,\n",
       "        1.44287503e-03, 1.09732746e-03, 4.68584050e-04],\n",
       "       [2.47789045e-05, 2.20855553e-01, 4.69194683e-02, 5.34568045e-02,\n",
       "        6.10257835e-02, 8.09493643e-02, 9.52806246e-01, 1.47069152e+00,\n",
       "        1.52223947e+00, 1.32802504e+00, 5.32301566e-01],\n",
       "       [3.31142169e-05, 4.69194683e-02, 2.54443996e-01, 7.51061572e-02,\n",
       "        8.17970240e-02, 9.69507940e-02, 2.65067992e+00, 1.63389763e+00,\n",
       "        2.11449691e+00, 1.45422726e+00, 9.52354709e-01],\n",
       "       [2.93744645e-05, 5.34568045e-02, 7.51061572e-02, 2.13924135e-01,\n",
       "        7.35873285e-02, 8.36945173e-02, 2.11931529e+00, 1.49531250e+00,\n",
       "        1.80681968e+00, 1.33721231e+00, 9.07973182e-01],\n",
       "       [4.02065455e-05, 6.10257835e-02, 8.17970240e-02, 7.35873285e-02,\n",
       "        2.87937991e-01, 1.28682501e-01, 3.33561255e+00, 2.20728929e+00,\n",
       "        2.81271246e+00, 1.78954606e+00, 1.09985195e+00],\n",
       "       [5.27255230e-05, 8.09493643e-02, 9.69507940e-02, 8.36945173e-02,\n",
       "        1.28682501e-01, 3.33403228e-01, 4.48239404e+00, 3.69827881e+00,\n",
       "        4.47742423e+00, 3.23472384e+00, 5.59047556e-01],\n",
       "       [1.55921070e-03, 9.52806246e-01, 2.65067992e+00, 2.11931529e+00,\n",
       "        3.33561255e+00, 4.48239404e+00, 1.94424287e+02, 1.14345935e+02,\n",
       "        1.50532055e+02, 1.06484507e+02, 4.86433179e+01],\n",
       "       [1.19075226e-03, 1.47069152e+00, 1.63389763e+00, 1.49531250e+00,\n",
       "        2.20728929e+00, 3.69827881e+00, 1.14345935e+02, 1.05065077e+02,\n",
       "        1.21198817e+02, 9.91263054e+01, 2.68344689e+01],\n",
       "       [1.44287503e-03, 1.52223947e+00, 2.11449691e+00, 1.80681968e+00,\n",
       "        2.81271246e+00, 4.47742423e+00, 1.50532055e+02, 1.21198817e+02,\n",
       "        1.47172966e+02, 1.13868452e+02, 3.25530323e+01],\n",
       "       [1.09732746e-03, 1.32802504e+00, 1.45422726e+00, 1.33721231e+00,\n",
       "        1.78954606e+00, 3.23472384e+00, 1.06484507e+02, 9.91263054e+01,\n",
       "        1.13868452e+02, 9.40715802e+01, 2.51625173e+01],\n",
       "       [4.68584050e-04, 5.32301566e-01, 9.52354709e-01, 9.07973182e-01,\n",
       "        1.09985195e+00, 5.59047556e-01, 4.86433179e+01, 2.68344689e+01,\n",
       "        3.25530323e+01, 2.51625173e+01, 5.14449377e+01]])\n",
       "      jac: array([ 3.12042236e-03,  0.00000000e+00,  0.00000000e+00,  0.00000000e+00,\n",
       "        0.00000000e+00, -7.62939453e-06,  0.00000000e+00, -1.52587891e-05,\n",
       "        1.52587891e-05,  0.00000000e+00,  7.62939453e-06])\n",
       "  message: 'Desired error not necessarily achieved due to precision loss.'\n",
       "     nfev: 742\n",
       "      nit: 43\n",
       "     njev: 57\n",
       "   status: 2\n",
       "  success: False\n",
       "        x: array([ 3.96412971e-02, -3.68076515e-01, -1.77910888e-01, -6.26017479e-01,\n",
       "       -6.57542450e-01, -1.66666139e+00,  2.13341813e+03,  2.16846480e+03,\n",
       "        2.13573774e+03,  2.40982746e+03,  2.29015061e+03])"
      ]
     },
     "execution_count": 103,
     "metadata": {},
     "output_type": "execute_result"
    }
   ],
   "source": [
    "op"
   ]
  },
  {
   "cell_type": "markdown",
   "metadata": {},
   "source": [
    "## Plot the residuals"
   ]
  },
  {
   "cell_type": "code",
   "execution_count": 104,
   "metadata": {},
   "outputs": [
    {
     "data": {
      "text/plain": [
       "700"
      ]
     },
     "execution_count": 104,
     "metadata": {},
     "output_type": "execute_result"
    }
   ],
   "source": [
    "res = residuals(counts=cycles,cycle_number=4,values=op.x,binsize=1,cutoff=70)\n",
    "len(res['time'])*5"
   ]
  },
  {
   "cell_type": "code",
   "execution_count": 105,
   "metadata": {},
   "outputs": [
    {
     "data": {
      "image/png": "[encoded data removed]",
      "text/plain": [
       "<Figure size 432x288 with 1 Axes>"
      ]
     },
     "metadata": {
      "needs_background": "light"
     },
     "output_type": "display_data"
    }
   ],
   "source": [
    "plt.scatter(res['time'],res['residuals'])\n",
    "plt.title('Simple Exponential Fit Residuals: Cycle 4');\n",
    "plt.savefig('simpcycle4res.png')"
   ]
  },
  {
   "cell_type": "code",
   "execution_count": 106,
   "metadata": {
    "scrolled": true
   },
   "outputs": [
    {
     "data": {
      "image/png": "[encoded data removed]",
      "text/plain": [
       "<Figure size 432x288 with 1 Axes>"
      ]
     },
     "metadata": {
      "needs_background": "light"
     },
     "output_type": "display_data"
    }
   ],
   "source": [
    "plt.scatter(res['time'],res['fit'],s=10,label=\"Simple Exponenial Fit\")\n",
    "plt.scatter(res['time'],res['measured'][0:len(res['time'])],s=10,label=\"Our Measured Data\")\n",
    "\n",
    "\n",
    "plt.title('Cycle 4');\n",
    "plt.ylabel('Log Counts')\n",
    "plt.xlabel('Time (s)')\n",
    "#plt.yscale('log')\n",
    "plt.legend();\n",
    "#plt.savefig('cutoff70simpcycle4.png')"
   ]
  },
  {
   "cell_type": "markdown",
   "metadata": {},
   "source": [
    "## Find the best fit for shared deadtime and halflife using the deadtime model"
   ]
  },
  {
   "cell_type": "code",
   "execution_count": 86,
   "metadata": {},
   "outputs": [],
   "source": [
    "opd = optimize_sharedvalues(cycles,cutoff=0,deadtime=1.853e-05,binsize=1)"
   ]
  },
  {
   "cell_type": "code",
   "execution_count": 87,
   "metadata": {},
   "outputs": [
    {
     "data": {
      "text/plain": [
       "      fun: 1373.4632245392424\n",
       " hess_inv: array([[ 1.14810871e-10,  8.38792161e-07,  6.42223782e-07,\n",
       "         8.29812694e-07,  9.97377757e-07,  3.25137117e-07,\n",
       "        -6.18165166e-07,  9.42891925e-05,  6.14076206e-05,\n",
       "        -1.36701804e-05,  1.13966773e-04],\n",
       "       [ 8.38792161e-07,  1.30177463e-01,  5.06319427e-03,\n",
       "        -5.80208022e-03,  1.20081145e-03, -2.24997936e-03,\n",
       "         1.61107957e-02, -2.90214321e-01,  1.74014574e-01,\n",
       "         2.12963811e-01, -1.37232869e-01],\n",
       "       [ 6.42223782e-07,  5.06319427e-03,  1.42944771e-01,\n",
       "         5.52796306e-03, -6.03077139e-03,  5.08178391e-03,\n",
       "        -1.15857635e-01,  1.04698650e+00,  3.93172040e-01,\n",
       "        -4.47649832e-01,  1.15344450e+00],\n",
       "       [ 8.29812694e-07, -5.80208022e-03,  5.52796306e-03,\n",
       "         1.28199211e-01,  1.05775487e-03,  8.20833873e-03,\n",
       "         4.86824065e-02,  1.59298689e-01,  4.09388031e-02,\n",
       "        -1.32014800e-02,  1.61607878e-01],\n",
       "       [ 9.97377757e-07,  1.20081145e-03, -6.03077139e-03,\n",
       "         1.05775487e-03,  1.31937100e-01,  6.01280258e-03,\n",
       "        -8.89103164e-02,  1.28561850e+00,  7.37776963e-01,\n",
       "        -5.19061418e-01,  1.46369926e+00],\n",
       "       [ 3.25137117e-07, -2.24997936e-03,  5.08178391e-03,\n",
       "         8.20833873e-03,  6.01280258e-03,  1.46331548e-01,\n",
       "         3.83202508e-02, -5.95074532e-01, -1.22919774e-01,\n",
       "         2.88455506e-01, -5.79471334e-01],\n",
       "       [-6.18165166e-07,  1.61107957e-02, -1.15857635e-01,\n",
       "         4.86824065e-02, -8.89103164e-02,  3.83202508e-02,\n",
       "         1.74958831e+01, -2.19331478e+01,  9.44743071e+00,\n",
       "         3.64906094e+01, -1.97976036e+01],\n",
       "       [ 9.42891925e-05, -2.90214321e-01,  1.04698650e+00,\n",
       "         1.59298689e-01,  1.28561850e+00, -5.95074532e-01,\n",
       "        -2.19331478e+01,  4.08249257e+02,  2.23839739e+02,\n",
       "        -1.06890087e+02,  4.71166723e+02],\n",
       "       [ 6.14076206e-05,  1.74014574e-01,  3.93172040e-01,\n",
       "         4.09388031e-02,  7.37776963e-01, -1.22919774e-01,\n",
       "         9.44743071e+00,  2.23839739e+02,  1.55080517e+02,\n",
       "        -1.52976390e+01,  2.67330285e+02],\n",
       "       [-1.36701804e-05,  2.12963811e-01, -4.47649832e-01,\n",
       "        -1.32014800e-02, -5.19061418e-01,  2.88455506e-01,\n",
       "         3.64906094e+01, -1.06890087e+02, -1.52976390e+01,\n",
       "         9.00841230e+01, -1.12376710e+02],\n",
       "       [ 1.13966773e-04, -1.37232869e-01,  1.15344450e+00,\n",
       "         1.61607878e-01,  1.46369926e+00, -5.79471334e-01,\n",
       "        -1.97976036e+01,  4.71166723e+02,  2.67330285e+02,\n",
       "        -1.12376710e+02,  5.48202138e+02]])\n",
       "      jac: array([ 1.94388454e+03, -1.18777466e+00,  1.27439880e+00,  9.12322998e-02,\n",
       "        2.37411499e-01, -5.06835938e-01, -8.90197754e-02,  2.39562988e-03,\n",
       "       -4.46929932e-02,  5.72052002e-02,  5.47332764e-02])\n",
       "  message: 'Desired error not necessarily achieved due to precision loss.'\n",
       "     nfev: 2209\n",
       "      nit: 46\n",
       "     njev: 169\n",
       "   status: 2\n",
       "  success: False\n",
       "        x: array([4.10083571e-02, 2.07520483e+00, 2.73345696e+00, 1.83637882e+00,\n",
       "       2.03133280e+00, 5.66265503e-01, 3.92240877e+04, 3.99625414e+04,\n",
       "       3.95017600e+04, 4.46488116e+04, 4.25491104e+04])"
      ]
     },
     "execution_count": 87,
     "metadata": {},
     "output_type": "execute_result"
    }
   ],
   "source": [
    "opd"
   ]
  },
  {
   "cell_type": "markdown",
   "metadata": {},
   "source": [
    "## Plot the residuals"
   ]
  },
  {
   "cell_type": "code",
   "execution_count": 92,
   "metadata": {},
   "outputs": [
    {
     "data": {
      "text/plain": [
       "210"
      ]
     },
     "execution_count": 92,
     "metadata": {},
     "output_type": "execute_result"
    }
   ],
   "source": [
    "resd = residuals_deadtime(counts=cycles,cycle_number=4,values=opd.x,binsize=1,cutoff=0)\n",
    "len(resd['time'])"
   ]
  },
  {
   "cell_type": "code",
   "execution_count": 93,
   "metadata": {
    "scrolled": false
   },
   "outputs": [
    {
     "data": {
      "image/png": "[encoded data removed]",
      "text/plain": [
       "<Figure size 432x288 with 1 Axes>"
      ]
     },
     "metadata": {
      "needs_background": "light"
     },
     "output_type": "display_data"
    }
   ],
   "source": [
    "plt.scatter(resd['time'],resd['residuals'])\n",
    "plt.title('Deadtime Fit Residuals: Cycle 4');\n"
   ]
  },
  {
   "cell_type": "code",
   "execution_count": 94,
   "metadata": {},
   "outputs": [
    {
     "data": {
      "image/png": "[encoded data removed]",
      "text/plain": [
       "<Figure size 720x720 with 1 Axes>"
      ]
     },
     "metadata": {
      "needs_background": "light"
     },
     "output_type": "display_data"
    }
   ],
   "source": [
    "plt.figure(figsize=(10,10))\n",
    "plt.scatter(resd['time'],resd['fit'],s=10,label=\"Deadtime Fit\")\n",
    "plt.scatter(resd['time'],resd['measured'][0:len(resd['time'])],s=10,label=\"Our Measured Data\")\n",
    "plt.yscale('log')\n",
    "plt.title('Cycle 4');\n",
    "plt.ylabel('Log Counts')\n",
    "plt.xlabel('Time (s)')\n",
    "plt.legend();\n"
   ]
  },
  {
   "cell_type": "markdown",
   "metadata": {},
   "source": [
    "## Covariance Matrix"
   ]
  },
  {
   "cell_type": "code",
   "execution_count": 95,
   "metadata": {},
   "outputs": [],
   "source": [
    "#covariance matrix for the deadtime model\n",
    "cm = covariance_matrixd(opd.x,cycles,1.853e-05,0,1)"
   ]
  },
  {
   "cell_type": "code",
   "execution_count": 96,
   "metadata": {},
   "outputs": [
    {
     "data": {
      "text/plain": [
       "array([4.87189008e-06, 4.14279243e-05, 6.70857165e+04, 6.21420855e+04,\n",
       "       6.58789405e+04, 3.99864723e+04, 8.07539585e+04, 1.01481684e+05,\n",
       "       9.67765152e+04, 9.99761498e+04, 6.87016080e+04, 1.31028389e+05])"
      ]
     },
     "execution_count": 96,
     "metadata": {},
     "output_type": "execute_result"
    }
   ],
   "source": [
    "np.sqrt(np.diagonal(cm))"
   ]
  },
  {
   "cell_type": "code",
   "execution_count": 100,
   "metadata": {},
   "outputs": [
    {
     "data": {
      "text/plain": [
       "(16.90258350930515, 0.017092785915096442)"
      ]
     },
     "execution_count": 100,
     "metadata": {},
     "output_type": "execute_result"
    }
   ],
   "source": [
    "#fit halflife\n",
    "np.log(2)/(opd.x[0])"
   ]
  },
  {
   "cell_type": "code",
   "execution_count": 101,
   "metadata": {},
   "outputs": [
    {
     "data": {
      "text/plain": [
       "array([ 1.18149402e-03, -3.47575415e+03, -3.09546696e+03, -3.33556818e+03,\n",
       "       -1.99094764e+03, -3.84814690e+03,  4.01248008e+00,  3.77316725e+00,\n",
       "        3.92620125e+00,  2.46299699e+00,  4.87707148e+00])"
      ]
     },
     "execution_count": 101,
     "metadata": {},
     "output_type": "execute_result"
    }
   ],
   "source": [
    "#relative error, formatted in order: decay constant,Background counts, N0 counts \n",
    "np.sqrt(np.diagonal(cm)[1:])/op.x"
   ]
  },
  {
   "cell_type": "markdown",
   "metadata": {},
   "source": [
    "## Other plots code that may be useful in the future"
   ]
  },
  {
   "cell_type": "code",
   "execution_count": 34,
   "metadata": {},
   "outputs": [
    {
     "data": {
      "image/png": "[encoded data removed]",
      "text/plain": [
       "<Figure size 1080x576 with 1 Axes>"
      ]
     },
     "metadata": {
      "needs_background": "light"
     },
     "output_type": "display_data"
    }
   ],
   "source": [
    "plt.figure(figsize=(15,8))\n",
    "plt.tight_layout()\n",
    "plt.title('Run 5 from Feburary 22 (One Second Bins)')\n",
    "plt.ylabel('Counts')\n",
    "plt.xlabel('Time (Seconds)')\n",
    "plt.xlim(60,1865)\n",
    "plt.yscale('log')\n",
    "plt.hist(data[0]['TIMETAG']*10**-12,bins=1865);\n",
    "plt.savefig('Run 5')"
   ]
  },
  {
   "cell_type": "code",
   "execution_count": 217,
   "metadata": {},
   "outputs": [
    {
     "data": {
      "image/png": "[encoded data removed]",
      "text/plain": [
       "<Figure size 792x576 with 1 Axes>"
      ]
     },
     "metadata": {
      "needs_background": "light"
     },
     "output_type": "display_data"
    }
   ],
   "source": [
    "plt.figure(figsize=(11,8))\n",
    "plt.title('Run 5 from Feburary 22 (One Second Bins)')\n",
    "plt.ylabel('Counts')\n",
    "plt.xlabel('Time (Seconds)')\n",
    "plt.xlim(0,1865)\n",
    "xcoords = data[1]['TIMETAG']*10**-12\n",
    "for xc in xcoords:\n",
    "    plt.axvline(x=xc,color='orange')\n",
    "plt.hist(data[0]['TIMETAG']*10**-12,bins=1865);\n",
    "plt.xlim(1250,1600)\n",
    "plt.yscale('log')\n",
    "plt.savefig('Splits')"
   ]
  },
  {
   "cell_type": "code",
   "execution_count": 772,
   "metadata": {},
   "outputs": [
    {
     "data": {
      "image/png": "[encoded data removed]",
      "text/plain": [
       "<Figure size 1008x576 with 6 Axes>"
      ]
     },
     "metadata": {
      "needs_background": "light"
     },
     "output_type": "display_data"
    }
   ],
   "source": [
    "fig,ax = plt.subplots(2,3,figsize=(14,8),sharey=True)\n",
    "fig.suptitle('Individual Cycles')\n",
    "l=0\n",
    "\n",
    "for i in np.arange(0,2):\n",
    "    for j in np.arange(0,3):\n",
    "        if l<=4:\n",
    "            ax[i][j].hist((cycles[l]['TIMETAG']-np.min(cycles[l]['TIMETAG']))*10**-12,bins = 200,label='Cycle Number {0:d}'.format(l+1));\n",
    "            ax[i][j].legend()\n",
    "            ax[i][j].set_ylabel('Counts')\n",
    "            l+=1\n",
    "plt.savefig('Cycles')"
   ]
  },
  {
   "cell_type": "code",
   "execution_count": 275,
   "metadata": {},
   "outputs": [
    {
     "data": {
      "image/png": "[encoded data removed]",
      "text/plain": [
       "<Figure size 432x288 with 1 Axes>"
      ]
     },
     "metadata": {
      "needs_background": "light"
     },
     "output_type": "display_data"
    }
   ],
   "source": [
    "x = np.arange(0,210)\n",
    "y = 2.29015061e+03*np.exp(-3.96412971e-02*np.arange(-70,210-70))+1.66666139e+00\n",
    "plt.scatter(x,y,label = 'Backwards Extrapolated Fit')\n",
    "plt.scatter(x,resd['measured'][0:210],label = 'Measured Data')\n",
    "plt.xlim(0,210)\n",
    "plt.title('Measured Data and Extrapolated Data')\n",
    "plt.ylabel('Counts/second')\n",
    "plt.xlabel('Time')\n",
    "plt.legend();\n",
    "#plt.savefig('Extrapolatedexponentialfit.png')"
   ]
  },
  {
   "cell_type": "code",
   "execution_count": 276,
   "metadata": {},
   "outputs": [],
   "source": [
    "sub = (y/resd['measured'][0:210])\n",
    "\n",
    "def dfit(m,D):\n",
    "    return (1/(1-m*D))\n",
    "\n",
    "def analysis(m,ratio):\n",
    "    \n",
    "    popt, pcov = curve_fit(dfit, xdata=m, ydata=ratio, p0=[1.853e-05])\n",
    "    return(popt,pcov)"
   ]
  },
  {
   "cell_type": "code",
   "execution_count": 277,
   "metadata": {},
   "outputs": [
    {
     "data": {
      "text/plain": [
       "(array([1.39764085e-05]), array([[8.81583843e-13]]))"
      ]
     },
     "execution_count": 277,
     "metadata": {},
     "output_type": "execute_result"
    }
   ],
   "source": [
    "analysis(resd['measured'][0:210],sub)"
   ]
  },
  {
   "cell_type": "code",
   "execution_count": 258,
   "metadata": {},
   "outputs": [
    {
     "data": {
      "image/png": "[encoded data removed]",
      "text/plain": [
       "<Figure size 432x288 with 1 Axes>"
      ]
     },
     "metadata": {
      "needs_background": "light"
     },
     "output_type": "display_data"
    }
   ],
   "source": [
    "plt.plot(resd['measured'][0:210],sub)\n",
    "plt.title('Fractional Deadtime Plot')\n",
    "plt.xlim(resd['measured'][0:210].min(),resd['measured'][0:210].max())\n",
    "plt.plot(resd['measured'][0:210],1/(1 - 1.853e-05*resd['measured'][0:210]))\n",
    "plt.ylabel('Fit / Measured')\n",
    "plt.xlim(0,10000)\n",
    "plt.xlabel('Measured Counts/second');\n",
    "#plt.savefig('fractionaldeadtime.png')"
   ]
  },
  {
   "cell_type": "code",
   "execution_count": 263,
   "metadata": {},
   "outputs": [
    {
     "data": {
      "text/plain": [
       "(0, 10000)"
      ]
     },
     "execution_count": 263,
     "metadata": {},
     "output_type": "execute_result"
    },
    {
     "data": {
      "image/png": "[encoded data removed]",
      "text/plain": [
       "<Figure size 432x288 with 1 Axes>"
      ]
     },
     "metadata": {
      "needs_background": "light"
     },
     "output_type": "display_data"
    }
   ],
   "source": [
    "plt.plot(resd['measured'][0:210],sub)\n",
    "plt.title('Fractional Deadtime Plot')\n",
    "plt.xlim(resd['measured'][0:210].min(),resd['measured'][0:210].max())\n",
    "plt.plot(resd['measured'][0:210],1/(1 - 1.853e-05*resd['measured'][0:210]))\n",
    "plt.ylabel('Fit / Measured')\n",
    "plt.xlabel('Measured Counts/second');\n",
    "plt.xlim(0,10000)\n",
    "#plt.savefig('fractionaldeadtime.png')"
   ]
  },
  {
   "cell_type": "code",
   "execution_count": 268,
   "metadata": {},
   "outputs": [
    {
     "data": {
      "text/plain": [
       "(0, 10000)"
      ]
     },
     "execution_count": 268,
     "metadata": {},
     "output_type": "execute_result"
    },
    {
     "data": {
      "image/png": "[encoded data removed]",
      "text/plain": [
       "<Figure size 432x288 with 1 Axes>"
      ]
     },
     "metadata": {
      "needs_background": "light"
     },
     "output_type": "display_data"
    }
   ],
   "source": [
    "plt.plot(resd['measured'][0:210],sub)\n",
    "plt.title('Fractional Deadtime Plot')\n",
    "plt.xlim(resd['measured'][0:210].min(),resd['measured'][0:210].max())\n",
    "plt.plot(resd['measured'][0:210],1/(1 - 1.853e-05*resd['measured'][0:210]))\n",
    "plt.ylabel('Fit / Measured')\n",
    "plt.xlabel('Measured Counts/second');\n",
    "plt.xlim(0,10000)\n",
    "#plt.savefig('fractionaldeadtime.png')"
   ]
  },
  {
   "cell_type": "code",
   "execution_count": 273,
   "metadata": {},
   "outputs": [
    {
     "data": {
      "text/plain": [
       "(0, 10000)"
      ]
     },
     "execution_count": 273,
     "metadata": {},
     "output_type": "execute_result"
    },
    {
     "data": {
      "image/png": "[encoded data removed]",
      "text/plain": [
       "<Figure size 432x288 with 1 Axes>"
      ]
     },
     "metadata": {
      "needs_background": "light"
     },
     "output_type": "display_data"
    }
   ],
   "source": [
    "plt.plot(resd['measured'][0:210],sub)\n",
    "plt.title('Fractional Deadtime Plot')\n",
    "plt.xlim(resd['measured'][0:210].min(),resd['measured'][0:210].max())\n",
    "plt.plot(resd['measured'][0:210],1/(1 - 1.853e-05*resd['measured'][0:210]))\n",
    "plt.ylabel('Fit / Measured')\n",
    "plt.xlabel('Measured Counts/second');\n",
    "plt.xlim(0,10000)\n",
    "#plt.savefig('fractionaldeadtime.png')"
   ]
  },
  {
   "cell_type": "code",
   "execution_count": 278,
   "metadata": {},
   "outputs": [
    {
     "data": {
      "text/plain": [
       "(0, 10000)"
      ]
     },
     "execution_count": 278,
     "metadata": {},
     "output_type": "execute_result"
    },
    {
     "data": {
      "image/png": "[encoded data removed]",
      "text/plain": [
       "<Figure size 432x288 with 1 Axes>"
      ]
     },
     "metadata": {
      "needs_background": "light"
     },
     "output_type": "display_data"
    }
   ],
   "source": [
    "plt.plot(resd['measured'][0:210],sub)\n",
    "plt.title('Fractional Deadtime Plot')\n",
    "plt.xlim(resd['measured'][0:210].min(),resd['measured'][0:210].max())\n",
    "plt.plot(resd['measured'][0:210],1/(1 - 1.853e-05*resd['measured'][0:210]))\n",
    "plt.ylabel('Fit / Measured')\n",
    "plt.xlabel('Measured Counts/second');\n",
    "plt.xlim(0,10000)"
   ]
  }
 ],
 "metadata": {
  "kernelspec": {
   "display_name": "Python 3",
   "language": "python",
   "name": "python3"
  },
  "language_info": {
   "codemirror_mode": {
    "name": "ipython",
    "version": 3
   },
   "file_extension": ".py",
   "mimetype": "text/x-python",
   "name": "python",
   "nbconvert_exporter": "python",
   "pygments_lexer": "ipython3",
   "version": "3.6.8"
  }
 },
 "nbformat": 4,
 "nbformat_minor": 2
}
