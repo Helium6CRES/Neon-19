{
 "cells": [
  {
   "cell_type": "markdown",
   "metadata": {},
   "source": [
    "# Libraries Necessary "
   ]
  },
  {
   "cell_type": "code",
   "execution_count": 1,
   "metadata": {},
   "outputs": [],
   "source": [
    "import pandas as pd\n",
    "import matplotlib.pyplot as plt\n",
    "import numpy as np\n",
    "from scipy import stats\n",
    "import scipy as sp\n",
    "import math\n",
    "import random\n",
    "from scipy.optimize import curve_fit,minimize\n",
    "from numpy.linalg import inv\n",
    "from tqdm import tqdm as tqdm"
   ]
  },
  {
   "cell_type": "markdown",
   "metadata": {},
   "source": [
    "# Code for reading in the data from a run"
   ]
  },
  {
   "cell_type": "code",
   "execution_count": 2,
   "metadata": {},
   "outputs": [],
   "source": [
    "#This creates a dataframe for each channel\n",
    "\n",
    "def create_string(location):\n",
    "#     path0 = '/home/drew/He6CRES/Neon-19/Data/SampleData_Michael/CH0@DT5725_1146_Data_{0:s}.csv'.format(location)\n",
    "#     path2 = '/home/drew/He6CRES/Neon-19/Data/SampleData_Michael/CH2@DT5725_1146_Data_{0:s}.csv'.format(location)\n",
    "    \n",
    "    path0 = '/home/drew/He6CRES/Neon-19/Data/Ne19Run_09182020/CH0@DT5725_1146_Data_{0:s}.csv'.format(location)\n",
    "    path2 = '/home/drew/He6CRES/Neon-19/Data/Ne19Run_09182020/CH2@DT5725_1146_Data_{0:s}.csv'.format(location)\n",
    "    \n",
    "    path = [path0,path2]\n",
    "    return path\n",
    "\n",
    "#def create_string(location):\n",
    "    #path0 = '/home/cenpa/Ne19/DAQ/FinalConfigSettings/DAQ/{0:s}/UNFILTERED/CH0@DT5725_1146_Data_{0:s}.csv'.format(location)\n",
    "    #path2 = '/home/cenpa/Ne19/DAQ/FinalConfigSettings/DAQ/{0:s}/UNFILTERED/CH2@DT5725_1146_Data_{0:s}.csv'.format(location)\n",
    "    \n",
    "    #path = [path0,path2]\n",
    "    #return path\n",
    "\n",
    "\n",
    "\n",
    "#write the folder location where 'BiTest-03' is\n",
    "run_name = 'Ne19rundeltaE-02-22-20_5'\n",
    "\n",
    "\n",
    "#ch0_df = pd.read_csv(path[0],sep=';')\n",
    "#ch1_df = pd.read_csv(path[1],sep=';')\n",
    "\n",
    "def Run_Data(run_folder_name):\n",
    "    return[pd.read_csv(create_string(run_name)[i],sep=';') for i in range(2)]"
   ]
  },
  {
   "cell_type": "markdown",
   "metadata": {},
   "source": [
    "# Code for splitting the data into separate cycles"
   ]
  },
  {
   "cell_type": "code",
   "execution_count": 3,
   "metadata": {},
   "outputs": [],
   "source": [
    "def Split_Data(ch0_dataFrame,ch2_dataFrame,minimum_counts = 0):\n",
    "    \"\"\"This function returns a list of the counts data split by run for channel0 based on the triggering from channel2\n",
    "    Parameters\n",
    "    ----------\n",
    "    ch0_dataFrame : Pandas Dataframe, counts data.\n",
    "    ch2_dataFrame : Pandas Dataframe, run trigger data.\n",
    "    minimum_counts : int, \n",
    "        minimum counts to remove any possible signals that may occur when not \n",
    "        running but still collecting data. Default is 0.\n",
    "    Returns\n",
    "    -------\n",
    "    ch0split_data : Pandas Dataframe,\n",
    "        Returns a list of Pandas Dataframes that correspond to each cycle in the run.\n",
    "    \"\"\"\n",
    "    #initializing an empty list for coincidencedata ch0 \n",
    "    #by the clock from ch2\n",
    "    \n",
    "    ch0split_data = []\n",
    "    \n",
    "    \n",
    "    #iterating through the number of times ch2 recieved a signal from our clock\n",
    "    for i in np.arange(0,len(ch2_dataFrame)-1):\n",
    "        \n",
    "        #creating a mask to separate the full data into their individual runs for ch0\n",
    "        ch0time_mask = np.where((ch0_dataFrame['TIMETAG'] > ch2_dataFrame['TIMETAG'][i]) & \n",
    "                                (ch0_dataFrame['TIMETAG'] < ch2_dataFrame['TIMETAG'][i+1]-(80*10**12)))#pullback time in units of 10**-12 seconds\n",
    "        # Note (Drew): This \"pull-back\" time was set to 89s by Michael. But if the cycle length is less than this you need to change it. \n",
    "        # Ch2: it was at t=64 now it's at t=0. (So maybe try to change to 25s?)\n",
    "        #This number for minimum counts is to remove any possible signals that may occur when we are not running but still collecting data\n",
    "        if len(ch0time_mask[0]) >= minimum_counts:\n",
    "            \n",
    "            #for each run I am creating a new dataframe and storing in a list\n",
    "            split_dataFrame0 = ch0_dataFrame.iloc[[ch0time_mask][0][0]].copy()\n",
    "            #resetting the index\n",
    "            split_dataFrame0 = split_dataFrame0.reset_index(drop=True)\n",
    "            \n",
    "            ch0split_data.extend([split_dataFrame0])\n",
    "\n",
    "    #returns arrays of dataframes for channel0       \n",
    "    return ch0split_data"
   ]
  },
  {
   "cell_type": "markdown",
   "metadata": {},
   "source": [
    "# Code for binning the data for count rate information"
   ]
  },
  {
   "cell_type": "code",
   "execution_count": 4,
   "metadata": {},
   "outputs": [],
   "source": [
    "#Bin size is in units of seconds\n",
    "def count_rate(single_run_coincidences,cutoff=0, bin_size = 1):\n",
    "    \"\"\"This function returns a list of the numpy arrays, the first array is the times in seconds and the second array is \n",
    "        the number of counts at those times based on the bin size.\n",
    "    Parameters\n",
    "    ----------\n",
    "    single_run_coincidences : Pandas Dataframe, counts data for a single run after the data has been split.\n",
    "    cutoff : int, a time in seconds to indicate where to start making the bins after t=0.\n",
    "    bin_size : int, size of the bins in unit seconds.\n",
    "    Returns\n",
    "    -------\n",
    "    time_axis : numpy array,\n",
    "        Returns values that correspond to the time binnings.\n",
    "    counts : numpy array,\n",
    "        Returns values that correspond to the number of counts in each of the\n",
    "        time_axis bins.\n",
    "    \"\"\"    \n",
    "    #Converting units to seconds\n",
    "    bin_seconds = bin_size*(10**12)\n",
    "    \n",
    "    #Setting the run timetags to start at 0\n",
    "    singlerun = (single_run_coincidences['TIMETAG']).where((10**-12)*single_run_coincidences['TIMETAG']>=(10**-12)*single_run_coincidences['TIMETAG'].min()+cutoff).dropna()\n",
    "    singlerun = singlerun-singlerun.min()\n",
    "    #Creating an array of the time spacings\n",
    "    time_axis = np.arange(0,singlerun.max()-bin_seconds,bin_seconds)\n",
    "    \n",
    "    def time_binning(i):\n",
    "        #function to create the number of \n",
    "        number_of_counts = np.where((singlerun >= i) & \n",
    "                                    (singlerun < i+bin_seconds))\n",
    "        return len(number_of_counts[0])\n",
    "    #returning an array of the time axis and the counts\n",
    "    \n",
    "    counts = np.asarray([time_binning(i) for i in time_axis])\n",
    "    time_axis = time_axis*(10**-12)\n",
    "    \n",
    "    return time_axis, counts"
   ]
  },
  {
   "cell_type": "markdown",
   "metadata": {},
   "source": [
    "# Code for plotting the counts"
   ]
  },
  {
   "cell_type": "code",
   "execution_count": 5,
   "metadata": {},
   "outputs": [],
   "source": [
    "def plot_rate(coincidences,cycle_number, bin_size = 1):\n",
    "    \n",
    "    x,y = count_rate(coincidences[cycle_number],bin_size = bin_size)\n",
    "    fig, ax = plt.subplots(1,figsize=(12,5))\n",
    "\n",
    "    #ax.errorbar(x,y,yerr=np.sqrt(y), label= 'Limits')\n",
    "\n",
    "    ax.plot(x,y)\n",
    "    ax.set_title('Run from {0:s} Cycle Number {1:d}'.format(run_name,cycle_number))\n",
    "    ax.set_ylabel('Counts')\n",
    "    ax.set_xlabel('Seconds')"
   ]
  },
  {
   "cell_type": "markdown",
   "metadata": {},
   "source": [
    "# Data Analysis Code"
   ]
  },
  {
   "cell_type": "markdown",
   "metadata": {},
   "source": [
    "$$N=N_0 e^{-\\lambda t} +B$$"
   ]
  },
  {
   "cell_type": "markdown",
   "metadata": {},
   "source": [
    "$$N= {\\frac  {N_{m}}{1-N_{m}D}}$$"
   ]
  },
  {
   "cell_type": "markdown",
   "metadata": {},
   "source": [
    "$$M_i = \\int_{T_{i-1}}^{T_i} \\frac{N}{1+ND}dt$$"
   ]
  },
  {
   "cell_type": "code",
   "execution_count": 6,
   "metadata": {
    "scrolled": true
   },
   "outputs": [],
   "source": [
    "#not a very important function, but I left it in since it can be used to check approximations quickly\n",
    "def Convert_Measured_to_Actual(counts,background = 0, bin_size = 1,deadtime = 0.000016):\n",
    "    background_subtracted_counts = counts - background\n",
    "    return background_subtracted_counts/(1-background_subtracted_counts*deadtime/bin_size)\n",
    "\n",
    "def optimize_single_cycle(counts, binsize=1, deadtime=0.000018, rc=.039, cutoff=100):\n",
    "    \"\"\"This function returns a numpy minimization object for a single cycle.\n",
    "    Parameters\n",
    "    ----------\n",
    "    counts : Pandas Dataframe, counts data for a single cycle after using the Split_Data function.\n",
    "    binsize : int, size of the bins in seconds.\n",
    "    deadtime : float, system deadtime in seconds.\n",
    "    rc : float, ln(2)/halflife.\n",
    "    cutoff : int, a time in seconds to indicate where to start making the bins after t=0.\n",
    "    Returns\n",
    "    -------\n",
    "    minimized_function : Numpy minimize object,\n",
    "        Returns information on the minimization of the chi-squared best fit for the data.\n",
    "        May return errors, but this can be due to the method numpy uses to create a hessian matrix and in most cases\n",
    "        does not apply.\n",
    "    \"\"\"\n",
    "    t,measured = count_rate(single_run_coincidences=counts, cutoff=cutoff, bin_size = binsize)\n",
    "    def chisquaredfunction(params):\n",
    "        D,l,N0,B = params\n",
    "        \n",
    "        expected = (np.log(np.absolute((D*N0*np.exp(-l*np.asarray(t[0:len(t)-1]))+B*D+1)/(D*N0*np.exp(-l*np.asarray(t[1:len(t)]))+B*D+1))) + B*D*l*(np.asarray(t[1:len(t)])-np.asarray(t[0:len(t)-1])))/(B*D*D*l+D*l)\n",
    "        \n",
    "        measured[0:len(measured)-1][np.where(measured[0:len(measured)-1]==0)] = 1\n",
    "        chisquared = np.sum((np.square(measured[0:len(measured)-1] - expected)) / measured[0:len(measured)-1])\n",
    "        return chisquared#t,measured[0:len(measured)-1],expected,chisquared\n",
    "    initial_guess = [rc, measured[0]/(1-measured[0]*deadtime/binsize),B]\n",
    "    minimized_function = minimize(chisquaredfunction, initial_guess)\n",
    "    return minimized_function\n",
    "        \n",
    "\n",
    "#functions for doing a very quick exponential fit.   \n",
    "def fit_function(t,N,l):\n",
    "    return (N*np.exp((-t*l)))\n",
    "\n",
    "def final_analysis(time,counts,rc):\n",
    "    \n",
    "    popt, pcov = curve_fit(fit_function, xdata=time, ydata=counts, p0=[counts[0],rc])\n",
    "        \n",
    "\n",
    "        \n",
    "        \n",
    "    return {'N_0' : popt[0],\"Decay_Constant\": popt[1],\"Covariance Matrix\": pcov}"
   ]
  },
  {
   "cell_type": "markdown",
   "metadata": {},
   "source": [
    "$$M_i = \\dfrac{\\ln\\left(\\left|\\frac{DN_0\\mathrm{e}^{-\\lambda T_{i-1}}+BD+1}{DN_0\\mathrm{e}^{-\\lambda T_i}+BD+1}\\right|\\right)+BD\\lambda( T_i-T_{i-1})}{\\left(BD^2+D\\right)\\lambda}$$"
   ]
  },
  {
   "cell_type": "code",
   "execution_count": 7,
   "metadata": {},
   "outputs": [],
   "source": [
    "def optimize_sharedvalues(counts, binsize=1, deadtime=0.000018, rc=.039, cutoff=0):\n",
    "    \"\"\"This function returns a numpy minimization object for the best fit of multiple\n",
    "        cycles with the same deadtime and rc.\n",
    "    Parameters\n",
    "    ----------\n",
    "    counts : list of Pandas Dataframes, counts data for multiple cycles or all cycles in a run.\n",
    "    binsize : int, size of the bins in seconds.\n",
    "    deadtime : float, system deadtime in seconds.\n",
    "    rc : float, ln(2)/halflife.\n",
    "    cutoff : int, a time in seconds to indicate where to start making the bins after t=0.\n",
    "    Returns\n",
    "    -------\n",
    "    minimized_function : Numpy minimize object,\n",
    "        Returns information on the minimization of the chi-squared best fit for the data.\n",
    "        May return errors, but this can be due to the method numpy uses to create a hessian matrix and in most cases\n",
    "        does not apply.\n",
    "    \"\"\"\n",
    "    cycle_data = counts\n",
    "    numbercycles = len(counts)\n",
    "    t=[]\n",
    "    measured=[]\n",
    "    for i in np.arange(0,numbercycles):\n",
    "        t_temporary,measured_temporary = count_rate(single_run_coincidences=cycle_data[i], cutoff=cutoff, bin_size = binsize)\n",
    "        np.asarray(measured_temporary)[0:len(measured_temporary)-1][np.where(measured_temporary[0:len(measured_temporary)-1]==0)] = 1\n",
    "        measured_temporary = measured_temporary[0:len(measured_temporary)-1]\n",
    "        t.extend([[t_temporary]])\n",
    "        measured.extend([[measured_temporary]])\n",
    "    def chisquaredfun(params):\n",
    "\n",
    "        \n",
    "            \n",
    "        \n",
    "        D = deadtime#params[0]\n",
    "        l = params[0]\n",
    "        B = params[1:1+numbercycles]\n",
    "        N0 = params[1+numbercycles:1+2*numbercycles]\n",
    "        \n",
    "        expected = []\n",
    "        for i in np.arange(numbercycles):\n",
    "            expected_temp = (np.log(np.absolute((D*N0[i]*np.exp(-l*np.asarray(t[i][0][0:len(t[i][0])-1]))+B[i]*D+1)/(D*N0[i]*np.exp(-l*np.asarray(t[i][0][1:len(t[i][0])]))+B[i]*D+1))) + B[i]*D*l*(np.asarray(t[i][0][1:len(t[i][0])])-np.asarray(t[i][0][0:len(t[i][0])-1])))/(B[i]*D*D*l+D*l)#the expected equation\n",
    "\n",
    "            expected.extend([[expected_temp]])\n",
    "                        \n",
    "        chisquared = ((np.square(np.asarray(measured) - np.asarray(expected))) / np.asarray(measured))\n",
    "        \n",
    "        return np.sum([np.sum(item[0])for item in chisquared])\n",
    "    B_guess = np.ones(numbercycles)\n",
    "    N0_guess = [item[0][0]for item in measured]\n",
    "\n",
    "    \n",
    "    \n",
    "    initial_guess = [ rc, *np.ones(numbercycles), *N0_guess ]\n",
    "    \n",
    "    minimized_function = minimize(chisquaredfun, initial_guess) #,method = 'L-BFGS-B', bounds = [(0.000001,.001),(.01,.05),(.01,30),(.01,30),(.01,30),(.01,30),(.01,30),(1000,None),(1000,None),(1000,None),(1000,None),(1000,None)]) \n",
    "    return minimized_function"
   ]
  },
  {
   "cell_type": "markdown",
   "metadata": {},
   "source": [
    "$$N=N_0 e^{-\\lambda t} + B$$\n",
    "\n",
    "$$M_i = \\frac{N_0}{\\lambda}\\left( e^{-\\lambda T_{i-1}}- e^{-\\lambda T_{i}}\\right) + B(T_i - T_{i-1})$$"
   ]
  },
  {
   "cell_type": "code",
   "execution_count": 8,
   "metadata": {},
   "outputs": [],
   "source": [
    "def optimize_sharedvalues_simple(counts, binsize=1, rc=.039, cutoff=0):\n",
    "    \"\"\"This function returns a numpy minimization object for the best fit of multiple\n",
    "        cycles with the same rc with no deadtime.\n",
    "    Parameters\n",
    "    ----------\n",
    "    counts : list of Pandas Dataframes, counts data for multiple cycles or all cycles in a run.\n",
    "    binsize : int, size of the bins in seconds.\n",
    "    rc : float, ln(2)/halflife.\n",
    "    cutoff : int, a time in seconds to indicate where to start making the bins after t=0.\n",
    "        cutoff is almost never 0 for this function since the data at early times\n",
    "        is not close to a simple exponential.\n",
    "    Returns\n",
    "    -------\n",
    "    minimized_function : Numpy minimize object,\n",
    "        Returns information on the minimization of the chi-squared best fit for the data.\n",
    "        May return errors, but this can be due to the method numpy uses to create a hessian matrix and in most cases\n",
    "        does not apply.\n",
    "    \"\"\"\n",
    "    cycle_data = counts\n",
    "    numbercycles = len(counts)\n",
    "    t=[]\n",
    "    measured=[]\n",
    "    for i in np.arange(0,numbercycles):\n",
    "        t_temporary,measured_temporary = count_rate(single_run_coincidences=cycle_data[i], cutoff=cutoff, bin_size = binsize)\n",
    "        np.asarray(measured_temporary)[0:len(measured_temporary)-1][np.where(measured_temporary[0:len(measured_temporary)-1]==0)] = 1\n",
    "        \n",
    "        measured_temporary = measured_temporary[0:len(measured_temporary)-1]\n",
    "        t.extend([[t_temporary]])\n",
    "        measured.extend([[measured_temporary]])\n",
    "    def chisquaredfun(params):\n",
    "\n",
    "        \n",
    "            \n",
    "        \n",
    "        l = params[0]\n",
    "        B = params[1:1+numbercycles]\n",
    "        N0 = params[1+numbercycles:1+2*numbercycles]\n",
    "        \n",
    "        expected = []\n",
    "        for i in np.arange(numbercycles):\n",
    "            expected_temp = (N0[i]/l)*(np.exp(-l*np.asarray(t[i][0][0:len(t[i][0])-1]))-np.exp(-l*np.asarray(t[i][0][1:len(t[i][0])]))) + B[i]*(t[i][0][1:len(t[i][0])]-t[i][0][0:len(t[i][0])-1])\n",
    "\n",
    "            expected.extend([[expected_temp]])\n",
    "                        \n",
    "        chisquared = ((np.square(np.asarray(measured) - np.asarray(expected))) / np.asarray(measured))\n",
    "        \n",
    "        return np.sum([np.sum(item[0])for item in chisquared])\n",
    "    B_guess = np.ones(numbercycles)\n",
    "    N0_guess = [item[0][0]for item in measured]\n",
    "\n",
    "    \n",
    "    \n",
    "    initial_guess = [ rc, *np.ones(numbercycles), *N0_guess ]\n",
    "    minimized_function = minimize(chisquaredfun, initial_guess)#,method = 'L-BFGS-B', bounds = [(.01,.05),(0,0),(0,0),(0,0),(0,0),(0,0),(1000,None),(1000,None),(1000,None),(1000,None),(1000,None)]) \n",
    "    return minimized_function"
   ]
  },
  {
   "cell_type": "markdown",
   "metadata": {},
   "source": [
    "$$M_i = \\dfrac{\\ln(DN_0e^{-\\lambda T_{i-1}}+BD+1)}{D(BD+1)\\lambda}-\\dfrac{\\ln(DN_0e^{-\\lambda T_{i}}+BD+1)}{D(BD+1)\\lambda} + \\dfrac{B(T_i - T_{i-1})}{BD+1}$$"
   ]
  },
  {
   "cell_type": "markdown",
   "metadata": {},
   "source": [
    "$$x - \\frac{x^2}{2} + \\frac{x^3}{3} - \\frac{x^4}{4} + \\frac{x^5}{5} - \\frac{x^6}{6} + O(x^7)$$\n",
    "(Taylor series)\n",
    "(converges when abs(x)<1)"
   ]
  },
  {
   "cell_type": "markdown",
   "metadata": {},
   "source": [
    "B = 0 (can make data reflect this condition)"
   ]
  },
  {
   "cell_type": "markdown",
   "metadata": {},
   "source": [
    "$$M_i = \\frac{N_0e^{-\\lambda T_{i-1}}}{\\lambda} - \\frac{N_0e^{-\\lambda T_{i}}}{\\lambda} - \\frac{D(N_0e^{-\\lambda T_{i-1}})^2}{\\lambda} +\\frac{D(N_0e^{-\\lambda T_{i}})^2}{\\lambda}+...$$"
   ]
  },
  {
   "cell_type": "code",
   "execution_count": 9,
   "metadata": {},
   "outputs": [],
   "source": [
    "def optimize_sharedvalues_expanded(counts, binsize=1, deadtime=0.000016, rc=.039, cutoff=0):\n",
    "    \"\"\"\n",
    "    This function returns a numpy minimization object for the best fit of multiple\n",
    "        cycles with the same deadtime and rc and uses an approximation with no background counts.\n",
    "        Used more as a tool to check rather than a tool for analysis.\n",
    "    Parameters\n",
    "    ----------\n",
    "    counts : list of Pandas Dataframes, counts data for multiple cycles or all cycles in a run.\n",
    "    binsize : int, size of the bins in seconds.\n",
    "    deadtime : float, system deadtime in seconds.\n",
    "    rc : float, ln(2)/halflife.\n",
    "    cutoff : int, a time in seconds to indicate where to start making the bins after t=0.\n",
    "    Returns\n",
    "    -------\n",
    "    minimized_function : Numpy minimize object,\n",
    "        Returns information on the minimization of the chi-squared best fit for the data.\n",
    "        May return errors, but this can be due to the method numpy uses to create a hessian matrix and in most cases\n",
    "        does not apply.\n",
    "    \"\"\"\n",
    "    cycle_data = counts\n",
    "    numbercycles = len(counts)\n",
    "    t=[]\n",
    "    measured=[]\n",
    "    for i in np.arange(0,numbercycles):\n",
    "        t_temporary,measured_temporary = count_rate(single_run_coincidences=cycle_data[i], cutoff=cutoff, bin_size = binsize)\n",
    "        np.asarray(measured_temporary)[0:len(measured_temporary)-1][np.where(measured_temporary[0:len(measured_temporary)-1]==0)] = 1\n",
    "        \n",
    "        measured_temporary = measured_temporary[0:len(measured_temporary)-1]\n",
    "        t.extend([[t_temporary]])\n",
    "        measured.extend([[measured_temporary]])\n",
    "    def chisquaredfun(params):\n",
    "\n",
    "        \n",
    "            \n",
    "        D = params[1]\n",
    "        l = params[0]\n",
    "        N0 = params[2:2+numbercycles]\n",
    "        \n",
    "        \n",
    "        expected = []\n",
    "        for i in np.arange(numbercycles):\n",
    "            expected_temp = (N0[i]*np.exp(-l*np.asarray(t[i][0][0:len(t[i][0])-1])))/l - (N0[i]*np.exp(-l*np.asarray(t[i][0][1:len(t[i][0])])))/l - D*((N0[i]*np.exp(-l*np.asarray(t[i][0][0:len(t[i][0])-1])))**2 - (N0[i]*np.exp(-l*np.asarray(t[i][0][1:len(t[i][0])])))**2)/l #+ (D**2)*((N0[i]*np.exp(-l*np.asarray(t[i][0][0:len(t[i][0])-1])))**3 - (N0[i]*np.exp(-l*np.asarray(t[i][0][1:len(t[i][0])])))**3)/l\n",
    "\n",
    "            expected.extend([[expected_temp]])\n",
    "                        \n",
    "        chisquared = ((np.square(np.asarray(measured) - np.asarray(expected))) / np.asarray(measured))\n",
    "        \n",
    "        return np.sum([np.sum(item[0])for item in chisquared])\n",
    "    B_guess = np.ones(numbercycles)\n",
    "    N0_guess = [item[0][0]for item in measured]\n",
    "\n",
    "    \n",
    "    \n",
    "    initial_guess = [rc,deadtime , *N0_guess ]\n",
    "    minimized_function = minimize(chisquaredfun, initial_guess)#,method = 'L-BFGS-B', bounds = [(.01,.05),(0,.00001),(1000,None),(1000,None),(1000,None),(1000,None),(1000,None)]) \n",
    "    return minimized_function "
   ]
  },
  {
   "cell_type": "code",
   "execution_count": 10,
   "metadata": {},
   "outputs": [],
   "source": [
    "def residuals(counts,cycle_number,values, binsize=1, cutoff=0,):\n",
    "    \"\"\"\n",
    "    This function returns a dictionary with residuals information for a simple exponential fit.\n",
    "    Parameters\n",
    "    ----------\n",
    "    counts : Pandas Dataframe, counts data for a single cycle.\n",
    "    binsize : int, size of the bins in seconds.\n",
    "    values : minimized_fuction.x, the values from the minimization best fit.\n",
    "    cutoff : int, a time in seconds to indicate where to start making the bins after t=0.\n",
    "    Returns\n",
    "    -------\n",
    "    'time' : array of time values\n",
    "    'residuals' : array of normalized residuals\n",
    "    'fit' : array of best fit values\n",
    "    'measured' : array of measured values\n",
    "    \"\"\"\n",
    "    numbercycles = len(counts)\n",
    "    t,measured = count_rate(single_run_coincidences=counts[cycle_number], cutoff=cutoff, bin_size = binsize)\n",
    "    def residual(params):\n",
    "        l = params[0]\n",
    "        B = params[1:1+numbercycles]\n",
    "        N0 = params[1+numbercycles:1+2*numbercycles]\n",
    "        \n",
    "        expected = (N0[cycle_number]/l)*(np.exp(-l*np.asarray(t[0:len(t)-1]))-np.exp(-l*np.asarray(t[1:len(t)]))) + B[cycle_number]*(t[1:len(t)]-t[0:len(t)-1])\n",
    "\n",
    "        measured[0:len(measured)-1][np.where(measured[0:len(measured)-1]==0)] = 1\n",
    "        residuals = (expected - measured[0:len(measured)-1] ) / np.sqrt(measured[0:len(measured)-1])\n",
    "        return residuals, expected, measured\n",
    "    res, exp, meas= residual(values)\n",
    "    return dict(time = t[0:len(t)-1],\n",
    "                residuals = res,\n",
    "                fit = exp,\n",
    "                measured = meas)"
   ]
  },
  {
   "cell_type": "code",
   "execution_count": 11,
   "metadata": {},
   "outputs": [],
   "source": [
    "def residuals_deadtime(counts,cycle_number,values, binsize=1, cutoff=0,deadtime=1.8e-5):\n",
    "    \"\"\"\n",
    "    This function returns a dictionary with residuals information for a deadtime model fit.\n",
    "    Parameters\n",
    "    ----------\n",
    "    counts : Pandas Dataframe, counts data for a single cycle.\n",
    "    cycle_number : int, cycle number based on the list indexing in the Split_Data function. First cycle = 0.\n",
    "    values : minimized_fuction.x, the values from the minimization best fit.\n",
    "    binsize : int, size of the bins in seconds.\n",
    "    cutoff : int, a time in seconds to indicate where to start making the bins after t=0.\n",
    "    deadtime : float, system deadtime in seconds.\n",
    "    Returns\n",
    "    -------\n",
    "    'time' : array of time values\n",
    "    'residuals' : array of normalized residuals\n",
    "    'fit' : array of best fit values\n",
    "    'measured' : array of measured values\n",
    "    \"\"\"\n",
    "    numbercycles = len(counts)\n",
    "    t,measured = count_rate(single_run_coincidences=counts[cycle_number], cutoff=cutoff, bin_size = binsize)\n",
    "    def residual(params):\n",
    "        #D = params[0]\n",
    "        D = deadtime\n",
    "        l = params[0]\n",
    "        B = params[1:1+numbercycles]\n",
    "        N0 = params[1+numbercycles:1+2*numbercycles]\n",
    "        \n",
    "        expected = (np.log(np.absolute((D*N0[cycle_number]*np.exp(-l*np.asarray(t[0:len(t)-1]))+B[cycle_number]*D+1)/(D*N0[cycle_number]*np.exp(-l*np.asarray(t[1:len(t)]))+B[cycle_number]*D+1))) + B[cycle_number]*D*l*(np.asarray(t[1:len(t)])-np.asarray(t[0:len(t)-1])))/(B[cycle_number]*D*D*l+D*l)\n",
    "\n",
    "\n",
    "        measured[0:len(measured)-1][np.where(measured[0:len(measured)-1]==0)] = 1\n",
    "        residuals = (expected - measured[0:len(measured)-1] ) / np.sqrt(measured[0:len(measured)-1])\n",
    "        return residuals, expected, measured\n",
    "    res, exp, meas= residual(values)\n",
    "    return dict(time = t[0:len(t)-1],\n",
    "                residuals = res,\n",
    "                fit = exp,\n",
    "                measured = meas)"
   ]
  },
  {
   "cell_type": "markdown",
   "metadata": {},
   "source": [
    "$$  y(x_i;a) = \\sum_{j=0} \\frac{N_{0,i}}{\\lambda}\\left( e^{-\\lambda T_{i-1}}- e^{-\\lambda T_{i}}\\right) + B_i(T_i - T_{i-1}) $$"
   ]
  },
  {
   "cell_type": "markdown",
   "metadata": {},
   "source": [
    "$$\\alpha_{k,l} = \\sum^{N}_{i=1} \\frac{1}{\\sigma_i^2} \\left[ \\frac{\\partial y(x_i; \\bf a)}{\\partial a_k} \\cdot \\frac{\\partial y(x_i; \\bf a)}{\\partial a_l} \\right]$$"
   ]
  },
  {
   "cell_type": "markdown",
   "metadata": {},
   "source": [
    "$$\\frac{\\partial y(x_i;\\bf a)}{\\partial \\lambda} = \\sum_{j=0} -\\frac{N_{0,i}}{\\lambda^2}\\left( e^{-\\lambda T_{i-1}}- e^{-\\lambda T_{i}}\\right) + \\frac{N_{0,i}}{\\lambda}\\left( - T_{i-1}e^{-\\lambda T_{i-1}}+  T_{i}e^{-\\lambda T_{i}}\\right)$$\n",
    "\n",
    "$$\\frac{\\partial y(x_i;\\bf a)}{\\partial N_{0,i}} = \\frac{1}{\\lambda}\\left( e^{-\\lambda T_{i-1}}- e^{-\\lambda T_{i}}\\right)$$\n",
    "\n",
    "$$\\frac{\\partial y(x_i;\\bf a)}{\\partial B_i} = (T_i - T_{i-1})$$\n"
   ]
  },
  {
   "cell_type": "code",
   "execution_count": 12,
   "metadata": {},
   "outputs": [],
   "source": [
    "def covariance_matrix(best_fit_parameters,counts ,cutoff, binsize):\n",
    "    \"\"\"\n",
    "    This function returns the covariance matrix for a exponential fit.\n",
    "    Parameters\n",
    "    ----------\n",
    "    best_fit_parameters : list, values of the best fit parameters from the minimization function.\n",
    "    counts : list of Pandas Dataframes, counts data for multiple cycles or all cycles in a run.\n",
    "    cutoff : int, a time in seconds to indicate where to start making the bins after t=0.\n",
    "    binsize : int, size of the bins in seconds.\n",
    "    Returns\n",
    "    -------\n",
    "    covariance_matrix : matrix in order of rc,background counts_0,... background counts_i, initial counts_0, initial counts_i.\n",
    "    \"\"\"    \n",
    "    cycle_data = counts\n",
    "    numbercycles = len(counts)\n",
    "    t=[]\n",
    "    measured=[]\n",
    "    for i in np.arange(0,numbercycles):\n",
    "        t_temporary,measured_temporary = count_rate(single_run_coincidences=cycle_data[i], cutoff=cutoff, bin_size = binsize)\n",
    "        np.asarray(measured_temporary)[0:len(measured_temporary)-1][np.where(measured_temporary[0:len(measured_temporary)-1]==0)] = 1\n",
    "        t_temporary = t_temporary[0:int(210/binsize)-cutoff]\n",
    "        measured_temporary = measured_temporary[0:int(210/binsize)-cutoff]\n",
    "        t.extend([[t_temporary]])\n",
    "        measured.extend([[measured_temporary]])\n",
    "    \n",
    "    l = best_fit_parameters[0]\n",
    "    B = best_fit_parameters[1:1+numbercycles]\n",
    "    N0 = best_fit_parameters[1+numbercycles:1+2*numbercycles]\n",
    "\n",
    "    \n",
    "    def yB(time,std):\n",
    "        return (time[1:len(time)] - time[0:len(time)-1])/np.sqrt(std[0:len(std)-1])\n",
    "    \n",
    "    def yl(timelist,l,stdlist,Nlist):\n",
    "        y=0\n",
    "        for i in np.arange(len(Nlist)):\n",
    "            y= y+(-(Nlist[i]/(l**2))*(np.exp(-l*timelist[i][0][0:len(timelist[i][0])-1]) - np.exp(-l*timelist[i][0][1:len(timelist[i][0])])) + (Nlist[i]/l)*(-timelist[i][0][0:len(timelist[i][0])-1]*np.exp(-l*timelist[i][0][0:len(timelist[i][0])-1])+timelist[i][0][1:len(timelist[i][0])]*np.exp(-l*timelist[i][0][1:len(timelist[i][0])])))/np.sqrt(stdlist[i][0][0:len(stdlist[i][0])-1])\n",
    "            \n",
    "        return np.asarray(y)\n",
    "    \n",
    "    def yN0(time,l,std):\n",
    "        return (1/l)*(np.exp(-l*time[0:len(time)-1])-np.exp(-l*time[1:len(time)]))/np.sqrt(std[0:len(std)-1])\n",
    "    \n",
    "    unique_values = [yl(t,l,measured,N0)]\n",
    "    \n",
    "    for i in np.arange(numbercycles):\n",
    "        unique_values.extend([yB(t[i][0],measured[i][0])])\n",
    "        \n",
    "    for i in np.arange(numbercycles):\n",
    "        unique_values.extend([yN0(t[i][0],l,measured[i][0])])\n",
    "\n",
    "    \n",
    "    hessian=[]\n",
    "    for i in np.arange(0,1+numbercycles*2):\n",
    "        for j in np.arange(0,1+numbercycles*2):\n",
    "            hessian.extend([np.sum(unique_values[i]*unique_values[j])])\n",
    "    \n",
    "    h = np.asarray(hessian)\n",
    "    \n",
    "    #hessian = np.array([[a11,a12,a13,a14],[a12,a22,a23,a24],[a13,a23,a33,a34],[a14,a24,a34,a44]])\n",
    "    covariance_matrix =  inv(h.reshape((1+numbercycles*2,1+numbercycles*2)))\n",
    "    return covariance_matrix"
   ]
  },
  {
   "cell_type": "markdown",
   "metadata": {},
   "source": [
    "$$  y(x_i;a) = \\sum_{j=0} \\dfrac{\\ln\\left(\\left|\\frac{DN_{0,i}\\mathrm{e}^{-\\lambda T_{i-1}}+B_iD+1}{DN_{0,i}\\mathrm{e}^{-\\lambda T_i}+B_iD+1}\\right|\\right)+B_iD\\lambda( T_i-T_{i-1})}{\\left(B_iD^2+D\\right)\\lambda} $$"
   ]
  },
  {
   "cell_type": "code",
   "execution_count": 13,
   "metadata": {},
   "outputs": [
    {
     "ename": "ImportError",
     "evalue": "cannot import name 'sym' from 'sympy' (/home/drew/home/drew/Products/anaconda3/lib/python3.7/site-packages/sympy/__init__.py)",
     "output_type": "error",
     "traceback": [
      "\u001b[0;31m---------------------------------------------------------------------------\u001b[0m",
      "\u001b[0;31mImportError\u001b[0m                               Traceback (most recent call last)",
      "\u001b[0;32m<ipython-input-13-fa9acc09907a>\u001b[0m in \u001b[0;36m<module>\u001b[0;34m\u001b[0m\n\u001b[0;32m----> 1\u001b[0;31m \u001b[0;32mfrom\u001b[0m \u001b[0msympy\u001b[0m \u001b[0;32mimport\u001b[0m \u001b[0msym\u001b[0m\u001b[0;34m\u001b[0m\u001b[0;34m\u001b[0m\u001b[0m\n\u001b[0m\u001b[1;32m      2\u001b[0m \u001b[0;34m\u001b[0m\u001b[0m\n\u001b[1;32m      3\u001b[0m \u001b[0mL\u001b[0m\u001b[0;34m,\u001b[0m \u001b[0md\u001b[0m\u001b[0;34m,\u001b[0m \u001b[0mn\u001b[0m\u001b[0;34m,\u001b[0m \u001b[0mb\u001b[0m\u001b[0;34m,\u001b[0m \u001b[0mti\u001b[0m\u001b[0;34m,\u001b[0m \u001b[0mti1\u001b[0m \u001b[0;34m=\u001b[0m \u001b[0msyp\u001b[0m\u001b[0;34m.\u001b[0m\u001b[0msymbols\u001b[0m\u001b[0;34m(\u001b[0m\u001b[0;34m'l D N B ti ti1'\u001b[0m\u001b[0;34m,\u001b[0m \u001b[0mreal\u001b[0m \u001b[0;34m=\u001b[0m \u001b[0;32mTrue\u001b[0m\u001b[0;34m)\u001b[0m\u001b[0;34m\u001b[0m\u001b[0;34m\u001b[0m\u001b[0m\n\u001b[1;32m      4\u001b[0m \u001b[0minit_printing\u001b[0m\u001b[0;34m(\u001b[0m\u001b[0muse_unicode\u001b[0m\u001b[0;34m=\u001b[0m\u001b[0;32mTrue\u001b[0m\u001b[0;34m)\u001b[0m\u001b[0;34m\u001b[0m\u001b[0;34m\u001b[0m\u001b[0m\n\u001b[1;32m      5\u001b[0m \u001b[0;34m\u001b[0m\u001b[0m\n",
      "\u001b[0;31mImportError\u001b[0m: cannot import name 'sym' from 'sympy' (/home/drew/home/drew/Products/anaconda3/lib/python3.7/site-packages/sympy/__init__.py)"
     ]
    }
   ],
   "source": [
    "from sympy import sym\n",
    "\n",
    "L, d, n, b, ti, ti1 = syp.symbols('l D N B ti ti1', real = True)\n",
    "init_printing(use_unicode=True)\n",
    "\n",
    "expression = (sym.log((d*n*sym.exp(-L*ti1)+b*d+1)/(d*n*sym.exp(-L*ti)+b*d+1)) + b*d*L*(ti-ti1))/(d*L*(b*d+1))"
   ]
  },
  {
   "cell_type": "code",
   "execution_count": null,
   "metadata": {},
   "outputs": [],
   "source": [
    "def covariance_matrixd(best_fit_parameters,counts,deadtime ,cutoff, binsize):\n",
    "    \"\"\"\n",
    "    This function returns the covariance matrix for a deadtime model fit.\n",
    "    Parameters\n",
    "    ----------\n",
    "    best_fit_parameters : list, values of the best fit parameters from the minimization function.\n",
    "    counts : list of Pandas Dataframes, counts data for multiple cycles or all cycles in a run.\n",
    "    deadtime : float, system deadtime in seconds.\n",
    "    cutoff : int, a time in seconds to indicate where to start making the bins after t=0.\n",
    "    binsize : int, size of the bins in seconds.\n",
    "    Returns\n",
    "    -------\n",
    "    covariance_matrix : matrix in order of deadtime,rc,background counts_0,... background counts_i, initial counts_0, initial counts_i.\n",
    "    \"\"\"      \n",
    "    cycle_data = counts\n",
    "    numbercycles = len(counts)\n",
    "    t=[]\n",
    "    measured=[]\n",
    "    for i in np.arange(0,numbercycles):\n",
    "        t_temporary,measured_temporary = count_rate(single_run_coincidences=cycle_data[i], cutoff=cutoff, bin_size = binsize)\n",
    "        np.asarray(measured_temporary)[0:len(measured_temporary)-1][np.where(measured_temporary[0:len(measured_temporary)-1]==0)] = 1\n",
    "        t_temporary = t_temporary[0:int(210/binsize)-cutoff]\n",
    "        measured_temporary = measured_temporary[0:int(210/binsize)-cutoff]\n",
    "        t.extend([[t_temporary]])\n",
    "        measured.extend([[measured_temporary]])\n",
    "    \n",
    "    D = deadtime\n",
    "    l = best_fit_parameters[0]\n",
    "    B = best_fit_parameters[1:1+numbercycles]\n",
    "    N0 = best_fit_parameters[1+numbercycles:1+2*numbercycles]\n",
    "\n",
    "    \n",
    "    def yB(timelist,l,D,stdlist,N,B,i):\n",
    "        y = (-1*((B*D*l*(timelist[i][0][1:len(timelist[i][0])]-timelist[i][0][0:len(timelist[i][0])-1])+np.log((B*D+D*N*np.exp(-l*timelist[i][0][0:len(timelist[i][0])-1])+1)/(B*D+D*N*np.exp(-l*timelist[i][0][1:len(timelist[i][0])])+1))))/(l*(B*D+1)**2)+(D*l*(timelist[i][0][1:len(timelist[i][0])]-timelist[i][0][0:len(timelist[i][0])-1])+(((D/(B*D+D*N*np.exp(-l*timelist[i][0][1:len(timelist[i][0])])+1))-(D*(B*D+D*N*np.exp(-l*timelist[i][0][0:len(timelist[i][0])-1])+1)/(B*D+D*N*np.exp(-l*timelist[i][0][1:len(timelist[i][0])])+1)**2 ))*(B*D+D*N*np.exp(-l*timelist[i][0][1:len(timelist[i][0])])+1)/(1+B*D+D*N*np.exp(-l*timelist[i][0][0:len(timelist[i][0])-1])))/(D*l*(B*D+1))))/np.sqrt(stdlist[i][0][0:len(stdlist[i][0])-1])\n",
    "        return np.asarray(y)\n",
    "    \n",
    "    def yl(timelist,l,D,stdlist,Nlist,Blist):\n",
    "        y=0\n",
    "        for i in np.arange(len(Nlist)):\n",
    "            y += ((Blist[i]*D*(timelist[i][0][1:len(timelist[i][0])]-timelist[i][0][0:len(timelist[i][0])-1])+((D*Nlist[i]*timelist[i][0][1:len(timelist[i][0])]*(Blist[i]*D+D*Nlist[i]*np.exp(-l*timelist[i][0][0:len(timelist[i][0])-1])+1)*np.exp(-l*timelist[i][0][1:len(timelist[i][0])])/(Blist[i]*D+D*Nlist[i]*np.exp(-l*timelist[i][0][1:len(timelist[i][0])])+1)**2-(D*Nlist[i]*timelist[i][0][0:len(timelist[i][0])-1]*np.exp(-l*timelist[i][0][0:len(timelist[i][0])-1]))/(Blist[i]*D+D*Nlist[i]*np.exp(-l*timelist[i][0][1:len(timelist[i][0])])+1))*(Blist[i]*D+D*Nlist[i]*np.exp(-l*timelist[i][0][1:len(timelist[i][0])])+1))/(Blist[i]*D+D*Nlist[i]*np.exp(-l*timelist[i][0][0:len(timelist[i][0])-1])+1))/(D*l*(Blist[i]*D+1)) - (Blist[i]*D*l*(timelist[i][0][1:len(timelist[i][0])]-timelist[i][0][0:len(timelist[i][0])-1])+np.log((Blist[i]*D+D*Nlist[i]*np.exp(-l*timelist[i][0][0:len(timelist[i][0])-1])+1)/(Blist[i]*D+D*Nlist[i]*np.exp(-l*timelist[i][0][1:len(timelist[i][0])])+1)))/(D*(l**2)*(Blist[i]*D+1)))/np.sqrt(stdlist[i][0][0:len(stdlist[i][0])-1])\n",
    "        return np.asarray(y)\n",
    "    \n",
    "    def yN0(timelist,l,D,stdlist,N,B,i):\n",
    "        y = (((D*np.exp(-l*timelist[i][0][0:len(timelist[i][0])-1])/(B*D+D*N*np.exp(-l*timelist[i][0][1:len(timelist[i][0])])+1) - (D*(B*D+D*N*np.exp(-l*timelist[i][0][0:len(timelist[i][0])-1])+1)*np.exp(-l*timelist[i][0][1:len(timelist[i][0])]))/(B*D+D*N*np.exp(-l*timelist[i][0][1:len(timelist[i][0])])+1)**2)*(B*D+D*N*np.exp(-l*timelist[i][0][1:len(timelist[i][0])])+1))/(D*l*(B*D+1)*(B*D+D*N*np.exp(-l*timelist[i][0][0:len(timelist[i][0])-1])+1)))/np.sqrt(stdlist[i][0][0:len(stdlist[i][0])-1])\n",
    "        return np.asarray(y)\n",
    "    \n",
    "    def yD(timelist,l,D,stdlist,Nlist,Blist):\n",
    "        y=0\n",
    "        for i in np.arange(len(Nlist)):\n",
    "            \n",
    "            y += (-(Blist[i]*(Blist[i]*D*l*(timelist[i][0][1:len(timelist[i][0])]-timelist[i][0][0:len(timelist[i][0])-1])+np.log((Blist[i]*D+D*Nlist[i]*np.exp(-l*timelist[i][0][0:len(timelist[i][0])-1])+1)/(Blist[i]*D+D*Nlist[i]*np.exp(-l*timelist[i][0][1:len(timelist[i][0])])+1))))/(D*l*(Blist[i]*D+1)**2)  +  (Blist[i]*l*(timelist[i][0][1:len(timelist[i][0])]-timelist[i][0][0:len(timelist[i][0])-1])+((((-Blist[i]-Nlist[i]*np.exp(-l*timelist[i][0][1:len(timelist[i][0])]))*(Blist[i]*D+D*Nlist[i]*np.exp(-l*timelist[i][0][0:len(timelist[i][0])-1])+1))/((Blist[i]*D+D*Nlist[i]*np.exp(-l*timelist[i][0][1:len(timelist[i][0])])+1)**2))+(Blist[i]+Nlist[i]*np.exp(-l*timelist[i][0][0:len(timelist[i][0])-1]))/(Blist[i]*D+D*Nlist[i]*np.exp(-l*timelist[i][0][1:len(timelist[i][0])])+1))*(Blist[i]*D+D*Nlist[i]*np.exp(-l*timelist[i][0][1:len(timelist[i][0])])+1)/(Blist[i]*D+D*Nlist[i]*np.exp(-l*timelist[i][0][0:len(timelist[i][0])-1])+1))/(D*l*(Blist[i]*D+1))  -  (Blist[i]*D*l*(timelist[i][0][1:len(timelist[i][0])]-timelist[i][0][0:len(timelist[i][0])-1])+np.log((Blist[i]*D+D*Nlist[i]*np.exp(-l*timelist[i][0][0:len(timelist[i][0])-1])+1)/(Blist[i]*D+D*Nlist[i]*np.exp(-l*timelist[i][0][1:len(timelist[i][0])])+1)))/((D**2)*l*(Blist[i]*D+1)))/np.sqrt(stdlist[i][0][0:len(stdlist[i][0])-1])\n",
    "        return np.asarray(y)\n",
    "    \n",
    "    unique_values = [yD(t,l,D,measured,N0,B)]\n",
    "    unique_values.extend([yl(t,l,D,measured,N0,B)])\n",
    "    for i in np.arange(numbercycles):\n",
    "        unique_values.extend([yB(t,l,D,measured,N0[i],B[i],i)])\n",
    "    for i in np.arange(numbercycles):\n",
    "        unique_values.extend([yN0(t,l,D,measured,N0[i],B[i],i)])\n",
    "\n",
    "    \n",
    "    hessian=[]\n",
    "    for i in np.arange(0,2+numbercycles*2):\n",
    "        for j in np.arange(0,2+numbercycles*2):\n",
    "            hessian.extend([np.sum(unique_values[i]*unique_values[j])])\n",
    "    \n",
    "    h = np.asarray(hessian)\n",
    "    \n",
    "    #hessian = np.array([[a11,a12,a13,a14],[a12,a22,a23,a24],[a13,a23,a33,a34],[a14,a24,a34,a44]])\n",
    "    covariance_matrix =  inv(h.reshape((2+numbercycles*2,2+numbercycles*2)))\n",
    "    return covariance_matrix"
   ]
  },
  {
   "cell_type": "markdown",
   "metadata": {},
   "source": [
    "# Example Use:"
   ]
  },
  {
   "cell_type": "markdown",
   "metadata": {},
   "source": [
    "## Create a pandas dataframe of the counts for ch1 and ch2 of the digitizer"
   ]
  },
  {
   "cell_type": "code",
   "execution_count": 14,
   "metadata": {},
   "outputs": [],
   "source": [
    "# Redefine run_name for tests\n",
    "\n",
    "run_name = 'runTEST09182020_2'\n",
    "# run_name = 'Ne19rundeltaE-02-22-20_5'\n",
    "data = Run_Data(run_name)"
   ]
  },
  {
   "cell_type": "code",
   "execution_count": 15,
   "metadata": {},
   "outputs": [
    {
     "name": "stdout",
     "output_type": "stream",
     "text": [
      "0              0.000025\n",
      "1              0.000077\n",
      "2              0.000094\n",
      "3              0.000198\n",
      "4              0.000211\n",
      "               ...     \n",
      "13861059    2084.074667\n",
      "13861060    2095.055600\n",
      "13861061    2095.616214\n",
      "13861062    2098.997996\n",
      "13861063    2109.118894\n",
      "Name: TIMETAG, Length: 13861064, dtype: float64\n"
     ]
    },
    {
     "data": {
      "text/html": [
       "<div>\n",
       "<style scoped>\n",
       "    .dataframe tbody tr th:only-of-type {\n",
       "        vertical-align: middle;\n",
       "    }\n",
       "\n",
       "    .dataframe tbody tr th {\n",
       "        vertical-align: top;\n",
       "    }\n",
       "\n",
       "    .dataframe thead th {\n",
       "        text-align: right;\n",
       "    }\n",
       "</style>\n",
       "<table border=\"1\" class=\"dataframe\">\n",
       "  <thead>\n",
       "    <tr style=\"text-align: right;\">\n",
       "      <th></th>\n",
       "      <th>TIMETAG</th>\n",
       "      <th>ENERGY</th>\n",
       "      <th>ENERGYSHORT</th>\n",
       "      <th>FLAGS</th>\n",
       "    </tr>\n",
       "  </thead>\n",
       "  <tbody>\n",
       "    <tr>\n",
       "      <th>0</th>\n",
       "      <td>24628271</td>\n",
       "      <td>467</td>\n",
       "      <td>322</td>\n",
       "      <td>0x4000</td>\n",
       "    </tr>\n",
       "    <tr>\n",
       "      <th>1</th>\n",
       "      <td>77292032</td>\n",
       "      <td>467</td>\n",
       "      <td>358</td>\n",
       "      <td>0x4000</td>\n",
       "    </tr>\n",
       "    <tr>\n",
       "      <th>2</th>\n",
       "      <td>94064100</td>\n",
       "      <td>475</td>\n",
       "      <td>333</td>\n",
       "      <td>0x4000</td>\n",
       "    </tr>\n",
       "    <tr>\n",
       "      <th>3</th>\n",
       "      <td>197516272</td>\n",
       "      <td>467</td>\n",
       "      <td>322</td>\n",
       "      <td>0x4000</td>\n",
       "    </tr>\n",
       "    <tr>\n",
       "      <th>4</th>\n",
       "      <td>210972524</td>\n",
       "      <td>465</td>\n",
       "      <td>318</td>\n",
       "      <td>0x4000</td>\n",
       "    </tr>\n",
       "    <tr>\n",
       "      <th>...</th>\n",
       "      <td>...</td>\n",
       "      <td>...</td>\n",
       "      <td>...</td>\n",
       "      <td>...</td>\n",
       "    </tr>\n",
       "    <tr>\n",
       "      <th>13861059</th>\n",
       "      <td>2084074666800324</td>\n",
       "      <td>467</td>\n",
       "      <td>320</td>\n",
       "      <td>0x4000</td>\n",
       "    </tr>\n",
       "    <tr>\n",
       "      <th>13861060</th>\n",
       "      <td>2095055600320100</td>\n",
       "      <td>475</td>\n",
       "      <td>333</td>\n",
       "      <td>0x4000</td>\n",
       "    </tr>\n",
       "    <tr>\n",
       "      <th>13861061</th>\n",
       "      <td>2095616214496074</td>\n",
       "      <td>479</td>\n",
       "      <td>338</td>\n",
       "      <td>0x4000</td>\n",
       "    </tr>\n",
       "    <tr>\n",
       "      <th>13861062</th>\n",
       "      <td>2098997995549156</td>\n",
       "      <td>466</td>\n",
       "      <td>315</td>\n",
       "      <td>0x4000</td>\n",
       "    </tr>\n",
       "    <tr>\n",
       "      <th>13861063</th>\n",
       "      <td>2109118894316785</td>\n",
       "      <td>465</td>\n",
       "      <td>316</td>\n",
       "      <td>0x4000</td>\n",
       "    </tr>\n",
       "  </tbody>\n",
       "</table>\n",
       "<p>13861064 rows × 4 columns</p>\n",
       "</div>"
      ],
      "text/plain": [
       "                   TIMETAG  ENERGY  ENERGYSHORT   FLAGS\n",
       "0                 24628271     467          322  0x4000\n",
       "1                 77292032     467          358  0x4000\n",
       "2                 94064100     475          333  0x4000\n",
       "3                197516272     467          322  0x4000\n",
       "4                210972524     465          318  0x4000\n",
       "...                    ...     ...          ...     ...\n",
       "13861059  2084074666800324     467          320  0x4000\n",
       "13861060  2095055600320100     475          333  0x4000\n",
       "13861061  2095616214496074     479          338  0x4000\n",
       "13861062  2098997995549156     466          315  0x4000\n",
       "13861063  2109118894316785     465          316  0x4000\n",
       "\n",
       "[13861064 rows x 4 columns]"
      ]
     },
     "execution_count": 15,
     "metadata": {},
     "output_type": "execute_result"
    },
    {
     "data": {
      "image/png": "[encoded data removed]",
      "text/plain": [
       "<Figure size 1080x576 with 1 Axes>"
      ]
     },
     "metadata": {
      "needs_background": "light"
     },
     "output_type": "display_data"
    }
   ],
   "source": [
    "#data for channel 0\n",
    "# print(data[0])\n",
    "# print(data[1])\n",
    "# #Test Plot of data\n",
    "# test = data[0]\n",
    "# test.plot()\n",
    "plt.figure(figsize=(15,8))\n",
    "plt.tight_layout()\n",
    "plt.title('Run 5 from Feburary 22 (One Second Bins)')\n",
    "plt.ylabel('Counts')\n",
    "plt.xlabel('Time (Seconds)')\n",
    "plt.xlim(0,10)\n",
    "plt.yscale('log')\n",
    "plt.hist(data[0]['TIMETAG']*10**-12,bins=500);\n",
    "plt.savefig('Run 5')\n",
    "\n",
    "# 10 bins: 500/10 = 50s*1/3s = 17 counts per bin. Makes sense\n",
    "print(data[0]['TIMETAG']*10**-12)\n",
    "\n",
    "# With source: We are seeing roughly 30 Hz. This means that the (3s) cycles should have roughly 90 events each.\n",
    "\n",
    "data[0]"
   ]
  },
  {
   "cell_type": "markdown",
   "metadata": {},
   "source": [
    "## Split the data into the individual cycles"
   ]
  },
  {
   "cell_type": "code",
   "execution_count": 16,
   "metadata": {},
   "outputs": [],
   "source": [
    "cycles = Split_Data(data[0],data[1])"
   ]
  },
  {
   "cell_type": "code",
   "execution_count": 17,
   "metadata": {
    "scrolled": true
   },
   "outputs": [
    {
     "data": {
      "text/plain": [
       "[                 TIMETAG  ENERGY  ENERGYSHORT   FLAGS\n",
       " 0        180925701612171     470          326  0x4000\n",
       " 1        180925717988049     475          353  0x4000\n",
       " 2        180926030200075     479          339  0x4000\n",
       " 3        180926639376127     472          330  0x4000\n",
       " 4        180926651836046     907          354  0x4000\n",
       " ...                  ...     ...          ...     ...\n",
       " 2273953  345950805812086     478          336  0x4000\n",
       " 2273954  345953149084079     478          337  0x4000\n",
       " 2273955  345960210972087     931          335  0x4000\n",
       " 2273956  345960880588105     474          331  0x4000\n",
       " 2273957  345961189344064     479          345  0x4000\n",
       " \n",
       " [2273958 rows x 4 columns],\n",
       "                  TIMETAG  ENERGY  ENERGYSHORT   FLAGS\n",
       " 0        425962310420049     471          355  0x4000\n",
       " 1        425962596532179     470          326  0x4000\n",
       " 2        425962878720047     475          352  0x4000\n",
       " 3        425963148016375     467          320  0x4000\n",
       " 4        425963297684076     478          339  0x4000\n",
       " ...                  ...     ...          ...     ...\n",
       " 2306935  590994504936048     475          353  0x4000\n",
       " 2306936  590995376612049     471          356  0x4000\n",
       " 2306937  590996099556058     480          344  0x4000\n",
       " 2306938  590996744788082     477          337  0x4000\n",
       " 2306939  590998499032301     466          321  0x4000\n",
       " \n",
       " [2306940 rows x 4 columns],\n",
       "                  TIMETAG  ENERGY  ENERGYSHORT   FLAGS\n",
       " 0        670998880404069     480          343  0x4000\n",
       " 1        670998913720023     466          359  0x4000\n",
       " 2        670999184104062     480          343  0x4000\n",
       " 3        670999694128058     478          347  0x4000\n",
       " 4        671000048284087     477          336  0x4000\n",
       " ...                  ...     ...          ...     ...\n",
       " 2204493  836032195504057     481          348  0x4000\n",
       " 2204494  836032726132051     477          350  0x4000\n",
       " 2204495  836033846248226     468          323  0x4000\n",
       " 2204496  836034438596047     471          357  0x4000\n",
       " 2204497  836035068752049     471          354  0x4000\n",
       " \n",
       " [2204498 rows x 4 columns],\n",
       "                   TIMETAG  ENERGY  ENERGYSHORT   FLAGS\n",
       " 0         916035873872065     480          344  0x4000\n",
       " 1         916036255808880     465          316  0x4000\n",
       " 2         916036299040050     475          354  0x4000\n",
       " 3         916036374984064     478          342  0x4000\n",
       " 4         916036399084047     470          356  0x4000\n",
       " ...                   ...     ...          ...     ...\n",
       " 2170440  1023793140088217     469          324  0x4000\n",
       " 2170441  1023793182624070     480          340  0x4000\n",
       " 2170442  1023793412452076     479          339  0x4000\n",
       " 2170443  1023793596712391     827          320  0x4000\n",
       " 2170444  1023794340876686     466          317  0x4000\n",
       " \n",
       " [2170445 rows x 4 columns],\n",
       "                   TIMETAG  ENERGY  ENERGYSHORT   FLAGS\n",
       " 0        1103798620796040     470          358  0x4000\n",
       " 1        1103805218776067     481          341  0x4000\n",
       " 2        1103805596204049     472          356  0x4000\n",
       " 3        1103815444496050     470          357  0x4000\n",
       " 4        1103816898156144     471          328  0x4000\n",
       " ...                   ...     ...          ...     ...\n",
       " 2270225  1430600331404020     467          359  0x4000\n",
       " 2270226  1430605305784269     467          322  0x4000\n",
       " 2270227  1430608802948055     478          347  0x4000\n",
       " 2270228  1430611494036063     480          342  0x4000\n",
       " 2270229  1430613166068049     472          356  0x4000\n",
       " \n",
       " [2270230 rows x 4 columns],\n",
       " Empty DataFrame\n",
       " Columns: [TIMETAG, ENERGY, ENERGYSHORT, FLAGS]\n",
       " Index: [],\n",
       " Empty DataFrame\n",
       " Columns: [TIMETAG, ENERGY, ENERGYSHORT, FLAGS]\n",
       " Index: [],\n",
       " Empty DataFrame\n",
       " Columns: [TIMETAG, ENERGY, ENERGYSHORT, FLAGS]\n",
       " Index: [],\n",
       " Empty DataFrame\n",
       " Columns: [TIMETAG, ENERGY, ENERGYSHORT, FLAGS]\n",
       " Index: [],\n",
       " Empty DataFrame\n",
       " Columns: [TIMETAG, ENERGY, ENERGYSHORT, FLAGS]\n",
       " Index: [],\n",
       " Empty DataFrame\n",
       " Columns: [TIMETAG, ENERGY, ENERGYSHORT, FLAGS]\n",
       " Index: [],\n",
       " Empty DataFrame\n",
       " Columns: [TIMETAG, ENERGY, ENERGYSHORT, FLAGS]\n",
       " Index: [],\n",
       "                 TIMETAG  ENERGY  ENERGYSHORT   FLAGS\n",
       " 0      1588259897460048     476          352  0x4000\n",
       " 1      1588260348528066     479          344  0x4000\n",
       " 2      1588260363212049     474          353  0x4000\n",
       " 3      1588260415868071     479          339  0x4000\n",
       " 4      1588260728196080     478          337  0x4000\n",
       " ...                 ...     ...          ...     ...\n",
       " 38374  1595264620161084     869          316  0x4000\n",
       " 38375  1595264919384111     878          331  0x4000\n",
       " 38376  1595265048097177     467          315  0x4000\n",
       " 38377  1595265066460071     479          341  0x4000\n",
       " 38378  1595265208504267     467          322  0x4000\n",
       " \n",
       " [38379 rows x 4 columns],\n",
       "                TIMETAG  ENERGY  ENERGYSHORT   FLAGS\n",
       " 0     1675267467016074     480          340  0x4000\n",
       " 1     1675270124524049     472          354  0x4000\n",
       " 2     1675292890288942     464          316  0x4000\n",
       " 3     1675304044680173     470          325  0x4000\n",
       " 4     1675310180012044     468          357  0x4000\n",
       " ...                ...     ...          ...     ...\n",
       " 4925  1829503366628083     477          336  0x4000\n",
       " 4926  1829874931176014     467          359  0x4000\n",
       " 4927  1831679034677824     465          314  0x4000\n",
       " 4928  1833978166048047     471          355  0x4000\n",
       " 4929  1835568383960061     480          346  0x4000\n",
       " \n",
       " [4930 rows x 4 columns],\n",
       " Empty DataFrame\n",
       " Columns: [TIMETAG, ENERGY, ENERGYSHORT, FLAGS]\n",
       " Index: []]"
      ]
     },
     "execution_count": 17,
     "metadata": {},
     "output_type": "execute_result"
    }
   ],
   "source": [
    "#Data for channel 0 split by the triggering in channel 1\n",
    "cycles"
   ]
  },
  {
   "cell_type": "markdown",
   "metadata": {},
   "source": [
    "## Example of how to find the best fit deadtime:"
   ]
  },
  {
   "cell_type": "code",
   "execution_count": 18,
   "metadata": {
    "scrolled": true
   },
   "outputs": [
    {
     "name": "stderr",
     "output_type": "stream",
     "text": [
      "100%|██████████| 100/100 [00:50<00:00,  1.97it/s]\n"
     ]
    }
   ],
   "source": [
    "#this takes a while to run, deadtime = 1.853e-05 for cutoff = 0 for data right now\n",
    "deadtimelist = np.arange(40e-9,50e-9,.1e-9)\n",
    "fitlist = []\n",
    "for i in tqdm(deadtimelist):\n",
    "    op2 = optimize_sharedvalues(cycles[1:4],cutoff=70,deadtime=i,binsize=1)\n",
    "    fitlist[0:0] = [op2]\n",
    "fitlist.reverse()\n",
    "\n",
    "# np.arange(1e-9,1e-7,1e-9) # Shows how flat the fit is. Hard to identify a reasonable minimum.\n",
    "# np.arange(4e-8,8e-8,1e-9) # Shows zooming in on the minimum. \n",
    "# Note: Gate was 40 ns for these cycles. "
   ]
  },
  {
   "cell_type": "markdown",
   "metadata": {},
   "source": [
    "## Plotting the Deadtime minimization:"
   ]
  },
  {
   "cell_type": "code",
   "execution_count": 19,
   "metadata": {},
   "outputs": [
    {
     "data": {
      "text/plain": [
       "(array([4.47e-08]), array([521.52609846]))"
      ]
     },
     "execution_count": 19,
     "metadata": {},
     "output_type": "execute_result"
    },
    {
     "data": {
      "image/png": "[encoded data removed]",
      "text/plain": [
       "<Figure size 792x576 with 1 Axes>"
      ]
     },
     "metadata": {
      "needs_background": "light"
     },
     "output_type": "display_data"
    }
   ],
   "source": [
    "\n",
    "plt.figure(figsize=(11,8))\n",
    "\n",
    "chilist = np.asarray([fitlist[i].fun for i in np.arange(0,len(fitlist)) ])\n",
    "plt.scatter(deadtimelist,chilist)\n",
    "plt.xlim(40e-9,50e-9)\n",
    "# plt.ylim(0,100)\n",
    "\n",
    "#Finding the deadtime that corresponds to the minimum chi-squared value\n",
    "np.asarray(deadtimelist)[np.where(chilist==chilist.min())],chilist[np.where(chilist==chilist.min())]\n",
    "# print(chilist)"
   ]
  },
  {
   "cell_type": "markdown",
   "metadata": {},
   "source": [
    "## Find the best fit for shared deadtime and halflife using a simple exponential"
   ]
  },
  {
   "cell_type": "code",
   "execution_count": 33,
   "metadata": {},
   "outputs": [],
   "source": [
    "op = optimize_sharedvalues_simple(cycles[0:3],cutoff=70,binsize=1)"
   ]
  },
  {
   "cell_type": "code",
   "execution_count": 34,
   "metadata": {},
   "outputs": [
    {
     "data": {
      "text/plain": [
       "      fun: 453.36356030059596\n",
       " hess_inv: array([[ 3.15208431e-09,  1.59930841e-04, -2.10003293e-04,\n",
       "        -2.76764896e-04, -2.55481305e-04, -1.90181965e-04,\n",
       "         1.36649078e-04],\n",
       "       [ 1.59930841e-04,  1.83746287e+01, -7.96191618e+00,\n",
       "        -1.09101456e+01, -6.96669839e+00,  4.98863434e+00,\n",
       "         5.48574750e+00],\n",
       "       [-2.10003293e-04, -7.96191618e+00,  7.60039809e+01,\n",
       "         8.88606077e+01,  6.45384683e+01,  6.37316731e+01,\n",
       "        -9.31705792e+01],\n",
       "       [-2.76764896e-04, -1.09101456e+01,  8.88606077e+01,\n",
       "         1.27637236e+02,  8.07559932e+01,  7.93946453e+01,\n",
       "        -1.26192499e+02],\n",
       "       [-2.55481305e-04, -6.96669839e+00,  6.45384683e+01,\n",
       "         8.07559932e+01,  6.30235999e+01,  6.98718073e+01,\n",
       "        -6.84554448e+01],\n",
       "       [-1.90181965e-04,  4.98863434e+00,  6.37316731e+01,\n",
       "         7.93946453e+01,  6.98718073e+01,  9.92779174e+01,\n",
       "        -4.88366550e+01],\n",
       "       [ 1.36649078e-04,  5.48574750e+00, -9.31705792e+01,\n",
       "        -1.26192499e+02, -6.84554448e+01, -4.88366550e+01,\n",
       "         1.65040402e+02]])\n",
       "      jac: array([ 2.67868042e-02, -5.72204590e-05,  2.67028809e-05,  5.34057617e-05,\n",
       "        0.00000000e+00, -1.14440918e-05, -7.62939453e-06])\n",
       "  message: 'Desired error not necessarily achieved due to precision loss.'\n",
       "     nfev: 874\n",
       "      nit: 60\n",
       "     njev: 97\n",
       "   status: 2\n",
       "  success: False\n",
       "        x: array([4.08304189e-02, 1.74813602e+02, 1.55774787e+02, 1.69197340e+02,\n",
       "       1.89663847e+04, 1.93284258e+04, 1.87428455e+04])"
      ]
     },
     "execution_count": 34,
     "metadata": {},
     "output_type": "execute_result"
    }
   ],
   "source": [
    "op"
   ]
  },
  {
   "cell_type": "markdown",
   "metadata": {},
   "source": [
    "## Plot the residuals"
   ]
  },
  {
   "cell_type": "code",
   "execution_count": 35,
   "metadata": {},
   "outputs": [
    {
     "data": {
      "image/png": "[encoded data removed]",
      "text/plain": [
       "<Figure size 432x288 with 1 Axes>"
      ]
     },
     "metadata": {
      "needs_background": "light"
     },
     "output_type": "display_data"
    }
   ],
   "source": [
    "res = residuals(counts=cycles[0:4],cycle_number=0,values=op.x,binsize=1,cutoff=70)\n",
    "# len(res['time'])*5 # What is this for? (DREW)\n",
    "\n",
    "plt.scatter(res['time'],res['residuals'])\n",
    "plt.title('Simple Exponential Fit Residuals: Cycle 4');\n",
    "plt.savefig('simpcycle4res.png')"
   ]
  },
  {
   "cell_type": "code",
   "execution_count": null,
   "metadata": {},
   "outputs": [],
   "source": []
  },
  {
   "cell_type": "code",
   "execution_count": 41,
   "metadata": {},
   "outputs": [],
   "source": [
    "def dfit(m,D):\n",
    "    return (1/(1-m*D))\n",
    "\n",
    "m = lambda lam, D, n_0, t: (n_0*np.exp(-lam*t))/(1+n_0*np.exp(-lam*t)*D)\n",
    "\n",
    "t_half = 17 # (s)\n",
    "lam = np.log(2)/t_half # (Hz)\n",
    "n_0 = 1.89663847e+04 # (Hz)\n",
    "D = 50*10**-6 # (s)\n",
    "\n",
    "t = np.arange(0,t_half*10,1) #(s)"
   ]
  },
  {
   "cell_type": "code",
   "execution_count": 49,
   "metadata": {
    "scrolled": true
   },
   "outputs": [
    {
     "data": {
      "image/png": "[encoded data removed]",
      "text/plain": [
       "<Figure size 432x288 with 1 Axes>"
      ]
     },
     "metadata": {
      "needs_background": "light"
     },
     "output_type": "display_data"
    }
   ],
   "source": [
    "plt.scatter(res['time'],res['fit'],s=10,label=\"Simple Exponenial Fit\")\n",
    "plt.scatter(res['time'],res['measured'][0:len(res['time'])],s=10,label=\"Our Measured Data\")\n",
    "i = 2 # (us)\n",
    "D = i*10**-6  \n",
    "plt.plot(t,m(lam,D,n_0,t), label= 'D = {}us'.format(i))\n",
    "\n",
    "plt.xlim(-5,100)\n",
    "plt.ylim(10**3,10**5)\n",
    "plt.title('Run 2 Cycle 4');\n",
    "plt.ylabel('Log Counts')\n",
    "plt.xlabel('Time (s)')\n",
    "plt.yscale('log')\n",
    "plt.legend()\n",
    "plt.show()\n",
    "#plt.savefig('cutoff70simpcycle4.png')"
   ]
  },
  {
   "cell_type": "markdown",
   "metadata": {
    "jupyter": {
     "source_hidden": true
    }
   },
   "source": [
    "## Find the best fit for shared deadtime and halflife using the deadtime model"
   ]
  },
  {
   "cell_type": "code",
   "execution_count": 122,
   "metadata": {},
   "outputs": [],
   "source": [
    "opd = optimize_sharedvalues(cycles[0:4],cutoff=70,deadtime=3e-11,binsize=1)"
   ]
  },
  {
   "cell_type": "code",
   "execution_count": 123,
   "metadata": {},
   "outputs": [
    {
     "data": {
      "text/plain": [
       "      fun: 1392.5274428192756\n",
       " hess_inv: array([[ 4.99811369e-10,  3.76595008e-06,  8.37283618e-10,\n",
       "         3.78247442e-06,  2.95876266e-07,  0.00000000e+00,\n",
       "         0.00000000e+00,  0.00000000e+00, -2.91958544e-07],\n",
       "       [ 3.76595008e-06,  1.00067853e+00,  5.81208059e-06,\n",
       "         6.63317257e-04, -3.60601934e-05,  0.00000000e+00,\n",
       "         0.00000000e+00,  0.00000000e+00,  6.80890590e-05],\n",
       "       [ 8.37283618e-10,  5.81208059e-06,  2.91403788e-09,\n",
       "         5.85488837e-06,  5.27702356e-07,  0.00000000e+00,\n",
       "         0.00000000e+00,  0.00000000e+00, -5.29301460e-07],\n",
       "       [ 3.78247442e-06,  6.63317257e-04,  5.85488837e-06,\n",
       "         1.00064845e+00, -3.49629901e-05,  0.00000000e+00,\n",
       "         0.00000000e+00,  0.00000000e+00,  6.68518164e-05],\n",
       "       [ 2.95876266e-07, -3.60601934e-05,  5.27702356e-07,\n",
       "        -3.49629901e-05,  5.00006125e-01,  0.00000000e+00,\n",
       "         0.00000000e+00,  0.00000000e+00, -5.00003978e-01],\n",
       "       [ 0.00000000e+00,  0.00000000e+00,  0.00000000e+00,\n",
       "         0.00000000e+00,  0.00000000e+00,  1.00000000e+00,\n",
       "         0.00000000e+00,  0.00000000e+00,  0.00000000e+00],\n",
       "       [ 0.00000000e+00,  0.00000000e+00,  0.00000000e+00,\n",
       "         0.00000000e+00,  0.00000000e+00,  0.00000000e+00,\n",
       "         1.00000000e+00,  0.00000000e+00,  0.00000000e+00],\n",
       "       [ 0.00000000e+00,  0.00000000e+00,  0.00000000e+00,\n",
       "         0.00000000e+00,  0.00000000e+00,  0.00000000e+00,\n",
       "         0.00000000e+00,  1.00000000e+00,  0.00000000e+00],\n",
       "       [-2.91958544e-07,  6.80890590e-05, -5.29301460e-07,\n",
       "         6.68518164e-05, -5.00003978e-01,  0.00000000e+00,\n",
       "         0.00000000e+00,  0.00000000e+00,  5.00001906e-01]])\n",
       "      jac: array([ 6.86823413e+03, -3.74163818e+00, -1.29097534e+02, -3.65844727e+00,\n",
       "        4.82574463e-01,  0.00000000e+00,  0.00000000e+00,  0.00000000e+00,\n",
       "        0.00000000e+00])\n",
       "  message: 'Desired error not necessarily achieved due to precision loss.'\n",
       "     nfev: 2764\n",
       "      nit: 3\n",
       "     njev: 249\n",
       "   status: 2\n",
       "  success: False\n",
       "        x: array([3.89689694e-02, 1.00000001e+00, 9.99996244e-01, 1.00000001e+00,\n",
       "       9.99999998e-01, 1.87660000e+04, 1.91910000e+04, 1.85330000e+04,\n",
       "       1.86130000e+04])"
      ]
     },
     "execution_count": 123,
     "metadata": {},
     "output_type": "execute_result"
    }
   ],
   "source": [
    "opd"
   ]
  },
  {
   "cell_type": "markdown",
   "metadata": {},
   "source": [
    "## Plot the residuals"
   ]
  },
  {
   "cell_type": "code",
   "execution_count": 124,
   "metadata": {},
   "outputs": [
    {
     "data": {
      "text/plain": [
       "94"
      ]
     },
     "execution_count": 124,
     "metadata": {},
     "output_type": "execute_result"
    }
   ],
   "source": [
    "resd = residuals_deadtime(counts=cycles[0:3],cycle_number=1,values=opd.x,binsize=1,cutoff=70)\n",
    "len(resd['time'])"
   ]
  },
  {
   "cell_type": "code",
   "execution_count": 125,
   "metadata": {},
   "outputs": [
    {
     "data": {
      "image/png": "[encoded data removed]",
      "text/plain": [
       "<Figure size 432x288 with 1 Axes>"
      ]
     },
     "metadata": {
      "needs_background": "light"
     },
     "output_type": "display_data"
    }
   ],
   "source": [
    "plt.scatter(resd['time'],resd['residuals'])\n",
    "plt.title('Deadtime Fit Residuals: Cycle 4');\n"
   ]
  },
  {
   "cell_type": "code",
   "execution_count": 103,
   "metadata": {},
   "outputs": [
    {
     "data": {
      "image/png": "[encoded data removed]",
      "text/plain": [
       "<Figure size 720x720 with 1 Axes>"
      ]
     },
     "metadata": {
      "needs_background": "light"
     },
     "output_type": "display_data"
    }
   ],
   "source": [
    "plt.figure(figsize=(10,10))\n",
    "plt.scatter(resd['time'],resd['fit'],s=10,label=\"Deadtime Fit\")\n",
    "plt.scatter(resd['time'],resd['measured'][0:len(resd['time'])],s=10,label=\"Our Measured Data\")\n",
    "plt.yscale('log')\n",
    "plt.title('Cycle 4');\n",
    "plt.ylabel('Log Counts')\n",
    "plt.xlabel('Time (s)')\n",
    "plt.legend();\n"
   ]
  },
  {
   "cell_type": "markdown",
   "metadata": {},
   "source": [
    "## Covariance Matrix"
   ]
  },
  {
   "cell_type": "code",
   "execution_count": 89,
   "metadata": {},
   "outputs": [
    {
     "ename": "ValueError",
     "evalue": "arange: cannot compute length",
     "output_type": "error",
     "traceback": [
      "\u001b[0;31m---------------------------------------------------------------------------\u001b[0m",
      "\u001b[0;31mValueError\u001b[0m                                Traceback (most recent call last)",
      "\u001b[0;32m<ipython-input-89-8cabcc2b38eb>\u001b[0m in \u001b[0;36m<module>\u001b[0;34m\u001b[0m\n\u001b[1;32m      1\u001b[0m \u001b[0;31m#covariance matrix for the deadtime model\u001b[0m\u001b[0;34m\u001b[0m\u001b[0;34m\u001b[0m\u001b[0;34m\u001b[0m\u001b[0m\n\u001b[0;32m----> 2\u001b[0;31m \u001b[0mcm\u001b[0m \u001b[0;34m=\u001b[0m \u001b[0mcovariance_matrixd\u001b[0m\u001b[0;34m(\u001b[0m\u001b[0mopd\u001b[0m\u001b[0;34m.\u001b[0m\u001b[0mx\u001b[0m\u001b[0;34m,\u001b[0m\u001b[0mcycles\u001b[0m\u001b[0;34m,\u001b[0m\u001b[0;36m1.853e-05\u001b[0m\u001b[0;34m,\u001b[0m\u001b[0;36m0\u001b[0m\u001b[0;34m,\u001b[0m\u001b[0;36m1\u001b[0m\u001b[0;34m)\u001b[0m\u001b[0;34m\u001b[0m\u001b[0;34m\u001b[0m\u001b[0m\n\u001b[0m",
      "\u001b[0;32m<ipython-input-19-b56d0e9f33b3>\u001b[0m in \u001b[0;36mcovariance_matrixd\u001b[0;34m(best_fit_parameters, counts, deadtime, cutoff, binsize)\u001b[0m\n\u001b[1;32m     18\u001b[0m     \u001b[0mmeasured\u001b[0m\u001b[0;34m=\u001b[0m\u001b[0;34m[\u001b[0m\u001b[0;34m]\u001b[0m\u001b[0;34m\u001b[0m\u001b[0;34m\u001b[0m\u001b[0m\n\u001b[1;32m     19\u001b[0m     \u001b[0;32mfor\u001b[0m \u001b[0mi\u001b[0m \u001b[0;32min\u001b[0m \u001b[0mnp\u001b[0m\u001b[0;34m.\u001b[0m\u001b[0marange\u001b[0m\u001b[0;34m(\u001b[0m\u001b[0;36m0\u001b[0m\u001b[0;34m,\u001b[0m\u001b[0mnumbercycles\u001b[0m\u001b[0;34m)\u001b[0m\u001b[0;34m:\u001b[0m\u001b[0;34m\u001b[0m\u001b[0;34m\u001b[0m\u001b[0m\n\u001b[0;32m---> 20\u001b[0;31m         \u001b[0mt_temporary\u001b[0m\u001b[0;34m,\u001b[0m\u001b[0mmeasured_temporary\u001b[0m \u001b[0;34m=\u001b[0m \u001b[0mcount_rate\u001b[0m\u001b[0;34m(\u001b[0m\u001b[0msingle_run_coincidences\u001b[0m\u001b[0;34m=\u001b[0m\u001b[0mcycle_data\u001b[0m\u001b[0;34m[\u001b[0m\u001b[0mi\u001b[0m\u001b[0;34m]\u001b[0m\u001b[0;34m,\u001b[0m \u001b[0mcutoff\u001b[0m\u001b[0;34m=\u001b[0m\u001b[0mcutoff\u001b[0m\u001b[0;34m,\u001b[0m \u001b[0mbin_size\u001b[0m \u001b[0;34m=\u001b[0m \u001b[0mbinsize\u001b[0m\u001b[0;34m)\u001b[0m\u001b[0;34m\u001b[0m\u001b[0;34m\u001b[0m\u001b[0m\n\u001b[0m\u001b[1;32m     21\u001b[0m         \u001b[0mnp\u001b[0m\u001b[0;34m.\u001b[0m\u001b[0masarray\u001b[0m\u001b[0;34m(\u001b[0m\u001b[0mmeasured_temporary\u001b[0m\u001b[0;34m)\u001b[0m\u001b[0;34m[\u001b[0m\u001b[0;36m0\u001b[0m\u001b[0;34m:\u001b[0m\u001b[0mlen\u001b[0m\u001b[0;34m(\u001b[0m\u001b[0mmeasured_temporary\u001b[0m\u001b[0;34m)\u001b[0m\u001b[0;34m-\u001b[0m\u001b[0;36m1\u001b[0m\u001b[0;34m]\u001b[0m\u001b[0;34m[\u001b[0m\u001b[0mnp\u001b[0m\u001b[0;34m.\u001b[0m\u001b[0mwhere\u001b[0m\u001b[0;34m(\u001b[0m\u001b[0mmeasured_temporary\u001b[0m\u001b[0;34m[\u001b[0m\u001b[0;36m0\u001b[0m\u001b[0;34m:\u001b[0m\u001b[0mlen\u001b[0m\u001b[0;34m(\u001b[0m\u001b[0mmeasured_temporary\u001b[0m\u001b[0;34m)\u001b[0m\u001b[0;34m-\u001b[0m\u001b[0;36m1\u001b[0m\u001b[0;34m]\u001b[0m\u001b[0;34m==\u001b[0m\u001b[0;36m0\u001b[0m\u001b[0;34m)\u001b[0m\u001b[0;34m]\u001b[0m \u001b[0;34m=\u001b[0m \u001b[0;36m1\u001b[0m\u001b[0;34m\u001b[0m\u001b[0;34m\u001b[0m\u001b[0m\n\u001b[1;32m     22\u001b[0m         \u001b[0mt_temporary\u001b[0m \u001b[0;34m=\u001b[0m \u001b[0mt_temporary\u001b[0m\u001b[0;34m[\u001b[0m\u001b[0;36m0\u001b[0m\u001b[0;34m:\u001b[0m\u001b[0mint\u001b[0m\u001b[0;34m(\u001b[0m\u001b[0;36m210\u001b[0m\u001b[0;34m/\u001b[0m\u001b[0mbinsize\u001b[0m\u001b[0;34m)\u001b[0m\u001b[0;34m-\u001b[0m\u001b[0mcutoff\u001b[0m\u001b[0;34m]\u001b[0m\u001b[0;34m\u001b[0m\u001b[0;34m\u001b[0m\u001b[0m\n",
      "\u001b[0;32m<ipython-input-9-6661ed109fa6>\u001b[0m in \u001b[0;36mcount_rate\u001b[0;34m(single_run_coincidences, cutoff, bin_size)\u001b[0m\n\u001b[1;32m     23\u001b[0m     \u001b[0msinglerun\u001b[0m \u001b[0;34m=\u001b[0m \u001b[0msinglerun\u001b[0m\u001b[0;34m-\u001b[0m\u001b[0msinglerun\u001b[0m\u001b[0;34m.\u001b[0m\u001b[0mmin\u001b[0m\u001b[0;34m(\u001b[0m\u001b[0;34m)\u001b[0m\u001b[0;34m\u001b[0m\u001b[0;34m\u001b[0m\u001b[0m\n\u001b[1;32m     24\u001b[0m     \u001b[0;31m#Creating an array of the time spacings\u001b[0m\u001b[0;34m\u001b[0m\u001b[0;34m\u001b[0m\u001b[0;34m\u001b[0m\u001b[0m\n\u001b[0;32m---> 25\u001b[0;31m     \u001b[0mtime_axis\u001b[0m \u001b[0;34m=\u001b[0m \u001b[0mnp\u001b[0m\u001b[0;34m.\u001b[0m\u001b[0marange\u001b[0m\u001b[0;34m(\u001b[0m\u001b[0;36m0\u001b[0m\u001b[0;34m,\u001b[0m\u001b[0msinglerun\u001b[0m\u001b[0;34m.\u001b[0m\u001b[0mmax\u001b[0m\u001b[0;34m(\u001b[0m\u001b[0;34m)\u001b[0m\u001b[0;34m-\u001b[0m\u001b[0mbin_seconds\u001b[0m\u001b[0;34m,\u001b[0m\u001b[0mbin_seconds\u001b[0m\u001b[0;34m)\u001b[0m\u001b[0;34m\u001b[0m\u001b[0;34m\u001b[0m\u001b[0m\n\u001b[0m\u001b[1;32m     26\u001b[0m \u001b[0;34m\u001b[0m\u001b[0m\n\u001b[1;32m     27\u001b[0m     \u001b[0;32mdef\u001b[0m \u001b[0mtime_binning\u001b[0m\u001b[0;34m(\u001b[0m\u001b[0mi\u001b[0m\u001b[0;34m)\u001b[0m\u001b[0;34m:\u001b[0m\u001b[0;34m\u001b[0m\u001b[0;34m\u001b[0m\u001b[0m\n",
      "\u001b[0;31mValueError\u001b[0m: arange: cannot compute length"
     ]
    }
   ],
   "source": [
    "#covariance matrix for the deadtime model\n",
    "cm = covariance_matrixd(opd.x,cycles,1.853e-05,0,1)"
   ]
  },
  {
   "cell_type": "code",
   "execution_count": 96,
   "metadata": {},
   "outputs": [
    {
     "data": {
      "text/plain": [
       "array([4.87189008e-06, 4.14279243e-05, 6.70857165e+04, 6.21420855e+04,\n",
       "       6.58789405e+04, 3.99864723e+04, 8.07539585e+04, 1.01481684e+05,\n",
       "       9.67765152e+04, 9.99761498e+04, 6.87016080e+04, 1.31028389e+05])"
      ]
     },
     "execution_count": 96,
     "metadata": {},
     "output_type": "execute_result"
    }
   ],
   "source": [
    "np.sqrt(np.diagonal(cm))"
   ]
  },
  {
   "cell_type": "code",
   "execution_count": 100,
   "metadata": {},
   "outputs": [
    {
     "data": {
      "text/plain": [
       "(16.90258350930515, 0.017092785915096442)"
      ]
     },
     "execution_count": 100,
     "metadata": {},
     "output_type": "execute_result"
    }
   ],
   "source": [
    "#fit halflife\n",
    "np.log(2)/(opd.x[0])"
   ]
  },
  {
   "cell_type": "code",
   "execution_count": 101,
   "metadata": {},
   "outputs": [
    {
     "data": {
      "text/plain": [
       "array([ 1.18149402e-03, -3.47575415e+03, -3.09546696e+03, -3.33556818e+03,\n",
       "       -1.99094764e+03, -3.84814690e+03,  4.01248008e+00,  3.77316725e+00,\n",
       "        3.92620125e+00,  2.46299699e+00,  4.87707148e+00])"
      ]
     },
     "execution_count": 101,
     "metadata": {},
     "output_type": "execute_result"
    }
   ],
   "source": [
    "#relative error, formatted in order: decay constant,Background counts, N0 counts \n",
    "np.sqrt(np.diagonal(cm)[1:])/op.x"
   ]
  },
  {
   "cell_type": "markdown",
   "metadata": {},
   "source": [
    "## Other plots code that may be useful in the future"
   ]
  },
  {
   "cell_type": "code",
   "execution_count": 1,
   "metadata": {},
   "outputs": [
    {
     "ename": "NameError",
     "evalue": "name 'plt' is not defined",
     "output_type": "error",
     "traceback": [
      "\u001b[0;31m---------------------------------------------------------------------------\u001b[0m",
      "\u001b[0;31mNameError\u001b[0m                                 Traceback (most recent call last)",
      "\u001b[0;32m<ipython-input-1-9b698ee5f777>\u001b[0m in \u001b[0;36m<module>\u001b[0;34m\u001b[0m\n\u001b[0;32m----> 1\u001b[0;31m \u001b[0mplt\u001b[0m\u001b[0;34m.\u001b[0m\u001b[0mfigure\u001b[0m\u001b[0;34m(\u001b[0m\u001b[0mfigsize\u001b[0m\u001b[0;34m=\u001b[0m\u001b[0;34m(\u001b[0m\u001b[0;36m15\u001b[0m\u001b[0;34m,\u001b[0m\u001b[0;36m8\u001b[0m\u001b[0;34m)\u001b[0m\u001b[0;34m)\u001b[0m\u001b[0;34m\u001b[0m\u001b[0;34m\u001b[0m\u001b[0m\n\u001b[0m\u001b[1;32m      2\u001b[0m \u001b[0mplt\u001b[0m\u001b[0;34m.\u001b[0m\u001b[0mtight_layout\u001b[0m\u001b[0;34m(\u001b[0m\u001b[0;34m)\u001b[0m\u001b[0;34m\u001b[0m\u001b[0;34m\u001b[0m\u001b[0m\n\u001b[1;32m      3\u001b[0m \u001b[0mplt\u001b[0m\u001b[0;34m.\u001b[0m\u001b[0mtitle\u001b[0m\u001b[0;34m(\u001b[0m\u001b[0;34m'Run 5 from Feburary 22 (One Second Bins)'\u001b[0m\u001b[0;34m)\u001b[0m\u001b[0;34m\u001b[0m\u001b[0;34m\u001b[0m\u001b[0m\n\u001b[1;32m      4\u001b[0m \u001b[0mplt\u001b[0m\u001b[0;34m.\u001b[0m\u001b[0mylabel\u001b[0m\u001b[0;34m(\u001b[0m\u001b[0;34m'Counts'\u001b[0m\u001b[0;34m)\u001b[0m\u001b[0;34m\u001b[0m\u001b[0;34m\u001b[0m\u001b[0m\n\u001b[1;32m      5\u001b[0m \u001b[0mplt\u001b[0m\u001b[0;34m.\u001b[0m\u001b[0mxlabel\u001b[0m\u001b[0;34m(\u001b[0m\u001b[0;34m'Time (Seconds)'\u001b[0m\u001b[0;34m)\u001b[0m\u001b[0;34m\u001b[0m\u001b[0;34m\u001b[0m\u001b[0m\n",
      "\u001b[0;31mNameError\u001b[0m: name 'plt' is not defined"
     ]
    }
   ],
   "source": [
    "plt.figure(figsize=(15,8))\n",
    "plt.tight_layout()\n",
    "plt.title('Run 5 from Feburary 22 (One Second Bins)')\n",
    "plt.ylabel('Counts')\n",
    "plt.xlabel('Time (Seconds)')\n",
    "plt.xlim(0,1865)\n",
    "plt.yscale('log')\n",
    "plt.hist(data[0]['TIMETAG']*10**-12,bins=1865);\n",
    "plt.savefig('Run 5')"
   ]
  },
  {
   "cell_type": "code",
   "execution_count": 44,
   "metadata": {},
   "outputs": [
    {
     "data": {
      "image/png": "[encoded data removed]",
      "text/plain": [
       "<Figure size 792x576 with 1 Axes>"
      ]
     },
     "metadata": {
      "needs_background": "light"
     },
     "output_type": "display_data"
    }
   ],
   "source": [
    "plt.figure(figsize=(11,8))\n",
    "plt.title('{}'.format(run_name))\n",
    "plt.ylabel('Counts')\n",
    "plt.xlabel('Time (Seconds)')\n",
    "plt.xlim(0,300)\n",
    "xcoords = data[1]['TIMETAG']*10**-12\n",
    "for xc in xcoords:\n",
    "    plt.axvline(x=xc,color='orange')\n",
    "plt.hist(data[0]['TIMETAG']*10**-12,bins=600);\n",
    "plt.xlim(0,300)\n",
    "plt.yscale('log')\n",
    "plt.savefig('Splits')"
   ]
  },
  {
   "cell_type": "code",
   "execution_count": 97,
   "metadata": {},
   "outputs": [
    {
     "data": {
      "image/png": "[encoded data removed]",
      "text/plain": [
       "<Figure size 1008x576 with 6 Axes>"
      ]
     },
     "metadata": {
      "needs_background": "light"
     },
     "output_type": "display_data"
    }
   ],
   "source": [
    "fig,ax = plt.subplots(2,3,figsize=(14,8),sharey=True)\n",
    "fig.suptitle('Individual Cycles')\n",
    "l=0\n",
    "\n",
    "for i in np.arange(0,2):\n",
    "    for j in np.arange(0,3):\n",
    "        if l<=4:\n",
    "            ax[i][j].hist((cycles[l]['TIMETAG']-np.min(cycles[l]['TIMETAG']))*10**-12,bins = 200,label='Cycle Number {0:d}'.format(l+1));\n",
    "            ax[i][j].legend()\n",
    "            ax[i][j].set_ylabel('Counts')\n",
    "            ax[i][j].set_xlim(70,210)\n",
    "#             ax[i][j].set_yscale('log') # Why does this not work?\n",
    "\n",
    "            l+=1\n",
    "plt.savefig('Cycles')"
   ]
  },
  {
   "cell_type": "code",
   "execution_count": 98,
   "metadata": {},
   "outputs": [
    {
     "ename": "ValueError",
     "evalue": "x and y must be the same size",
     "output_type": "error",
     "traceback": [
      "\u001b[0;31m---------------------------------------------------------------------------\u001b[0m",
      "\u001b[0;31mValueError\u001b[0m                                Traceback (most recent call last)",
      "\u001b[0;32m<ipython-input-98-6b5cf0d756d6>\u001b[0m in \u001b[0;36m<module>\u001b[0;34m\u001b[0m\n\u001b[1;32m      2\u001b[0m \u001b[0my\u001b[0m \u001b[0;34m=\u001b[0m \u001b[0;36m2.29015061e+03\u001b[0m\u001b[0;34m*\u001b[0m\u001b[0mnp\u001b[0m\u001b[0;34m.\u001b[0m\u001b[0mexp\u001b[0m\u001b[0;34m(\u001b[0m\u001b[0;34m-\u001b[0m\u001b[0;36m3.96412971e-02\u001b[0m\u001b[0;34m*\u001b[0m\u001b[0mnp\u001b[0m\u001b[0;34m.\u001b[0m\u001b[0marange\u001b[0m\u001b[0;34m(\u001b[0m\u001b[0;34m-\u001b[0m\u001b[0;36m70\u001b[0m\u001b[0;34m,\u001b[0m\u001b[0;36m210\u001b[0m\u001b[0;34m-\u001b[0m\u001b[0;36m70\u001b[0m\u001b[0;34m)\u001b[0m\u001b[0;34m)\u001b[0m\u001b[0;34m+\u001b[0m\u001b[0;36m1.66666139e+00\u001b[0m\u001b[0;34m\u001b[0m\u001b[0;34m\u001b[0m\u001b[0m\n\u001b[1;32m      3\u001b[0m \u001b[0mplt\u001b[0m\u001b[0;34m.\u001b[0m\u001b[0mscatter\u001b[0m\u001b[0;34m(\u001b[0m\u001b[0mx\u001b[0m\u001b[0;34m,\u001b[0m\u001b[0my\u001b[0m\u001b[0;34m,\u001b[0m\u001b[0mlabel\u001b[0m \u001b[0;34m=\u001b[0m \u001b[0;34m'Backwards Extrapolated Fit'\u001b[0m\u001b[0;34m)\u001b[0m\u001b[0;34m\u001b[0m\u001b[0;34m\u001b[0m\u001b[0m\n\u001b[0;32m----> 4\u001b[0;31m \u001b[0mplt\u001b[0m\u001b[0;34m.\u001b[0m\u001b[0mscatter\u001b[0m\u001b[0;34m(\u001b[0m\u001b[0mx\u001b[0m\u001b[0;34m,\u001b[0m\u001b[0mresd\u001b[0m\u001b[0;34m[\u001b[0m\u001b[0;34m'measured'\u001b[0m\u001b[0;34m]\u001b[0m\u001b[0;34m[\u001b[0m\u001b[0;36m0\u001b[0m\u001b[0;34m:\u001b[0m\u001b[0;36m210\u001b[0m\u001b[0;34m]\u001b[0m\u001b[0;34m,\u001b[0m\u001b[0mlabel\u001b[0m \u001b[0;34m=\u001b[0m \u001b[0;34m'Measured Data'\u001b[0m\u001b[0;34m)\u001b[0m\u001b[0;34m\u001b[0m\u001b[0;34m\u001b[0m\u001b[0m\n\u001b[0m\u001b[1;32m      5\u001b[0m \u001b[0mplt\u001b[0m\u001b[0;34m.\u001b[0m\u001b[0mxlim\u001b[0m\u001b[0;34m(\u001b[0m\u001b[0;36m0\u001b[0m\u001b[0;34m,\u001b[0m\u001b[0;36m210\u001b[0m\u001b[0;34m)\u001b[0m\u001b[0;34m\u001b[0m\u001b[0;34m\u001b[0m\u001b[0m\n\u001b[1;32m      6\u001b[0m \u001b[0mplt\u001b[0m\u001b[0;34m.\u001b[0m\u001b[0mtitle\u001b[0m\u001b[0;34m(\u001b[0m\u001b[0;34m'Measured Data and Extrapolated Data'\u001b[0m\u001b[0;34m)\u001b[0m\u001b[0;34m\u001b[0m\u001b[0;34m\u001b[0m\u001b[0m\n",
      "\u001b[0;32m~/home/drew/Products/anaconda3/lib/python3.7/site-packages/matplotlib/pyplot.py\u001b[0m in \u001b[0;36mscatter\u001b[0;34m(x, y, s, c, marker, cmap, norm, vmin, vmax, alpha, linewidths, verts, edgecolors, plotnonfinite, data, **kwargs)\u001b[0m\n\u001b[1;32m   2846\u001b[0m         \u001b[0mverts\u001b[0m\u001b[0;34m=\u001b[0m\u001b[0mverts\u001b[0m\u001b[0;34m,\u001b[0m \u001b[0medgecolors\u001b[0m\u001b[0;34m=\u001b[0m\u001b[0medgecolors\u001b[0m\u001b[0;34m,\u001b[0m\u001b[0;34m\u001b[0m\u001b[0;34m\u001b[0m\u001b[0m\n\u001b[1;32m   2847\u001b[0m         plotnonfinite=plotnonfinite, **({\"data\": data} if data is not\n\u001b[0;32m-> 2848\u001b[0;31m         None else {}), **kwargs)\n\u001b[0m\u001b[1;32m   2849\u001b[0m     \u001b[0msci\u001b[0m\u001b[0;34m(\u001b[0m\u001b[0m__ret\u001b[0m\u001b[0;34m)\u001b[0m\u001b[0;34m\u001b[0m\u001b[0;34m\u001b[0m\u001b[0m\n\u001b[1;32m   2850\u001b[0m     \u001b[0;32mreturn\u001b[0m \u001b[0m__ret\u001b[0m\u001b[0;34m\u001b[0m\u001b[0;34m\u001b[0m\u001b[0m\n",
      "\u001b[0;32m~/home/drew/Products/anaconda3/lib/python3.7/site-packages/matplotlib/__init__.py\u001b[0m in \u001b[0;36minner\u001b[0;34m(ax, data, *args, **kwargs)\u001b[0m\n\u001b[1;32m   1597\u001b[0m     \u001b[0;32mdef\u001b[0m \u001b[0minner\u001b[0m\u001b[0;34m(\u001b[0m\u001b[0max\u001b[0m\u001b[0;34m,\u001b[0m \u001b[0;34m*\u001b[0m\u001b[0margs\u001b[0m\u001b[0;34m,\u001b[0m \u001b[0mdata\u001b[0m\u001b[0;34m=\u001b[0m\u001b[0;32mNone\u001b[0m\u001b[0;34m,\u001b[0m \u001b[0;34m**\u001b[0m\u001b[0mkwargs\u001b[0m\u001b[0;34m)\u001b[0m\u001b[0;34m:\u001b[0m\u001b[0;34m\u001b[0m\u001b[0;34m\u001b[0m\u001b[0m\n\u001b[1;32m   1598\u001b[0m         \u001b[0;32mif\u001b[0m \u001b[0mdata\u001b[0m \u001b[0;32mis\u001b[0m \u001b[0;32mNone\u001b[0m\u001b[0;34m:\u001b[0m\u001b[0;34m\u001b[0m\u001b[0;34m\u001b[0m\u001b[0m\n\u001b[0;32m-> 1599\u001b[0;31m             \u001b[0;32mreturn\u001b[0m \u001b[0mfunc\u001b[0m\u001b[0;34m(\u001b[0m\u001b[0max\u001b[0m\u001b[0;34m,\u001b[0m \u001b[0;34m*\u001b[0m\u001b[0mmap\u001b[0m\u001b[0;34m(\u001b[0m\u001b[0msanitize_sequence\u001b[0m\u001b[0;34m,\u001b[0m \u001b[0margs\u001b[0m\u001b[0;34m)\u001b[0m\u001b[0;34m,\u001b[0m \u001b[0;34m**\u001b[0m\u001b[0mkwargs\u001b[0m\u001b[0;34m)\u001b[0m\u001b[0;34m\u001b[0m\u001b[0;34m\u001b[0m\u001b[0m\n\u001b[0m\u001b[1;32m   1600\u001b[0m \u001b[0;34m\u001b[0m\u001b[0m\n\u001b[1;32m   1601\u001b[0m         \u001b[0mbound\u001b[0m \u001b[0;34m=\u001b[0m \u001b[0mnew_sig\u001b[0m\u001b[0;34m.\u001b[0m\u001b[0mbind\u001b[0m\u001b[0;34m(\u001b[0m\u001b[0max\u001b[0m\u001b[0;34m,\u001b[0m \u001b[0;34m*\u001b[0m\u001b[0margs\u001b[0m\u001b[0;34m,\u001b[0m \u001b[0;34m**\u001b[0m\u001b[0mkwargs\u001b[0m\u001b[0;34m)\u001b[0m\u001b[0;34m\u001b[0m\u001b[0;34m\u001b[0m\u001b[0m\n",
      "\u001b[0;32m~/home/drew/Products/anaconda3/lib/python3.7/site-packages/matplotlib/axes/_axes.py\u001b[0m in \u001b[0;36mscatter\u001b[0;34m(self, x, y, s, c, marker, cmap, norm, vmin, vmax, alpha, linewidths, verts, edgecolors, plotnonfinite, **kwargs)\u001b[0m\n\u001b[1;32m   4441\u001b[0m         \u001b[0my\u001b[0m \u001b[0;34m=\u001b[0m \u001b[0mnp\u001b[0m\u001b[0;34m.\u001b[0m\u001b[0mma\u001b[0m\u001b[0;34m.\u001b[0m\u001b[0mravel\u001b[0m\u001b[0;34m(\u001b[0m\u001b[0my\u001b[0m\u001b[0;34m)\u001b[0m\u001b[0;34m\u001b[0m\u001b[0;34m\u001b[0m\u001b[0m\n\u001b[1;32m   4442\u001b[0m         \u001b[0;32mif\u001b[0m \u001b[0mx\u001b[0m\u001b[0;34m.\u001b[0m\u001b[0msize\u001b[0m \u001b[0;34m!=\u001b[0m \u001b[0my\u001b[0m\u001b[0;34m.\u001b[0m\u001b[0msize\u001b[0m\u001b[0;34m:\u001b[0m\u001b[0;34m\u001b[0m\u001b[0;34m\u001b[0m\u001b[0m\n\u001b[0;32m-> 4443\u001b[0;31m             \u001b[0;32mraise\u001b[0m \u001b[0mValueError\u001b[0m\u001b[0;34m(\u001b[0m\u001b[0;34m\"x and y must be the same size\"\u001b[0m\u001b[0;34m)\u001b[0m\u001b[0;34m\u001b[0m\u001b[0;34m\u001b[0m\u001b[0m\n\u001b[0m\u001b[1;32m   4444\u001b[0m \u001b[0;34m\u001b[0m\u001b[0m\n\u001b[1;32m   4445\u001b[0m         \u001b[0;32mif\u001b[0m \u001b[0ms\u001b[0m \u001b[0;32mis\u001b[0m \u001b[0;32mNone\u001b[0m\u001b[0;34m:\u001b[0m\u001b[0;34m\u001b[0m\u001b[0;34m\u001b[0m\u001b[0m\n",
      "\u001b[0;31mValueError\u001b[0m: x and y must be the same size"
     ]
    },
    {
     "data": {
      "image/png": "[encoded data removed]",
      "text/plain": [
       "<Figure size 432x288 with 1 Axes>"
      ]
     },
     "metadata": {
      "needs_background": "light"
     },
     "output_type": "display_data"
    }
   ],
   "source": [
    "x = np.arange(0,210)\n",
    "y = 2.29015061e+03*np.exp(-3.96412971e-02*np.arange(-70,210-70))+1.66666139e+00\n",
    "plt.scatter(x,y,label = 'Backwards Extrapolated Fit')\n",
    "plt.scatter(x,resd['measured'][0:210],label = 'Measured Data')\n",
    "plt.xlim(0,210)\n",
    "plt.title('Measured Data and Extrapolated Data')\n",
    "plt.ylabel('Counts/second')\n",
    "plt.xlabel('Time')\n",
    "plt.legend();\n",
    "#plt.savefig('Extrapolatedexponentialfit.png')"
   ]
  },
  {
   "cell_type": "code",
   "execution_count": 35,
   "metadata": {},
   "outputs": [],
   "source": [
    "sub = (y/resd['measured'][0:210])\n",
    "\n",
    "def dfit(m,D):\n",
    "    return (1/(1-m*D))\n",
    "\n",
    "def analysis(m,ratio):\n",
    "    \n",
    "    popt, pcov = curve_fit(dfit, xdata=m, ydata=ratio, p0=[1.853e-05])\n",
    "    return(popt,pcov)"
   ]
  },
  {
   "cell_type": "code",
   "execution_count": 36,
   "metadata": {},
   "outputs": [
    {
     "data": {
      "text/plain": [
       "(array([-0.00017887]), array([[7.46860805e-10]]))"
      ]
     },
     "execution_count": 36,
     "metadata": {},
     "output_type": "execute_result"
    }
   ],
   "source": [
    "analysis(resd['measured'][0:210],sub)"
   ]
  },
  {
   "cell_type": "code",
   "execution_count": null,
   "metadata": {},
   "outputs": [],
   "source": []
  },
  {
   "cell_type": "code",
   "execution_count": 37,
   "metadata": {},
   "outputs": [
    {
     "data": {
      "image/png": "[encoded data removed]",
      "text/plain": [
       "<Figure size 432x288 with 1 Axes>"
      ]
     },
     "metadata": {
      "needs_background": "light"
     },
     "output_type": "display_data"
    }
   ],
   "source": [
    "plt.plot(resd['measured'][0:210],sub)\n",
    "plt.title('Fractional Deadtime Plot')\n",
    "plt.xlim(resd['measured'][0:210].min(),resd['measured'][0:210].max())\n",
    "plt.plot(resd['measured'][0:210],1/(1 - 1.853e-05*resd['measured'][0:210]))\n",
    "plt.ylabel('Fit / Measured')\n",
    "plt.xlim(0,10000)\n",
    "plt.xlabel('Measured Counts/second');\n",
    "#plt.savefig('fractionaldeadtime.png')"
   ]
  },
  {
   "cell_type": "code",
   "execution_count": 38,
   "metadata": {},
   "outputs": [
    {
     "data": {
      "text/plain": [
       "(0, 10000)"
      ]
     },
     "execution_count": 38,
     "metadata": {},
     "output_type": "execute_result"
    },
    {
     "data": {
      "image/png": "[encoded data removed]",
      "text/plain": [
       "<Figure size 432x288 with 1 Axes>"
      ]
     },
     "metadata": {
      "needs_background": "light"
     },
     "output_type": "display_data"
    }
   ],
   "source": [
    "plt.plot(resd['measured'][0:210],sub)\n",
    "plt.title('Fractional Deadtime Plot')\n",
    "plt.xlim(resd['measured'][0:210].min(),resd['measured'][0:210].max())\n",
    "plt.plot(resd['measured'][0:210],1/(1 - 1.853e-05*resd['measured'][0:210]))\n",
    "plt.ylabel('Fit / Measured')\n",
    "plt.xlabel('Measured Counts/second');\n",
    "plt.xlim(0,10000)\n",
    "#plt.savefig('fractionaldeadtime.png')"
   ]
  },
  {
   "cell_type": "code",
   "execution_count": 268,
   "metadata": {},
   "outputs": [
    {
     "data": {
      "text/plain": [
       "(0, 10000)"
      ]
     },
     "execution_count": 268,
     "metadata": {},
     "output_type": "execute_result"
    },
    {
     "data": {
      "image/png": "[encoded data removed]",
      "text/plain": [
       "<Figure size 432x288 with 1 Axes>"
      ]
     },
     "metadata": {
      "needs_background": "light"
     },
     "output_type": "display_data"
    }
   ],
   "source": [
    "plt.plot(resd['measured'][0:210],sub)\n",
    "plt.title('Fractional Deadtime Plot')\n",
    "plt.xlim(resd['measured'][0:210].min(),resd['measured'][0:210].max())\n",
    "plt.plot(resd['measured'][0:210],1/(1 - 1.853e-05*resd['measured'][0:210]))\n",
    "plt.ylabel('Fit / Measured')\n",
    "plt.xlabel('Measured Counts/second');\n",
    "plt.xlim(0,10000)\n",
    "#plt.savefig('fractionaldeadtime.png')"
   ]
  },
  {
   "cell_type": "code",
   "execution_count": 273,
   "metadata": {},
   "outputs": [
    {
     "data": {
      "text/plain": [
       "(0, 10000)"
      ]
     },
     "execution_count": 273,
     "metadata": {},
     "output_type": "execute_result"
    },
    {
     "data": {
      "image/png": "[encoded data removed]",
      "text/plain": [
       "<Figure size 432x288 with 1 Axes>"
      ]
     },
     "metadata": {
      "needs_background": "light"
     },
     "output_type": "display_data"
    }
   ],
   "source": [
    "plt.plot(resd['measured'][0:210],sub)\n",
    "plt.title('Fractional Deadtime Plot')\n",
    "plt.xlim(resd['measured'][0:210].min(),resd['measured'][0:210].max())\n",
    "plt.plot(resd['measured'][0:210],1/(1 - 1.853e-05*resd['measured'][0:210]))\n",
    "plt.ylabel('Fit / Measured')\n",
    "plt.xlabel('Measured Counts/second');\n",
    "plt.xlim(0,10000)\n",
    "#plt.savefig('fractionaldeadtime.png')"
   ]
  },
  {
   "cell_type": "code",
   "execution_count": 278,
   "metadata": {},
   "outputs": [
    {
     "data": {
      "text/plain": [
       "(0, 10000)"
      ]
     },
     "execution_count": 278,
     "metadata": {},
     "output_type": "execute_result"
    },
    {
     "data": {
      "image/png": "[encoded data removed]",
      "text/plain": [
       "<Figure size 432x288 with 1 Axes>"
      ]
     },
     "metadata": {
      "needs_background": "light"
     },
     "output_type": "display_data"
    }
   ],
   "source": [
    "plt.plot(resd['measured'][0:210],sub)\n",
    "plt.title('Fractional Deadtime Plot')\n",
    "plt.xlim(resd['measured'][0:210].min(),resd['measured'][0:210].max())\n",
    "plt.plot(resd['measured'][0:210],1/(1 - 1.853e-05*resd['measured'][0:210]))\n",
    "plt.ylabel('Fit / Measured')\n",
    "plt.xlabel('Measured Counts/second');\n",
    "plt.xlim(0,10000)"
   ]
  },
  {
   "cell_type": "code",
   "execution_count": 97,
   "metadata": {},
   "outputs": [
    {
     "data": {
      "text/plain": [
       "array([9794, 9397, 9320, 9204, 8669, 8472, 8539, 8327, 8072, 7968, 7883,\n",
       "       7665, 7475, 7422, 7227, 7002, 6806, 6838, 6522, 6296, 6442, 6308,\n",
       "       6153, 6042, 5932, 5832, 5763, 5766, 5540, 5498, 5409, 5206, 5212,\n",
       "       4914, 4921, 4833, 4646, 4673, 4565, 4396, 4276, 4256, 4255, 3998,\n",
       "       3904, 3878, 3850, 3676, 3610, 3659, 3594, 3296, 3361, 3329, 3197,\n",
       "       3235, 2996, 3090, 3042, 2909, 2921, 2768, 2767, 2691, 2641, 2634,\n",
       "       2740, 2430, 2519, 2459, 2404, 2300, 2389, 2246, 2231, 2176, 2199,\n",
       "       2115, 2122, 2071, 1953, 1989, 1849, 1865, 1793, 1791, 1734, 1652,\n",
       "       1672, 1714, 1683, 1660, 1572, 1547, 1475, 1418, 1450, 1400, 1375,\n",
       "       1358, 1259, 1353, 1306, 1266, 1176, 1199, 1170, 1220, 1154, 1117,\n",
       "       1090,  996, 1059, 1026, 1018,  977,  979,  928,  928,  906,  879,\n",
       "        895,  847,  867,  829,  822,  771,  814,  784,  748,  763,  716,\n",
       "        717,  702,  672,  688,  645,  614,  620,  607,  668,  633,  587,\n",
       "        637,  585,  592,  627,  565,  538,  482,  506,  511,  496,  476,\n",
       "        490,  491,  396,  462,  419,  461,  438,  433,  391,  402,  432,\n",
       "        408,  421,  409,  407,  380,  376,  379,  370,  328,  366,  319,\n",
       "        342,  338,  330,  318,  327,  350,  305,  328,  288,  295,  319,\n",
       "        299,  312,  272,  266,  289,  267,  245,  276,  248,  260,  244,\n",
       "        244,  280,  255,  241,  237,  223,  243,  218,  218,  230,  216,\n",
       "        199,  201,  190,  217,  198,  203,  229,  179,  173,  180,  202,\n",
       "        174,  192,  196,  164,  147,  172,  180,  154,  162,  157,  170,\n",
       "        162,  168,  159,  156,  158,  145,  134,  137,  126,  136,  139,\n",
       "        135,  148,  134,  158,  121,  148,  151,  129,  124,  120,  113,\n",
       "        114,  136,  132,  104,  128,  142,  132,  122,  115,  132,  108,\n",
       "        143,  115,  103,  115,   97,  114])"
      ]
     },
     "execution_count": 97,
     "metadata": {},
     "output_type": "execute_result"
    }
   ],
   "source": [
    "t,c = count_rate(cycles[1], cutoff = 70, bin_size = .5)\n",
    "t\n",
    "c"
   ]
  },
  {
   "cell_type": "code",
   "execution_count": 98,
   "metadata": {},
   "outputs": [
    {
     "data": {
      "text/plain": [
       "[<matplotlib.lines.Line2D at 0x7fb3649f9c50>]"
      ]
     },
     "execution_count": 98,
     "metadata": {},
     "output_type": "execute_result"
    },
    {
     "data": {
      "image/png": "[encoded data removed]",
      "text/plain": [
       "<Figure size 432x288 with 1 Axes>"
      ]
     },
     "metadata": {
      "needs_background": "light"
     },
     "output_type": "display_data"
    }
   ],
   "source": [
    "plt.plot(t,c)"
   ]
  },
  {
   "cell_type": "markdown",
   "metadata": {},
   "source": [
    "# Plotting the Runs from Sept  2020 Production run. \n",
    "\n",
    "* This may not be the place to keep this. Going to need to reorganize. But for now I need it here. "
   ]
  },
  {
   "cell_type": "code",
   "execution_count": 5,
   "metadata": {},
   "outputs": [
    {
     "name": "stdout",
     "output_type": "stream",
     "text": [
      "0\n",
      "1\n",
      "2\n",
      "3\n",
      "4\n",
      "5\n",
      "6\n",
      "7\n",
      "9\n"
     ]
    },
    {
     "data": {
      "image/png": "[encoded data removed]",
      "text/plain": [
       "<Figure size 1080x576 with 1 Axes>"
      ]
     },
     "metadata": {
      "needs_background": "light"
     },
     "output_type": "display_data"
    },
    {
     "data": {
      "image/png": "[encoded data removed]",
      "text/plain": [
       "<Figure size 1080x576 with 1 Axes>"
      ]
     },
     "metadata": {
      "needs_background": "light"
     },
     "output_type": "display_data"
    },
    {
     "data": {
      "image/png": "[encoded data removed]",
      "text/plain": [
       "<Figure size 1080x576 with 1 Axes>"
      ]
     },
     "metadata": {
      "needs_background": "light"
     },
     "output_type": "display_data"
    },
    {
     "data": {
      "image/png": "[encoded data removed]",
      "text/plain": [
       "<Figure size 1080x576 with 1 Axes>"
      ]
     },
     "metadata": {
      "needs_background": "light"
     },
     "output_type": "display_data"
    },
    {
     "data": {
      "image/png": "[encoded data removed]",
      "text/plain": [
       "<Figure size 1080x576 with 1 Axes>"
      ]
     },
     "metadata": {
      "needs_background": "light"
     },
     "output_type": "display_data"
    },
    {
     "data": {
      "image/png": "[encoded data removed]",
      "text/plain": [
       "<Figure size 1080x576 with 1 Axes>"
      ]
     },
     "metadata": {
      "needs_background": "light"
     },
     "output_type": "display_data"
    },
    {
     "data": {
      "image/png": "[encoded data removed]",
      "text/plain": [
       "<Figure size 1080x576 with 1 Axes>"
      ]
     },
     "metadata": {
      "needs_background": "light"
     },
     "output_type": "display_data"
    },
    {
     "data": {
      "image/png": "[encoded data removed]",
      "text/plain": [
       "<Figure size 1080x576 with 1 Axes>"
      ]
     },
     "metadata": {
      "needs_background": "light"
     },
     "output_type": "display_data"
    },
    {
     "data": {
      "image/png": "[encoded data removed]",
      "text/plain": [
       "<Figure size 1080x576 with 1 Axes>"
      ]
     },
     "metadata": {
      "needs_background": "light"
     },
     "output_type": "display_data"
    }
   ],
   "source": [
    "# Redefine run_name for tests\n",
    "\n",
    "for i in range(10):\n",
    "    if i==8: continue \n",
    "    print(i)\n",
    "    run_name = 'runTEST09182020_{}'.format(i)\n",
    "    data = Run_Data(run_name)\n",
    "\n",
    "    plt.figure(figsize=(15,8))\n",
    "    plt.tight_layout()\n",
    "    plt.title('09182020 Run {}'.format(i))\n",
    "    plt.ylabel('Counts')\n",
    "    plt.xlabel('Time (Seconds)')\n",
    "    plt.yscale('log')\n",
    "    xcoords = data[1]['TIMETAG']*10**-12\n",
    "    for xc in xcoords:\n",
    "        plt.axvline(x=xc,color='orange')\n",
    "    plt.hist(data[0]['TIMETAG']*10**-12,bins=1865);\n",
    "    plt.savefig('09182020 Run {}'.format(i))"
   ]
  },
  {
   "cell_type": "code",
   "execution_count": null,
   "metadata": {},
   "outputs": [],
   "source": []
  }
 ],
 "metadata": {
  "kernelspec": {
   "display_name": "Python 3",
   "language": "python",
   "name": "python3"
  },
  "language_info": {
   "codemirror_mode": {
    "name": "ipython",
    "version": 3
   },
   "file_extension": ".py",
   "mimetype": "text/x-python",
   "name": "python",
   "nbconvert_exporter": "python",
   "pygments_lexer": "ipython3",
   "version": "3.7.6"
  }
 },
 "nbformat": 4,
 "nbformat_minor": 4
}
