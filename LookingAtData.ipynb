{
 "cells": [
  {
   "cell_type": "code",
   "execution_count": 1,
   "metadata": {},
   "outputs": [],
   "source": [
    "import pandas as pd\n",
    "import matplotlib.pyplot as plt\n",
    "import numpy as np\n",
    "import scipy as sp"
   ]
  },
  {
   "cell_type": "markdown",
   "metadata": {},
   "source": [
    "## Reading in the CSV files from each Channel"
   ]
  },
  {
   "cell_type": "code",
   "execution_count": 2,
   "metadata": {},
   "outputs": [],
   "source": [
    "#Here you will need to put the directory to where the CSV files are located\n",
    "#This creates a dataframe for each channel\n",
    "\n",
    "def create_string(location):\n",
    "    path1 = '/home/cenpa/Ne19/DAQ/FinalConfigSettings/DAQ/{0:s}/UNFILTERED/CH0@DT5725_1146_Data_{0:s}.csv'.format(location)\n",
    "    path2 = '/home/cenpa/Ne19/DAQ/FinalConfigSettings/DAQ/{0:s}/UNFILTERED/CH1@DT5725_1146_Data_{0:s}.csv'.format(location)\n",
    "    path3 = '/home/cenpa/Ne19/DAQ/FinalConfigSettings/DAQ/{0:s}/UNFILTERED/CH2@DT5725_1146_Data_{0:s}.csv'.format(location)\n",
    "    \n",
    "    path = [path1,path2,path3]\n",
    "    return path\n",
    "\n",
    "\n",
    "\n",
    "#write the folder location where 'BiTest-03' is\n",
    "path = create_string('BiTest-03')\n",
    "\n",
    "\n",
    "\n",
    "\n",
    "ch0_df = pd.read_csv(path[0],sep=';')\n",
    "ch1_df = pd.read_csv(path[1],sep=';')\n",
    "ch2_df = pd.read_csv(path[2],sep=';')"
   ]
  },
  {
   "cell_type": "code",
   "execution_count": 3,
   "metadata": {
    "scrolled": true
   },
   "outputs": [
    {
     "data": {
      "text/html": [
       "<div>\n",
       "<style scoped>\n",
       "    .dataframe tbody tr th:only-of-type {\n",
       "        vertical-align: middle;\n",
       "    }\n",
       "\n",
       "    .dataframe tbody tr th {\n",
       "        vertical-align: top;\n",
       "    }\n",
       "\n",
       "    .dataframe thead th {\n",
       "        text-align: right;\n",
       "    }\n",
       "</style>\n",
       "<table border=\"1\" class=\"dataframe\">\n",
       "  <thead>\n",
       "    <tr style=\"text-align: right;\">\n",
       "      <th></th>\n",
       "      <th>TIMETAG</th>\n",
       "      <th>ENERGY</th>\n",
       "      <th>ENERGYSHORT</th>\n",
       "      <th>FLAGS</th>\n",
       "    </tr>\n",
       "  </thead>\n",
       "  <tbody>\n",
       "    <tr>\n",
       "      <th>0</th>\n",
       "      <td>1076470906239</td>\n",
       "      <td>546</td>\n",
       "      <td>556</td>\n",
       "      <td>0x4000</td>\n",
       "    </tr>\n",
       "    <tr>\n",
       "      <th>1</th>\n",
       "      <td>2256629156738</td>\n",
       "      <td>540</td>\n",
       "      <td>550</td>\n",
       "      <td>0x4000</td>\n",
       "    </tr>\n",
       "    <tr>\n",
       "      <th>2</th>\n",
       "      <td>3436787414394</td>\n",
       "      <td>546</td>\n",
       "      <td>556</td>\n",
       "      <td>0x4000</td>\n",
       "    </tr>\n",
       "    <tr>\n",
       "      <th>3</th>\n",
       "      <td>4616945677853</td>\n",
       "      <td>545</td>\n",
       "      <td>555</td>\n",
       "      <td>0x4000</td>\n",
       "    </tr>\n",
       "    <tr>\n",
       "      <th>4</th>\n",
       "      <td>5797103941275</td>\n",
       "      <td>542</td>\n",
       "      <td>552</td>\n",
       "      <td>0x4000</td>\n",
       "    </tr>\n",
       "    <tr>\n",
       "      <th>5</th>\n",
       "      <td>6977262193576</td>\n",
       "      <td>544</td>\n",
       "      <td>553</td>\n",
       "      <td>0x4000</td>\n",
       "    </tr>\n",
       "    <tr>\n",
       "      <th>6</th>\n",
       "      <td>8157420441466</td>\n",
       "      <td>543</td>\n",
       "      <td>553</td>\n",
       "      <td>0x4000</td>\n",
       "    </tr>\n",
       "    <tr>\n",
       "      <th>7</th>\n",
       "      <td>9337578686872</td>\n",
       "      <td>546</td>\n",
       "      <td>556</td>\n",
       "      <td>0x4000</td>\n",
       "    </tr>\n",
       "    <tr>\n",
       "      <th>8</th>\n",
       "      <td>10517736933881</td>\n",
       "      <td>545</td>\n",
       "      <td>555</td>\n",
       "      <td>0x4000</td>\n",
       "    </tr>\n",
       "    <tr>\n",
       "      <th>9</th>\n",
       "      <td>11697895184533</td>\n",
       "      <td>539</td>\n",
       "      <td>549</td>\n",
       "      <td>0x4000</td>\n",
       "    </tr>\n",
       "    <tr>\n",
       "      <th>10</th>\n",
       "      <td>12878053429273</td>\n",
       "      <td>542</td>\n",
       "      <td>552</td>\n",
       "      <td>0x4000</td>\n",
       "    </tr>\n",
       "    <tr>\n",
       "      <th>11</th>\n",
       "      <td>14058211677956</td>\n",
       "      <td>545</td>\n",
       "      <td>555</td>\n",
       "      <td>0x4000</td>\n",
       "    </tr>\n",
       "    <tr>\n",
       "      <th>12</th>\n",
       "      <td>15238369929447</td>\n",
       "      <td>543</td>\n",
       "      <td>553</td>\n",
       "      <td>0x4000</td>\n",
       "    </tr>\n",
       "    <tr>\n",
       "      <th>13</th>\n",
       "      <td>16418528180782</td>\n",
       "      <td>540</td>\n",
       "      <td>550</td>\n",
       "      <td>0x4000</td>\n",
       "    </tr>\n",
       "    <tr>\n",
       "      <th>14</th>\n",
       "      <td>17598686429632</td>\n",
       "      <td>544</td>\n",
       "      <td>554</td>\n",
       "      <td>0x4000</td>\n",
       "    </tr>\n",
       "    <tr>\n",
       "      <th>15</th>\n",
       "      <td>18778844678945</td>\n",
       "      <td>546</td>\n",
       "      <td>555</td>\n",
       "      <td>0x4000</td>\n",
       "    </tr>\n",
       "    <tr>\n",
       "      <th>16</th>\n",
       "      <td>19959002926257</td>\n",
       "      <td>546</td>\n",
       "      <td>556</td>\n",
       "      <td>0x4000</td>\n",
       "    </tr>\n",
       "    <tr>\n",
       "      <th>17</th>\n",
       "      <td>21139161178506</td>\n",
       "      <td>546</td>\n",
       "      <td>556</td>\n",
       "      <td>0x4000</td>\n",
       "    </tr>\n",
       "    <tr>\n",
       "      <th>18</th>\n",
       "      <td>22319319438889</td>\n",
       "      <td>546</td>\n",
       "      <td>556</td>\n",
       "      <td>0x4000</td>\n",
       "    </tr>\n",
       "    <tr>\n",
       "      <th>19</th>\n",
       "      <td>23499477705806</td>\n",
       "      <td>545</td>\n",
       "      <td>555</td>\n",
       "      <td>0x4000</td>\n",
       "    </tr>\n",
       "  </tbody>\n",
       "</table>\n",
       "</div>"
      ],
      "text/plain": [
       "           TIMETAG  ENERGY  ENERGYSHORT   FLAGS\n",
       "0    1076470906239     546          556  0x4000\n",
       "1    2256629156738     540          550  0x4000\n",
       "2    3436787414394     546          556  0x4000\n",
       "3    4616945677853     545          555  0x4000\n",
       "4    5797103941275     542          552  0x4000\n",
       "5    6977262193576     544          553  0x4000\n",
       "6    8157420441466     543          553  0x4000\n",
       "7    9337578686872     546          556  0x4000\n",
       "8   10517736933881     545          555  0x4000\n",
       "9   11697895184533     539          549  0x4000\n",
       "10  12878053429273     542          552  0x4000\n",
       "11  14058211677956     545          555  0x4000\n",
       "12  15238369929447     543          553  0x4000\n",
       "13  16418528180782     540          550  0x4000\n",
       "14  17598686429632     544          554  0x4000\n",
       "15  18778844678945     546          555  0x4000\n",
       "16  19959002926257     546          556  0x4000\n",
       "17  21139161178506     546          556  0x4000\n",
       "18  22319319438889     546          556  0x4000\n",
       "19  23499477705806     545          555  0x4000"
      ]
     },
     "execution_count": 3,
     "metadata": {},
     "output_type": "execute_result"
    }
   ],
   "source": [
    "#Example of what the dataframe looks like\n",
    "ch2_df\n"
   ]
  },
  {
   "cell_type": "markdown",
   "metadata": {},
   "source": [
    "## Process of Splitting Data into indivdual runs"
   ]
  },
  {
   "cell_type": "code",
   "execution_count": 4,
   "metadata": {},
   "outputs": [],
   "source": [
    "def Split_Data(ch0_dataFrame,ch1_dataFrame,ch2_dataFrame,minimum_counts = 0):\n",
    "    \n",
    "    #initializing an empty list for each channel(coincidencedata ch0, energydata ch1 ) I want to split into runs triggered\n",
    "    #by the clock from ch2\n",
    "    ch0split_data = []\n",
    "    ch1split_data = []\n",
    "    \n",
    "    #iterating through the number of times ch2 recieved a signal from our clock\n",
    "    for i in np.arange(0,len(ch2_dataFrame)-1):\n",
    "        \n",
    "        #creating a mask to separate the full data into their individual runs for ch0\n",
    "        ch0time_mask = np.where((ch0_dataFrame['TIMETAG'] > ch2_dataFrame['TIMETAG'][i]) & \n",
    "                                (ch0_dataFrame['TIMETAG'] < ch2_dataFrame['TIMETAG'][i+1]))\n",
    "        \n",
    "        \n",
    "        #creating a mask to separate the full data into their individual runs for ch2\n",
    "        ch1time_mask = np.where((ch1_dataFrame['TIMETAG'] > ch2_dataFrame['TIMETAG'][i]) & \n",
    "                                (ch1_dataFrame['TIMETAG'] < ch2_dataFrame['TIMETAG'][i+1]))\n",
    "        \n",
    "        #This number for minimum counts is to remove any possible signals that may occur when we are not running but still collecting data\n",
    "        if len(ch0time_mask[0]) >= minimum_counts:\n",
    "            \n",
    "            #for each run I am creating a new dataframe and storing in a list\n",
    "            split_dataFrame0 = ch0_dataFrame.iloc[[ch0time_mask][0][0]].copy()\n",
    "            #resetting the index\n",
    "            split_dataFrame0 = split_dataFrame0.reset_index(drop=True)\n",
    "\n",
    "            split_dataFrame1 = ch1_dataFrame.iloc[[ch1time_mask][0][0]].copy()\n",
    "            #resetting the index\n",
    "            split_dataFrame1 = split_dataFrame1.reset_index(drop=True)\n",
    "            \n",
    "            ch0split_data.extend([split_dataFrame0])\n",
    "            ch1split_data.extend([split_dataFrame1])\n",
    "    #returns two arrays of dataframes, one for channel0 and another channel1        \n",
    "    return ch0split_data, ch1split_data\n"
   ]
  },
  {
   "cell_type": "code",
   "execution_count": 5,
   "metadata": {},
   "outputs": [],
   "source": [
    "#initializing the arrays of run data\n",
    "list_coincidences,list_energy = Split_Data(ch0_df,ch1_df,ch2_df)"
   ]
  },
  {
   "cell_type": "code",
   "execution_count": 191,
   "metadata": {},
   "outputs": [
    {
     "data": {
      "image/png": "[encoded data removed]",
      "text/plain": [
       "<Figure size 432x288 with 1 Axes>"
      ]
     },
     "metadata": {
      "needs_background": "light"
     },
     "output_type": "display_data"
    }
   ],
   "source": [
    "#looking at the 16th single second run recorded during the bismuth test\n",
    "plt.hist(list_energy[1]['ENERGY'],bins = np.arange(5,400));\n",
    "plt.xlim(0,400);\n",
    "plt.yscale('log')"
   ]
  },
  {
   "cell_type": "code",
   "execution_count": 125,
   "metadata": {},
   "outputs": [
    {
     "data": {
      "image/png": "[encoded data removed]",
      "text/plain": [
       "<Figure size 432x288 with 1 Axes>"
      ]
     },
     "metadata": {
      "needs_background": "light"
     },
     "output_type": "display_data"
    }
   ],
   "source": [
    "plt.hist(ch1_df['ENERGY'],bins = np.arange(5,200));\n",
    "plt.xlim(0,200);"
   ]
  },
  {
   "cell_type": "code",
   "execution_count": 6,
   "metadata": {
    "scrolled": true
   },
   "outputs": [
    {
     "data": {
      "text/html": [
       "<div>\n",
       "<style scoped>\n",
       "    .dataframe tbody tr th:only-of-type {\n",
       "        vertical-align: middle;\n",
       "    }\n",
       "\n",
       "    .dataframe tbody tr th {\n",
       "        vertical-align: top;\n",
       "    }\n",
       "\n",
       "    .dataframe thead th {\n",
       "        text-align: right;\n",
       "    }\n",
       "</style>\n",
       "<table border=\"1\" class=\"dataframe\">\n",
       "  <thead>\n",
       "    <tr style=\"text-align: right;\">\n",
       "      <th></th>\n",
       "      <th>TIMETAG</th>\n",
       "      <th>ENERGY</th>\n",
       "      <th>ENERGYSHORT</th>\n",
       "      <th>FLAGS</th>\n",
       "    </tr>\n",
       "  </thead>\n",
       "  <tbody>\n",
       "    <tr>\n",
       "      <th>0</th>\n",
       "      <td>1079562053946</td>\n",
       "      <td>153</td>\n",
       "      <td>143</td>\n",
       "      <td>0x4400</td>\n",
       "    </tr>\n",
       "    <tr>\n",
       "      <th>1</th>\n",
       "      <td>1083456656831</td>\n",
       "      <td>150</td>\n",
       "      <td>146</td>\n",
       "      <td>0x4400</td>\n",
       "    </tr>\n",
       "    <tr>\n",
       "      <th>2</th>\n",
       "      <td>1083724320852</td>\n",
       "      <td>151</td>\n",
       "      <td>146</td>\n",
       "      <td>0x4400</td>\n",
       "    </tr>\n",
       "    <tr>\n",
       "      <th>3</th>\n",
       "      <td>1099187385090</td>\n",
       "      <td>161</td>\n",
       "      <td>155</td>\n",
       "      <td>0x4400</td>\n",
       "    </tr>\n",
       "    <tr>\n",
       "      <th>4</th>\n",
       "      <td>1099979905106</td>\n",
       "      <td>161</td>\n",
       "      <td>155</td>\n",
       "      <td>0x4400</td>\n",
       "    </tr>\n",
       "    <tr>\n",
       "      <th>...</th>\n",
       "      <td>...</td>\n",
       "      <td>...</td>\n",
       "      <td>...</td>\n",
       "      <td>...</td>\n",
       "    </tr>\n",
       "    <tr>\n",
       "      <th>322</th>\n",
       "      <td>2234190169960</td>\n",
       "      <td>154</td>\n",
       "      <td>143</td>\n",
       "      <td>0x4400</td>\n",
       "    </tr>\n",
       "    <tr>\n",
       "      <th>323</th>\n",
       "      <td>2236385121371</td>\n",
       "      <td>157</td>\n",
       "      <td>149</td>\n",
       "      <td>0x4400</td>\n",
       "    </tr>\n",
       "    <tr>\n",
       "      <th>324</th>\n",
       "      <td>2243232001036</td>\n",
       "      <td>161</td>\n",
       "      <td>155</td>\n",
       "      <td>0x4400</td>\n",
       "    </tr>\n",
       "    <tr>\n",
       "      <th>325</th>\n",
       "      <td>2250547776248</td>\n",
       "      <td>144</td>\n",
       "      <td>140</td>\n",
       "      <td>0x4400</td>\n",
       "    </tr>\n",
       "    <tr>\n",
       "      <th>326</th>\n",
       "      <td>2256307805671</td>\n",
       "      <td>156</td>\n",
       "      <td>145</td>\n",
       "      <td>0x4400</td>\n",
       "    </tr>\n",
       "  </tbody>\n",
       "</table>\n",
       "<p>327 rows × 4 columns</p>\n",
       "</div>"
      ],
      "text/plain": [
       "           TIMETAG  ENERGY  ENERGYSHORT   FLAGS\n",
       "0    1079562053946     153          143  0x4400\n",
       "1    1083456656831     150          146  0x4400\n",
       "2    1083724320852     151          146  0x4400\n",
       "3    1099187385090     161          155  0x4400\n",
       "4    1099979905106     161          155  0x4400\n",
       "..             ...     ...          ...     ...\n",
       "322  2234190169960     154          143  0x4400\n",
       "323  2236385121371     157          149  0x4400\n",
       "324  2243232001036     161          155  0x4400\n",
       "325  2250547776248     144          140  0x4400\n",
       "326  2256307805671     156          145  0x4400\n",
       "\n",
       "[327 rows x 4 columns]"
      ]
     },
     "execution_count": 6,
     "metadata": {},
     "output_type": "execute_result"
    }
   ],
   "source": [
    "#Looking at the coincidence data from the first 1 second run from the bismuth\n",
    "list_coincidences[0]"
   ]
  },
  {
   "cell_type": "markdown",
   "metadata": {},
   "source": [
    "## Making a function for matching Coincidence data to energy data"
   ]
  },
  {
   "cell_type": "code",
   "execution_count": 7,
   "metadata": {},
   "outputs": [],
   "source": [
    "#delay is in 10^-12 seconds so 1,000,000 is 1000 ns\n",
    "def Energy_Cuts(listofcoincidences,listofenergy,delay=700011):\n",
    "    #initializing an empty list for the coincidence energies from channel 1\n",
    "    coincident_energy = []\n",
    "    \n",
    "    #iterating through the number of runs our data was split into\n",
    "    for i in np.arange(len(listofcoincidences)):\n",
    "        \n",
    "        #creating a buffer data frame to fill with the ch1 counts found to be coincident with ch0\n",
    "        bufferpd = pd.DataFrame(columns = list_energy[0].columns)\n",
    "        \n",
    "        #iterating through the times in ch0 that we want to match an energy measurement from ch1 to\n",
    "        for j in np.arange(len(listofcoincidences[i])):\n",
    "            \n",
    "            #creating a mask to look for a single value in the ch1 data that is within a certain delay time away from the ch0 detection time\n",
    "            coincident_energy_mask = np.where((list_energy[i]['TIMETAG'] < list_coincidences[i]['TIMETAG'][j]-delay+1000) & \n",
    "                                              (list_energy[i]['TIMETAG'] > list_coincidences[i]['TIMETAG'][j]-delay-8000))\n",
    "            \n",
    "            #single row of a dataframe to be appended to bufferpd\n",
    "            info_on_coincident_energy = listofenergy[i].iloc[[coincident_energy_mask][0][0]]\n",
    "            \n",
    "            #appending the row of the data frame\n",
    "            bufferpd = bufferpd.append(info_on_coincident_energy, ignore_index = True)\n",
    "            \n",
    "            #giving each column the correct dtype\n",
    "            bufferpd = bufferpd.astype({\"TIMETAG\": np.int64, \"ENERGY\": np.int64, \"ENERGYSHORT\":np.int64, \"FLAGS\":object}) \n",
    "        \n",
    "        #adding the data frame of coincident ch1 data for each run\n",
    "        coincident_energy.extend([bufferpd])\n",
    "    #returning a list with a length equal to the number of runs the data was split into. Each element is a dataframe for coincidences on ch1 triggered by ch0     \n",
    "    return coincident_energy"
   ]
  },
  {
   "cell_type": "code",
   "execution_count": 8,
   "metadata": {},
   "outputs": [],
   "source": [
    "#looking at the energy that is coincident with ch0\n",
    "tests = Energy_Cuts(list_coincidences,list_energy,delay = 700011)"
   ]
  },
  {
   "cell_type": "code",
   "execution_count": 240,
   "metadata": {
    "scrolled": false
   },
   "outputs": [
    {
     "data": {
      "image/png": "[encoded data removed]",
      "text/plain": [
       "<Figure size 432x288 with 1 Axes>"
      ]
     },
     "metadata": {
      "needs_background": "light"
     },
     "output_type": "display_data"
    }
   ],
   "source": [
    "#plotting said energies\n",
    "plt.hist(tests[0]['ENERGY'],bins=np.arange(0,400));\n",
    "plt.xlim(0,400);"
   ]
  },
  {
   "cell_type": "code",
   "execution_count": 147,
   "metadata": {
    "scrolled": true
   },
   "outputs": [],
   "source": [
    "#This mask format allows us to find the times where energy is within a certain range and relate it directly to our ch0 counts\n",
    "\n",
    "mask = np.where((tests[0]['ENERGY'] < 200) & (tests[0]['ENERGY'] > 0))\n",
    "\n",
    "#It doesnt mean much for the bismuth since it has a close to constant counts/time at small scales, but this is a histogram of\n",
    "#the counts in about every 20th of a second with the above energy constraint\n",
    "\n",
    "\n",
    "energy_cut_counts = list_coincidences[0]['TIMETAG'].iloc[[mask][0][0]]\n",
    "energy_cut_coincidence = pd.DataFrame(energy_cut_counts,columns = ['TIMETAG'])\n"
   ]
  },
  {
   "cell_type": "code",
   "execution_count": 63,
   "metadata": {},
   "outputs": [],
   "source": [
    "#binsize in seconds\n",
    "def count_rate(single_run_coincidences, bin_size = 1):\n",
    "    single_run_coincidences['TIMETAG'] = single_run_coincidences['TIMETAG'] - single_run_coincidences['TIMETAG'].min()\n",
    "    time_axis = np.arange(0,single_run_coincidences['TIMETAG'].max()-bin_size*(10**12),bin_size*(10**12))\n",
    "    counts_per_bin = []\n",
    "    for i in time_axis:\n",
    "        number_of_counts = np.where((single_run_coincidences['TIMETAG'] > i) & \n",
    "                                    (single_run_coincidences['TIMETAG'] <= i+bin_size*(10**12)))\n",
    "        \n",
    "        counts_per_bin.extend([len(number_of_counts[0])])\n",
    "                              \n",
    "    return time_axis*(10**-12), counts_per_bin"
   ]
  },
  {
   "cell_type": "code",
   "execution_count": 276,
   "metadata": {},
   "outputs": [],
   "source": [
    "x,y = count_rate(list_coincidences[1],bin_size = 1)\n"
   ]
  },
  {
   "cell_type": "code",
   "execution_count": 277,
   "metadata": {
    "scrolled": true
   },
   "outputs": [
    {
     "data": {
      "text/plain": [
       "Text(0.5, 0, 'Seconds')"
      ]
     },
     "execution_count": 277,
     "metadata": {},
     "output_type": "execute_result"
    },
    {
     "data": {
      "image/png": "[encoded data removed]",
      "text/plain": [
       "<Figure size 864x360 with 1 Axes>"
      ]
     },
     "metadata": {
      "needs_background": "light"
     },
     "output_type": "display_data"
    }
   ],
   "source": [
    "%matplotlib inline\n",
    "fig, ax = plt.subplots(1,figsize=(12,5))\n",
    "\n",
    "#ax.errorbar(x,y,yerr=np.sqrt(y), label= 'Limits')\n",
    "\n",
    "ax.plot(x,y)\n",
    "ax.set_ylabel('Counts')\n",
    "ax.set_xlabel('Seconds')\n",
    "#ax.legend()"
   ]
  },
  {
   "cell_type": "code",
   "execution_count": 10,
   "metadata": {},
   "outputs": [
    {
     "data": {
      "text/plain": [
       "(0      1079562053946\n",
       " 1      1083456656831\n",
       " 2      1083724320852\n",
       " 3      1099187385090\n",
       " 4      1099979905106\n",
       "            ...      \n",
       " 322    2234190169960\n",
       " 323    2236385121371\n",
       " 324    2243232001036\n",
       " 325    2250547776248\n",
       " 326    2256307805671\n",
       " Name: TIMETAG, Length: 327, dtype: int64, 0     1079561353935\n",
       " 1     1083455956855\n",
       " 2     1083723621372\n",
       " 3     1126693462278\n",
       " 4     1133690604730\n",
       "           ...      \n",
       " 58    2171898136109\n",
       " 59    2200775401685\n",
       " 60    2210450599309\n",
       " 61    2216590717811\n",
       " 62    2224575140001\n",
       " Name: TIMETAG, Length: 63, dtype: int64)"
      ]
     },
     "execution_count": 10,
     "metadata": {},
     "output_type": "execute_result"
    }
   ],
   "source": [
    "list_coincidences[0]['TIMETAG'],tests[0]['TIMETAG']"
   ]
  },
  {
   "cell_type": "code",
   "execution_count": 316,
   "metadata": {},
   "outputs": [
    {
     "data": {
      "text/plain": [
       "array([-3.89390291e+09, -2.66964541e+08, -1.54623666e+10, -7.91825844e+08,\n",
       "       -4.68170402e+09, -2.20311572e+10, -5.81733529e+09, -1.72276033e+09,\n",
       "       -2.22425412e+09, -4.21344944e+09, -3.06032019e+09, -1.60959256e+09,\n",
       "       -7.31989887e+09, -7.59409756e+09, -3.73341225e+09, -4.94443093e+09,\n",
       "       -9.64601377e+09, -9.19134054e+09, -7.78978238e+09, -9.19396506e+09,\n",
       "       -9.89884773e+09, -1.72210721e+10, -1.50968593e+10, -1.46440463e+10,\n",
       "       -8.03118402e+09, -3.48845724e+09, -9.24990803e+09, -1.72997896e+10,\n",
       "       -1.70382561e+10, -1.48326122e+10, -6.31272636e+09, -7.72320802e+09,\n",
       "       -2.50288850e+09, -2.09865622e+09, -7.42358665e+09, -1.12265243e+10,\n",
       "       -1.17394971e+10, -7.32100261e+09, -4.90256091e+09, -4.55283823e+09,\n",
       "       -9.30973306e+09, -1.46214607e+10, -1.70560973e+10, -1.49999748e+10,\n",
       "       -9.86183004e+09, -1.25242568e+10, -2.00666562e+10, -1.54652290e+10,\n",
       "       -1.61600135e+10, -1.60333442e+10, -1.66686317e+10, -1.67273805e+10,\n",
       "       -1.65572276e+10, -1.74048674e+10, -2.15390499e+10, -1.97766624e+10,\n",
       "       -1.87100519e+10, -2.74849843e+10, -2.91160460e+10, -3.27590149e+10,\n",
       "       -3.44191917e+10, -2.99072400e+10, -2.97706962e+10, -3.09025047e+10,\n",
       "       -2.78172752e+10, -2.49002289e+10, -2.58015348e+10, -2.30918306e+10,\n",
       "       -2.08908339e+10, -2.27806850e+10, -2.16558569e+10, -2.38712414e+10,\n",
       "       -2.57263290e+10, -2.71018642e+10, -2.84211960e+10, -3.77633777e+10,\n",
       "       -3.75494897e+10, -3.93521727e+10, -3.89956761e+10, -3.55537218e+10,\n",
       "       -3.42436697e+10, -3.87380525e+10, -3.12409844e+10, -2.87504651e+10,\n",
       "       -2.17326116e+10, -2.78156790e+10, -3.44892923e+10, -3.56148903e+10,\n",
       "       -3.81835518e+10, -3.76711914e+10, -3.45945921e+10, -3.35764111e+10,\n",
       "       -3.44824847e+10, -3.22113219e+10, -2.67669352e+10, -1.63146754e+10,\n",
       "       -2.01089447e+10, -2.87420127e+10, -3.64748648e+10, -3.82259646e+10,\n",
       "       -4.03558245e+10, -3.98976347e+10, -4.07376796e+10, -5.63132356e+10,\n",
       "       -5.84641948e+10, -5.44015367e+10, -4.18569447e+10, -4.30025990e+10,\n",
       "       -4.61615117e+10, -4.50642048e+10, -5.07247245e+10, -4.71202236e+10,\n",
       "       -3.32921369e+10, -3.49934061e+10, -3.44606301e+10, -3.41192832e+10,\n",
       "       -2.74333095e+10, -3.01286444e+10, -3.21599984e+10, -2.57599281e+10,\n",
       "       -3.24323574e+10, -3.18362117e+10, -3.18168164e+10, -3.66346098e+10,\n",
       "       -3.64345441e+10, -3.96995826e+10, -4.51977068e+10, -4.52700046e+10,\n",
       "       -4.70368503e+10, -4.80742056e+10, -4.90967444e+10, -5.45355952e+10,\n",
       "       -5.62048977e+10, -5.07841135e+10, -5.60182104e+10, -5.12548193e+10,\n",
       "       -4.94819984e+10, -4.87229792e+10, -4.30572992e+10, -4.30153780e+10,\n",
       "       -4.48016138e+10, -4.75161671e+10, -5.22280079e+10, -5.43699405e+10,\n",
       "       -5.36029307e+10, -4.53628936e+10, -4.78227207e+10, -4.51048920e+10,\n",
       "       -4.51135177e+10, -4.87614565e+10, -4.56148521e+10, -4.81161118e+10,\n",
       "       -4.83942614e+10, -4.66966132e+10, -4.46109076e+10, -3.79395357e+10,\n",
       "       -3.11718003e+10, -3.32128857e+10, -3.32812930e+10, -3.40716958e+10,\n",
       "       -3.15871443e+10, -3.61413294e+10, -3.30196957e+10, -3.19157880e+10,\n",
       "       -3.79524636e+10, -3.83415325e+10, -4.06699013e+10, -3.64596321e+10,\n",
       "       -4.05579510e+10, -3.98650693e+10, -3.97703474e+10, -3.94143410e+10,\n",
       "       -4.24113217e+10, -4.33805323e+10, -3.84141395e+10, -4.62768895e+10,\n",
       "       -5.44410708e+10, -7.20885231e+10, -7.22287343e+10, -6.45825448e+10,\n",
       "       -7.14934529e+10, -7.27046255e+10, -7.50677473e+10, -7.40164262e+10,\n",
       "       -7.46087454e+10, -6.90787870e+10, -6.99783208e+10, -6.79608490e+10,\n",
       "       -6.83247878e+10, -6.63420192e+10, -6.72384114e+10, -7.30944191e+10,\n",
       "       -7.44437400e+10, -7.57800524e+10, -7.60515767e+10, -8.34867044e+10,\n",
       "       -8.40335844e+10, -9.23879116e+10, -9.49250848e+10, -9.59281208e+10,\n",
       "       -7.90875337e+10, -8.56536648e+10, -8.42992523e+10, -7.79967900e+10,\n",
       "       -7.68259353e+10, -8.39795137e+10, -8.20493169e+10, -8.38386611e+10,\n",
       "       -8.42227784e+10, -8.42376194e+10, -8.94940753e+10, -8.95932560e+10,\n",
       "       -8.90858465e+10, -9.08771679e+10, -9.02492211e+10, -8.67169003e+10,\n",
       "       -8.85243534e+10, -8.56919388e+10, -8.34843492e+10, -8.88156928e+10,\n",
       "       -8.32256849e+10, -8.88894895e+10, -8.59841318e+10, -8.87227926e+10,\n",
       "       -8.41482118e+10, -9.25548164e+10, -9.11930631e+10, -8.70215843e+10,\n",
       "       -8.93714941e+10, -9.03729433e+10, -9.77607801e+10, -9.78305799e+10,\n",
       "       -1.09725530e+11, -1.11273499e+11, -1.13158298e+11, -1.16340181e+11,\n",
       "       -1.18531702e+11, -1.15641604e+11, -1.16143345e+11, -1.16378967e+11,\n",
       "       -1.09776309e+11, -1.18577549e+11, -1.16685787e+11, -1.17406477e+11,\n",
       "       -1.25341391e+11, -1.26104004e+11, -1.24670407e+11, -1.22875386e+11,\n",
       "       -1.39781022e+11, -1.33222748e+11, -1.27648530e+11, -1.27336487e+11,\n",
       "       -1.25978229e+11, -1.33693681e+11, -1.32866082e+11, -1.36430608e+11,\n",
       "       -1.36692513e+11, -1.29411126e+11, -1.24742300e+11, -1.20353541e+11,\n",
       "       -1.13507602e+11, -1.11778338e+11, -1.08536589e+11, -1.13099953e+11,\n",
       "       -1.11308328e+11, -1.12696798e+11, -1.14495430e+11, -1.15475281e+11,\n",
       "       -1.14241932e+11, -1.19954792e+11, -1.25799956e+11, -1.26837570e+11,\n",
       "       -1.31946291e+11, -1.29275469e+11, -1.33747639e+11, -1.08974001e+11,\n",
       "       -1.15482830e+11, -1.15209471e+11, -1.17775737e+11, -1.20709972e+11,\n",
       "       -1.13526513e+11, -1.15763064e+11, -1.20650556e+11, -1.14621526e+11,\n",
       "       -1.14057609e+11, -1.20435435e+11, -1.19956741e+11, -1.16490214e+11,\n",
       "       -1.20799491e+11, -1.24411139e+11, -1.34036265e+11, -1.34804882e+11,\n",
       "       -1.35911259e+11, -1.40557638e+11, -1.45113410e+11,             nan,\n",
       "                   nan,             nan,             nan,             nan,\n",
       "                   nan,             nan,             nan,             nan,\n",
       "                   nan,             nan,             nan,             nan,\n",
       "                   nan,             nan,             nan,             nan,\n",
       "                   nan,             nan,             nan,             nan,\n",
       "                   nan,             nan,             nan,             nan,\n",
       "                   nan,             nan,             nan,             nan,\n",
       "                   nan,             nan,             nan])"
      ]
     },
     "execution_count": 316,
     "metadata": {},
     "output_type": "execute_result"
    }
   ],
   "source": [
    "np.asarray(list_coincidences[0]['TIMETAG']-tests[0]['TIMETAG'])"
   ]
  }
 ],
 "metadata": {
  "kernelspec": {
   "display_name": "Python 3",
   "language": "python",
   "name": "python3"
  },
  "language_info": {
   "codemirror_mode": {
    "name": "ipython",
    "version": 3
   },
   "file_extension": ".py",
   "mimetype": "text/x-python",
   "name": "python",
   "nbconvert_exporter": "python",
   "pygments_lexer": "ipython3",
   "version": "3.6.9"
  }
 },
 "nbformat": 4,
 "nbformat_minor": 2
}
