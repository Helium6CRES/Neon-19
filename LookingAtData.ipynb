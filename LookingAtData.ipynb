{
 "cells": [
  {
   "cell_type": "code",
   "execution_count": 2,
   "metadata": {},
   "outputs": [],
   "source": [
    "import pandas as pd\n",
    "import matplotlib.pyplot as plt\n",
    "import numpy as np\n",
    "import scipy as sp"
   ]
  },
  {
   "cell_type": "markdown",
   "metadata": {},
   "source": [
    "## Reading in the CSV files from each Channel"
   ]
  },
  {
   "cell_type": "code",
   "execution_count": 87,
   "metadata": {},
   "outputs": [],
   "source": [
    "#Here you will need to put the directory to where the CSV files are located\n",
    "#This creates a dataframe for each channel\n",
    "\n",
    "def create_string(location):\n",
    "    path1 = '/home/cenpa/Ne19/DAQ/FinalConfigSettings/DAQ/{0:s}/UNFILTERED/CH0@DT5725_1146_Data_{0:s}.csv'.format(location)\n",
    "    path2 = '/home/cenpa/Ne19/DAQ/FinalConfigSettings/DAQ/{0:s}/UNFILTERED/CH1@DT5725_1146_Data_{0:s}.csv'.format(location)\n",
    "    path3 = '/home/cenpa/Ne19/DAQ/FinalConfigSettings/DAQ/{0:s}/UNFILTERED/CH2@DT5725_1146_Data_{0:s}.csv'.format(location)\n",
    "    \n",
    "    path = [path1,path2,path3]\n",
    "    return path\n",
    "\n",
    "\n",
    "\n",
    "#write the folder location where 'BiTest-03' is\n",
    "run_name = 'BiTest-03'\n",
    "#path = create_string(run_name)\n",
    "\n",
    "\n",
    "\n",
    "#ch0_df = pd.read_csv(path[0],sep=';')\n",
    "#ch1_df = pd.read_csv(path[1],sep=';')\n",
    "#ch2_df = pd.read_csv(path[2],sep=';')"
   ]
  },
  {
   "cell_type": "markdown",
   "metadata": {},
   "source": [
    "## Process of Splitting Data into indivdual cycles"
   ]
  },
  {
   "cell_type": "code",
   "execution_count": 76,
   "metadata": {},
   "outputs": [],
   "source": [
    "def Split_Data(ch0_dataFrame,ch1_dataFrame,ch2_dataFrame,minimum_counts = 0):\n",
    "    \"\"\"This function returns a list of the data split by run for channel0 and/or channel1 based on the triggering from channel2\"\"\"\n",
    "    #initializing an empty list for each channel(coincidencedata ch0, energydata ch1 ) I want to split into runs triggered\n",
    "    #by the clock from ch2\n",
    "    if \n",
    "    \n",
    "    ch0split_data = []\n",
    "    ch1split_data = []\n",
    "    \n",
    "    \n",
    "    #iterating through the number of times ch2 recieved a signal from our clock\n",
    "    for i in np.arange(0,len(ch2_dataFrame)-1):\n",
    "        \n",
    "        #creating a mask to separate the full data into their individual runs for ch0\n",
    "        ch0time_mask = np.where((ch0_dataFrame['TIMETAG'] > ch2_dataFrame['TIMETAG'][i]) & \n",
    "                                (ch0_dataFrame['TIMETAG'] < ch2_dataFrame['TIMETAG'][i+1]))\n",
    "        \n",
    "        \n",
    "        #creating a mask to separate the full data into their individual runs for ch2\n",
    "        ch1time_mask = np.where((ch1_dataFrame['TIMETAG'] > ch2_dataFrame['TIMETAG'][i]) & \n",
    "                                (ch1_dataFrame['TIMETAG'] < ch2_dataFrame['TIMETAG'][i+1]))\n",
    "        \n",
    "        #This number for minimum counts is to remove any possible signals that may occur when we are not running but still collecting data\n",
    "        if len(ch0time_mask[0]) >= minimum_counts:\n",
    "            \n",
    "            #for each run I am creating a new dataframe and storing in a list\n",
    "            split_dataFrame0 = ch0_dataFrame.iloc[[ch0time_mask][0][0]].copy()\n",
    "            #resetting the index\n",
    "            split_dataFrame0 = split_dataFrame0.reset_index(drop=True)\n",
    "\n",
    "            split_dataFrame1 = ch1_dataFrame.iloc[[ch1time_mask][0][0]].copy()\n",
    "            #resetting the index\n",
    "            split_dataFrame1 = split_dataFrame1.reset_index(drop=True)\n",
    "            \n",
    "            ch0split_data.extend([split_dataFrame0])\n",
    "            ch1split_data.extend([split_dataFrame1])\n",
    "    #returns two arrays of dataframes, one for channel0 and another channel1        \n",
    "    return ch0split_data, ch1split_data\n"
   ]
  },
  {
   "cell_type": "code",
   "execution_count": 68,
   "metadata": {},
   "outputs": [],
   "source": [
    "#initializing the arrays of run data\n",
    "list_coincidences,list_energy = Split_Data(ch0_df,ch1_df,ch2_df)"
   ]
  },
  {
   "cell_type": "code",
   "execution_count": 73,
   "metadata": {},
   "outputs": [
    {
     "data": {
      "image/png": "[encoded data removed]",
      "text/plain": [
       "<Figure size 432x288 with 1 Axes>"
      ]
     },
     "metadata": {
      "needs_background": "light"
     },
     "output_type": "display_data"
    }
   ],
   "source": [
    "#looking at the 16th single second run recorded during the bismuth test\n",
    "plt.hist(ch1_df['ENERGY'],bins = np.arange(5,300));\n",
    "plt.xlim(0,300);\n",
    "plt.yscale('log')"
   ]
  },
  {
   "cell_type": "markdown",
   "metadata": {},
   "source": [
    "## Making a function for matching Coincidence data to energy data"
   ]
  },
  {
   "cell_type": "code",
   "execution_count": 72,
   "metadata": {},
   "outputs": [],
   "source": [
    "#delay is in 10^-12 seconds so 1,000,000 is 1000 ns\n",
    "def Energylist_Cuts(listofcoincidences,listofenergy,delay=700011):\n",
    "    #initializing an empty list for the coincidence energies from channel 1\n",
    "    coincident_energy = []\n",
    "    \n",
    "    #iterating through the number of runs our data was split into\n",
    "    for i in np.arange(len(listofcoincidences)):\n",
    "        \n",
    "        #creating a buffer data frame to fill with the ch1 counts found to be coincident with ch0\n",
    "        bufferpd = pd.DataFrame(columns = listofenergy[0].columns)\n",
    "        \n",
    "        #iterating through the times in ch0 that we want to match an energy measurement from ch1 to\n",
    "        for j in np.arange(len(listofcoincidences[i])):\n",
    "            \n",
    "            #creating a mask to look for a single value in the ch1 data that is within a certain delay time away from the ch0 detection time\n",
    "            coincident_energy_mask = np.where((listofenergy[i]['TIMETAG'] < listofcoincidences[i]['TIMETAG'][j]-delay+7000) & \n",
    "                                              (listofenergy[i]['TIMETAG'] > listofcoincidences[i]['TIMETAG'][j]-delay-8000))\n",
    "            \n",
    "            #single row of a dataframe to be appended to bufferpd\n",
    "            info_on_coincident_energy = listofenergy[i].iloc[[coincident_energy_mask][0][0]]\n",
    "            \n",
    "            #appending the row of the data frame\n",
    "            bufferpd = bufferpd.append(info_on_coincident_energy, ignore_index = True)\n",
    "            \n",
    "            #giving each column the correct dtype\n",
    "            bufferpd = bufferpd.astype({\"TIMETAG\": np.int64, \"ENERGY\": np.int64, \"ENERGYSHORT\":np.int64, \"FLAGS\":object}) \n",
    "        \n",
    "        #adding the data frame of coincident ch1 data for each run\n",
    "        coincident_energy.extend([bufferpd])\n",
    "    #returning a list with a length equal to the number of runs the data was split into. Each element is a dataframe for coincidences on ch1 triggered by ch0     \n",
    "    return coincident_energy"
   ]
  },
  {
   "cell_type": "code",
   "execution_count": 73,
   "metadata": {},
   "outputs": [],
   "source": [
    "#looking at the energy that is coincident with ch0\n",
    "tests = Energylist_Cuts(list_coincidences,list_energy,delay = 700011)"
   ]
  },
  {
   "cell_type": "code",
   "execution_count": 240,
   "metadata": {
    "scrolled": false
   },
   "outputs": [
    {
     "data": {
      "image/png": "[encoded data removed]",
      "text/plain": [
       "<Figure size 432x288 with 1 Axes>"
      ]
     },
     "metadata": {
      "needs_background": "light"
     },
     "output_type": "display_data"
    }
   ],
   "source": [
    "#plotting said energies\n",
    "plt.hist(tests[0]['ENERGY'],bins=np.arange(0,400));\n",
    "plt.xlim(0,400);"
   ]
  },
  {
   "cell_type": "code",
   "execution_count": 147,
   "metadata": {
    "scrolled": true
   },
   "outputs": [],
   "source": [
    "#This mask format allows us to find the times where energy is within a certain range and relate it directly to our ch0 counts\n",
    "\n",
    "mask = np.where((tests[0]['ENERGY'] < 200) & (tests[0]['ENERGY'] > 0))\n",
    "\n",
    "#It doesnt mean much for the bismuth since it has a close to constant counts/time at small scales, but this is a histogram of\n",
    "#the counts in about every 20th of a second with the above energy constraint\n",
    "\n",
    "\n",
    "energy_cut_counts = list_coincidences[0]['TIMETAG'].iloc[[mask][0][0]]\n",
    "energy_cut_coincidence = pd.DataFrame(energy_cut_counts,columns = ['TIMETAG'])\n"
   ]
  },
  {
   "cell_type": "code",
   "execution_count": 16,
   "metadata": {},
   "outputs": [],
   "source": [
    "def count_rate(single_run_coincidences, bin_size = 1):\n",
    "    bin_seconds = bin_size*(10**12)\n",
    "    singlerun = single_run_coincidences['TIMETAG'] - single_run_coincidences['TIMETAG'].min()\n",
    "    time_axis = np.arange(0,singlerun.max()-bin_seconds,bin_seconds)\n",
    "    \n",
    "    def time_binning(i):\n",
    "        number_of_counts = np.where((singlerun > i) & \n",
    "                                    (singlerun <= i+bin_seconds))\n",
    "        return len(number_of_counts[0])\n",
    "    return time_axis*(10**-12), [time_binning(i) for i in time_axis]"
   ]
  },
  {
   "cell_type": "code",
   "execution_count": 89,
   "metadata": {
    "scrolled": false
   },
   "outputs": [],
   "source": [
    "def plot_rate(coincidences,cycle_number, bin_size = 1):\n",
    "    \n",
    "    x,y = count_rate(coincidences[cycle_number],bin_size = bin_size)\n",
    "    fig, ax = plt.subplots(1,figsize=(12,5))\n",
    "\n",
    "    #ax.errorbar(x,y,yerr=np.sqrt(y), label= 'Limits')\n",
    "\n",
    "    ax.plot(x,y)\n",
    "    ax.set_title('Run from {0:s} Cycle Number {1:d}'.format(run_name,cycle_number))\n",
    "    ax.set_ylabel('Counts')\n",
    "    ax.set_xlabel('Seconds')\n",
    "    #ax.legend()"
   ]
  },
  {
   "cell_type": "markdown",
   "metadata": {},
   "source": [
    "   # Running The Code:"
   ]
  },
  {
   "cell_type": "markdown",
   "metadata": {},
   "source": [
    "   1. Run all the cells listed above.\n",
    "   \n",
    "   2. "
   ]
  }
 ],
 "metadata": {
  "kernelspec": {
   "display_name": "Python 3",
   "language": "python",
   "name": "python3"
  },
  "language_info": {
   "codemirror_mode": {
    "name": "ipython",
    "version": 3
   },
   "file_extension": ".py",
   "mimetype": "text/x-python",
   "name": "python",
   "nbconvert_exporter": "python",
   "pygments_lexer": "ipython3",
   "version": "3.6.8"
  }
 },
 "nbformat": 4,
 "nbformat_minor": 2
}
