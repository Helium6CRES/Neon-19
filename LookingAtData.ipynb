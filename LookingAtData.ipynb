{
 "cells": [
  {
   "cell_type": "code",
   "execution_count": 36,
   "metadata": {},
   "outputs": [],
   "source": [
    "import pandas as pd\n",
    "import matplotlib.pyplot as plt\n",
    "import numpy as np\n",
    "import scipy as sp"
   ]
  },
  {
   "cell_type": "markdown",
   "metadata": {},
   "source": [
    "## Reading in the CSV files from each Channel"
   ]
  },
  {
   "cell_type": "code",
   "execution_count": 7,
   "metadata": {},
   "outputs": [],
   "source": [
    "#Here you will need to put the directory to where the CSV files are located\n",
    "#This creates a dataframe for each channel\n",
    "ch0_df = pd.read_csv('C:/Users/higgi/Desktop/Bismuth-data/CH0@DT5725_1146_Data_BiTest-03.csv',sep=';')\n",
    "ch1_df = pd.read_csv('C:/Users/higgi/Desktop/Bismuth-data/CH1@DT5725_1146_Data_BiTest-03.csv',sep=';')\n",
    "ch2_df = pd.read_csv('C:/Users/higgi/Desktop/Bismuth-data/CH2@DT5725_1146_Data_BiTest-03.csv',sep=';')"
   ]
  },
  {
   "cell_type": "code",
   "execution_count": 70,
   "metadata": {
    "scrolled": true
   },
   "outputs": [
    {
     "data": {
      "text/html": [
       "<div>\n",
       "<style scoped>\n",
       "    .dataframe tbody tr th:only-of-type {\n",
       "        vertical-align: middle;\n",
       "    }\n",
       "\n",
       "    .dataframe tbody tr th {\n",
       "        vertical-align: top;\n",
       "    }\n",
       "\n",
       "    .dataframe thead th {\n",
       "        text-align: right;\n",
       "    }\n",
       "</style>\n",
       "<table border=\"1\" class=\"dataframe\">\n",
       "  <thead>\n",
       "    <tr style=\"text-align: right;\">\n",
       "      <th></th>\n",
       "      <th>TIMETAG</th>\n",
       "      <th>ENERGY</th>\n",
       "      <th>ENERGYSHORT</th>\n",
       "      <th>FLAGS</th>\n",
       "    </tr>\n",
       "  </thead>\n",
       "  <tbody>\n",
       "    <tr>\n",
       "      <th>0</th>\n",
       "      <td>349009575</td>\n",
       "      <td>156</td>\n",
       "      <td>147</td>\n",
       "      <td>0x4400</td>\n",
       "    </tr>\n",
       "    <tr>\n",
       "      <th>1</th>\n",
       "      <td>7081197522</td>\n",
       "      <td>157</td>\n",
       "      <td>147</td>\n",
       "      <td>0x4400</td>\n",
       "    </tr>\n",
       "    <tr>\n",
       "      <th>2</th>\n",
       "      <td>7582042501</td>\n",
       "      <td>152</td>\n",
       "      <td>139</td>\n",
       "      <td>0x4400</td>\n",
       "    </tr>\n",
       "    <tr>\n",
       "      <th>3</th>\n",
       "      <td>16346724363</td>\n",
       "      <td>145</td>\n",
       "      <td>140</td>\n",
       "      <td>0x4400</td>\n",
       "    </tr>\n",
       "    <tr>\n",
       "      <th>4</th>\n",
       "      <td>16660847771</td>\n",
       "      <td>150</td>\n",
       "      <td>135</td>\n",
       "      <td>0x4400</td>\n",
       "    </tr>\n",
       "    <tr>\n",
       "      <th>...</th>\n",
       "      <td>...</td>\n",
       "      <td>...</td>\n",
       "      <td>...</td>\n",
       "      <td>...</td>\n",
       "    </tr>\n",
       "    <tr>\n",
       "      <th>6537</th>\n",
       "      <td>23535427962880</td>\n",
       "      <td>152</td>\n",
       "      <td>138</td>\n",
       "      <td>0x4400</td>\n",
       "    </tr>\n",
       "    <tr>\n",
       "      <th>6538</th>\n",
       "      <td>23537311301364</td>\n",
       "      <td>158</td>\n",
       "      <td>149</td>\n",
       "      <td>0x4400</td>\n",
       "    </tr>\n",
       "    <tr>\n",
       "      <th>6539</th>\n",
       "      <td>23538305984502</td>\n",
       "      <td>145</td>\n",
       "      <td>140</td>\n",
       "      <td>0x4400</td>\n",
       "    </tr>\n",
       "    <tr>\n",
       "      <th>6540</th>\n",
       "      <td>23538421141340</td>\n",
       "      <td>157</td>\n",
       "      <td>150</td>\n",
       "      <td>0x4400</td>\n",
       "    </tr>\n",
       "    <tr>\n",
       "      <th>6541</th>\n",
       "      <td>23543650245201</td>\n",
       "      <td>159</td>\n",
       "      <td>153</td>\n",
       "      <td>0x4400</td>\n",
       "    </tr>\n",
       "  </tbody>\n",
       "</table>\n",
       "<p>6542 rows × 4 columns</p>\n",
       "</div>"
      ],
      "text/plain": [
       "             TIMETAG  ENERGY  ENERGYSHORT   FLAGS\n",
       "0          349009575     156          147  0x4400\n",
       "1         7081197522     157          147  0x4400\n",
       "2         7582042501     152          139  0x4400\n",
       "3        16346724363     145          140  0x4400\n",
       "4        16660847771     150          135  0x4400\n",
       "...              ...     ...          ...     ...\n",
       "6537  23535427962880     152          138  0x4400\n",
       "6538  23537311301364     158          149  0x4400\n",
       "6539  23538305984502     145          140  0x4400\n",
       "6540  23538421141340     157          150  0x4400\n",
       "6541  23543650245201     159          153  0x4400\n",
       "\n",
       "[6542 rows x 4 columns]"
      ]
     },
     "execution_count": 70,
     "metadata": {},
     "output_type": "execute_result"
    }
   ],
   "source": [
    "#Example of what the dataframe looks like\n",
    "ch0_df"
   ]
  },
  {
   "cell_type": "markdown",
   "metadata": {},
   "source": [
    "## Process of Splitting Data into indivdual runs"
   ]
  },
  {
   "cell_type": "code",
   "execution_count": 236,
   "metadata": {},
   "outputs": [],
   "source": [
    "def Split_Data(ch0_dataFrame,ch1_dataFrame,ch2_dataFrame,minimum_counts = 8000):\n",
    "    \n",
    "    #initializing an empty list for each channel(coincidencedata ch0, energydata ch1 ) I want to split into runs triggered\n",
    "    #by the clock from ch2\n",
    "    ch0split_data = []\n",
    "    ch1split_data = []\n",
    "    \n",
    "    #iterating through the number of times ch2 recieved a signal from our clock\n",
    "    for i in np.arange(0,len(ch2_dataFrame)-1):\n",
    "        \n",
    "        #creating a mask to separate the full data into their individual runs for ch0\n",
    "        ch0time_mask = np.where((ch0_dataFrame['TIMETAG'] >= ch2_dataFrame['TIMETAG'][i]) & \n",
    "                                (ch0_dataFrame['TIMETAG'] < ch2_dataFrame['TIMETAG'][i+1]))\n",
    "        \n",
    "        \n",
    "        #creating a mask to separate the full data into their individual runs for ch2\n",
    "        ch1time_mask = np.where((ch1_dataFrame['TIMETAG'] >= ch2_dataFrame['TIMETAG'][i]) & \n",
    "                                (ch1_dataFrame['TIMETAG'] < ch2_dataFrame['TIMETAG'][i+1]))\n",
    "        \n",
    "        #This number for minimum counts is to remove any possible signals that may occur when we are not running but still collecting data\n",
    "        if len(time_mask[0]) > minimum_counts:\n",
    "            \n",
    "            #for each run I am creating a new dataframe and storing in a list\n",
    "            split_dataFrame0 = ch0_dataFrame.iloc[[ch0time_mask][0][0]].copy()\n",
    "            #resetting the index\n",
    "            split_dataFrame0 = split_dataFrame0.reset_index(drop=True)\n",
    "\n",
    "            split_dataFrame1 = ch1_dataFrame.iloc[[ch1time_mask][0][0]].copy()\n",
    "            #resetting the index\n",
    "            split_dataFrame1 = split_dataFrame1.reset_index(drop=True)\n",
    "            \n",
    "            ch0split_data.extend([split_dataFrame0])\n",
    "            ch1split_data.extend([split_dataFrame1])\n",
    "    #returns two arrays of dataframes, one for channel0 and another channel1        \n",
    "    return ch0split_data, ch1split_data\n"
   ]
  },
  {
   "cell_type": "code",
   "execution_count": 237,
   "metadata": {},
   "outputs": [],
   "source": [
    "#initializing the arrays of run data\n",
    "list_coincidences,list_energy = Split_Data(ch0_df,ch1_df,ch2_df)"
   ]
  },
  {
   "cell_type": "code",
   "execution_count": 162,
   "metadata": {},
   "outputs": [
    {
     "data": {
      "image/png": "[encoded data removed]",
      "text/plain": [
       "<Figure size 432x288 with 1 Axes>"
      ]
     },
     "metadata": {
      "needs_background": "light"
     },
     "output_type": "display_data"
    }
   ],
   "source": [
    "#looking at the 16th single second run recorded during the bismuth test\n",
    "plt.hist(list_energy[15]['ENERGY'],bins=500);\n",
    "plt.xlim(0,200);"
   ]
  },
  {
   "cell_type": "code",
   "execution_count": 240,
   "metadata": {
    "scrolled": true
   },
   "outputs": [
    {
     "data": {
      "text/html": [
       "<div>\n",
       "<style scoped>\n",
       "    .dataframe tbody tr th:only-of-type {\n",
       "        vertical-align: middle;\n",
       "    }\n",
       "\n",
       "    .dataframe tbody tr th {\n",
       "        vertical-align: top;\n",
       "    }\n",
       "\n",
       "    .dataframe thead th {\n",
       "        text-align: right;\n",
       "    }\n",
       "</style>\n",
       "<table border=\"1\" class=\"dataframe\">\n",
       "  <thead>\n",
       "    <tr style=\"text-align: right;\">\n",
       "      <th></th>\n",
       "      <th>TIMETAG</th>\n",
       "      <th>ENERGY</th>\n",
       "      <th>ENERGYSHORT</th>\n",
       "      <th>FLAGS</th>\n",
       "    </tr>\n",
       "  </thead>\n",
       "  <tbody>\n",
       "    <tr>\n",
       "      <th>0</th>\n",
       "      <td>1079562053946</td>\n",
       "      <td>153</td>\n",
       "      <td>143</td>\n",
       "      <td>0x4400</td>\n",
       "    </tr>\n",
       "    <tr>\n",
       "      <th>1</th>\n",
       "      <td>1083456656831</td>\n",
       "      <td>150</td>\n",
       "      <td>146</td>\n",
       "      <td>0x4400</td>\n",
       "    </tr>\n",
       "    <tr>\n",
       "      <th>2</th>\n",
       "      <td>1083724320852</td>\n",
       "      <td>151</td>\n",
       "      <td>146</td>\n",
       "      <td>0x4400</td>\n",
       "    </tr>\n",
       "    <tr>\n",
       "      <th>3</th>\n",
       "      <td>1099187385090</td>\n",
       "      <td>161</td>\n",
       "      <td>155</td>\n",
       "      <td>0x4400</td>\n",
       "    </tr>\n",
       "    <tr>\n",
       "      <th>4</th>\n",
       "      <td>1099979905106</td>\n",
       "      <td>161</td>\n",
       "      <td>155</td>\n",
       "      <td>0x4400</td>\n",
       "    </tr>\n",
       "    <tr>\n",
       "      <th>...</th>\n",
       "      <td>...</td>\n",
       "      <td>...</td>\n",
       "      <td>...</td>\n",
       "      <td>...</td>\n",
       "    </tr>\n",
       "    <tr>\n",
       "      <th>322</th>\n",
       "      <td>2234190169960</td>\n",
       "      <td>154</td>\n",
       "      <td>143</td>\n",
       "      <td>0x4400</td>\n",
       "    </tr>\n",
       "    <tr>\n",
       "      <th>323</th>\n",
       "      <td>2236385121371</td>\n",
       "      <td>157</td>\n",
       "      <td>149</td>\n",
       "      <td>0x4400</td>\n",
       "    </tr>\n",
       "    <tr>\n",
       "      <th>324</th>\n",
       "      <td>2243232001036</td>\n",
       "      <td>161</td>\n",
       "      <td>155</td>\n",
       "      <td>0x4400</td>\n",
       "    </tr>\n",
       "    <tr>\n",
       "      <th>325</th>\n",
       "      <td>2250547776248</td>\n",
       "      <td>144</td>\n",
       "      <td>140</td>\n",
       "      <td>0x4400</td>\n",
       "    </tr>\n",
       "    <tr>\n",
       "      <th>326</th>\n",
       "      <td>2256307805671</td>\n",
       "      <td>156</td>\n",
       "      <td>145</td>\n",
       "      <td>0x4400</td>\n",
       "    </tr>\n",
       "  </tbody>\n",
       "</table>\n",
       "<p>327 rows × 4 columns</p>\n",
       "</div>"
      ],
      "text/plain": [
       "           TIMETAG  ENERGY  ENERGYSHORT   FLAGS\n",
       "0    1079562053946     153          143  0x4400\n",
       "1    1083456656831     150          146  0x4400\n",
       "2    1083724320852     151          146  0x4400\n",
       "3    1099187385090     161          155  0x4400\n",
       "4    1099979905106     161          155  0x4400\n",
       "..             ...     ...          ...     ...\n",
       "322  2234190169960     154          143  0x4400\n",
       "323  2236385121371     157          149  0x4400\n",
       "324  2243232001036     161          155  0x4400\n",
       "325  2250547776248     144          140  0x4400\n",
       "326  2256307805671     156          145  0x4400\n",
       "\n",
       "[327 rows x 4 columns]"
      ]
     },
     "execution_count": 240,
     "metadata": {},
     "output_type": "execute_result"
    }
   ],
   "source": [
    "#Looking at the coincidence data from the first 1 second run from the bismuth\n",
    "list_coincidences[0]"
   ]
  },
  {
   "cell_type": "markdown",
   "metadata": {},
   "source": [
    "## Making a function for matching Coincidence data to energy data"
   ]
  },
  {
   "cell_type": "code",
   "execution_count": 363,
   "metadata": {},
   "outputs": [],
   "source": [
    "def Energy_Cuts(listofcoincidences,listofenergy,delay=1000000):\n",
    "    #initializing an empty list for the coincidence energies from channel 1\n",
    "    coincident_energy = []\n",
    "    \n",
    "    #iterating through the number of runs our data was split into\n",
    "    for i in np.arange(len(listofcoincidences)):\n",
    "        \n",
    "        #creating a buffer data frame to fill with the ch1 counts found to be coincident with ch0\n",
    "        bufferpd = pd.DataFrame(columns = list_energy[0].columns)\n",
    "        \n",
    "        #iterating through the times in ch0 that we want to match an energy measurement from ch1 to\n",
    "        for j in np.arange(len(listofcoincidences[i])):\n",
    "            \n",
    "            #creating a mask to look for a single value in the ch1 data that is within a certain delay time away from the ch0 detection time\n",
    "            coincident_energy_mask = np.where((list_energy[i]['TIMETAG'] < list_coincidences[i]['TIMETAG'][j]) & \n",
    "                                              (list_energy[i]['TIMETAG'] > list_coincidences[i]['TIMETAG'][j]-delay))\n",
    "            \n",
    "            #single row of a dataframe to be appended to bufferpd\n",
    "            info_on_coincident_energy = listofenergy[i].iloc[[coincident_energy_mask][0][0]]\n",
    "            \n",
    "            #appending the row of the data frame\n",
    "            bufferpd = bufferpd.append(info_on_coincident_energy, ignore_index = True)\n",
    "            \n",
    "            #giving each column the correct dtype\n",
    "            bufferpd = bufferpd.astype({\"TIMETAG\": np.int64, \"ENERGY\": np.int64, \"ENERGYSHORT\":np.int64, \"FLAGS\":object}) \n",
    "        \n",
    "        #adding the data frame of coincident ch1 data for each run\n",
    "        coincident_energy.extend([bufferpd])\n",
    "    #returning a list with a length equal to the number of runs the data was split into. Each element is a dataframe for coincidences on ch1 triggered by ch0     \n",
    "    return coincident_energy"
   ]
  },
  {
   "cell_type": "code",
   "execution_count": 364,
   "metadata": {},
   "outputs": [],
   "source": [
    "#looking at the energy that is coincident with ch0\n",
    "test = Energy_Cuts(list_coincidences,list_energy)"
   ]
  },
  {
   "cell_type": "code",
   "execution_count": 368,
   "metadata": {
    "scrolled": true
   },
   "outputs": [
    {
     "data": {
      "image/png": "[encoded data removed]",
      "text/plain": [
       "<Figure size 432x288 with 1 Axes>"
      ]
     },
     "metadata": {
      "needs_background": "light"
     },
     "output_type": "display_data"
    }
   ],
   "source": [
    "#plotting said energies\n",
    "plt.hist(test[0]['ENERGY'],bins=500);"
   ]
  },
  {
   "cell_type": "code",
   "execution_count": 394,
   "metadata": {},
   "outputs": [
    {
     "data": {
      "text/plain": [
       "(array([ 8.,  4., 12.,  6., 11.,  8.,  8.,  9.,  7.,  9., 10., 10., 15.,\n",
       "        14.,  8.,  9.,  7.,  7.,  5.,  7.]),\n",
       " array([1.08372432e+12, 1.14169970e+12, 1.19967509e+12, 1.25765047e+12,\n",
       "        1.31562586e+12, 1.37360124e+12, 1.43157662e+12, 1.48955201e+12,\n",
       "        1.54752739e+12, 1.60550278e+12, 1.66347816e+12, 1.72145354e+12,\n",
       "        1.77942893e+12, 1.83740431e+12, 1.89537970e+12, 1.95335508e+12,\n",
       "        2.01133046e+12, 2.06930585e+12, 2.12728123e+12, 2.18525662e+12,\n",
       "        2.24323200e+12]),\n",
       " <a list of 20 Patch objects>)"
      ]
     },
     "execution_count": 394,
     "metadata": {},
     "output_type": "execute_result"
    },
    {
     "data": {
      "image/png": "[encoded data removed]",
      "text/plain": [
       "<Figure size 432x288 with 1 Axes>"
      ]
     },
     "metadata": {
      "needs_background": "light"
     },
     "output_type": "display_data"
    }
   ],
   "source": [
    "#This mask format allows us to find the times where energy is within a certain range and relate it directly to our ch0 counts\n",
    "\n",
    "mask = np.where((test[0]['ENERGY'] < 40) & (test[0]['ENERGY'] > 20))\n",
    "\n",
    "#It doesnt mean much for the bismuth since it has a close to constant counts/time at small scales, but this is a histogram of\n",
    "#the counts in about every 20th of a second with the above energy constraint\n",
    "\n",
    "plt.hist(list_coincidences[0]['TIMETAG'].iloc[[mask][0][0]],bins = 20)"
   ]
  }
 ],
 "metadata": {
  "kernelspec": {
   "display_name": "Python 3",
   "language": "python",
   "name": "python3"
  },
  "language_info": {
   "codemirror_mode": {
    "name": "ipython",
    "version": 3
   },
   "file_extension": ".py",
   "mimetype": "text/x-python",
   "name": "python",
   "nbconvert_exporter": "python",
   "pygments_lexer": "ipython3",
   "version": "3.6.8"
  }
 },
 "nbformat": 4,
 "nbformat_minor": 2
}
