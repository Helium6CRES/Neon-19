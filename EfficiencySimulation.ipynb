{
 "cells": [
  {
   "cell_type": "code",
   "execution_count": 3,
   "metadata": {},
   "outputs": [],
   "source": [
    "import numpy as np\n",
    "import matplotlib.pyplot as plt\n",
    "import scipy as sp\n"
   ]
  },
  {
   "cell_type": "code",
   "execution_count": 10,
   "metadata": {},
   "outputs": [],
   "source": [
    "def efficiency(height, radius, radius_win, radius_coin, z_win, z_coin, V, V_cyl, iterations):\n",
    "    #point of emission utilizing vectorization in numpy\n",
    "    #generates a array of random floats between 0 and 1 and then I multiply by the max value to get random lengths/angles\n",
    "    random_phi = np.random.sample(iterations)*2*np.pi\n",
    "    random_r = np.random.sample(iterations)*(radius**2)\n",
    "    \n",
    "    random_x = np.sqrt(random_r)*np.cos(random_phi)\n",
    "    random_y = np.sqrt(random_r)*np.sin(random_phi)\n",
    "    random_z = np.random.sample(iterations)*height\n",
    "    \n",
    "\n",
    "    #direction of emission \n",
    "    #same process as above but for emission angles\n",
    "    random_cos_theta = np.random.sample(iterations)*1\n",
    "    random_phi_0 = np.random.sample(iterations)*2*np.pi\n",
    "    \n",
    "    #x^2 +y^2 values for the window line\n",
    "    x_w = (-random_z*np.sin(np.arccos(random_cos_theta))*np.cos(random_phi_0)/random_cos_theta) + random_x\n",
    "    y_w = (-random_z*np.sin(np.arccos(random_cos_theta))*np.sin(random_phi_0)/random_cos_theta) + random_y\n",
    "    squaredvalues_win = x_w**2 + y_w**2\n",
    "    \n",
    "    #array of bool=True where the simulated points/directions pass through the window\n",
    "    pass_window = np.where(squaredvalues_win <= radius_win)\n",
    "    #Number of simulated points/directions that pass\n",
    "    N_win = len(pass_window[0])\n",
    "    \n",
    "    \n",
    "    #x^2+y^2 values for the coincidence line\n",
    "    x_c = ((-z_coin-random_z)*np.sin(np.arccos(random_cos_theta))*np.cos(random_phi_0)/random_cos_theta) + random_x\n",
    "    y_c = ((-z_coin-random_z)*np.sin(np.arccos(random_cos_theta))*np.sin(random_phi_0)/random_cos_theta) + random_y\n",
    "    squaredvalues_coin = x_c**2 + y_c**2\n",
    "    \n",
    "    #array of bool=True where the simulated points/directions pass through window and coincidence detector\n",
    "    pass_c = np.where((squaredvalues_coin<=radius_coin) & (squaredvalues_win<=radius_win))\n",
    "    #Number of simulated points/directions that we detect\n",
    "    N_c = len(pass_c[0])\n",
    "\n",
    "    #efficiency\n",
    "    \n",
    "    eta= (N_c / (2*iterations)) * (V/V_cyl)\n",
    "    \n",
    "    #random uncertainty\n",
    "    \n",
    "    uncertainty = (np.sqrt(N_c)/N_c) * (N_c/(2*iterations)) * V/V_cyl\n",
    "    \n",
    "    return eta, uncertainty"
   ]
  },
  {
   "cell_type": "code",
   "execution_count": 37,
   "metadata": {},
   "outputs": [
    {
     "data": {
      "text/plain": [
       "(0.007528756924384027, 1.5111497875948918e-05)"
      ]
     },
     "execution_count": 37,
     "metadata": {},
     "output_type": "execute_result"
    }
   ],
   "source": [
    "efficiency(9.425,1.37/2,.375,(2.375+.125)/2, 0, 1.7-.25, 14.28, 23.54,10000000)"
   ]
  },
  {
   "cell_type": "markdown",
   "metadata": {},
   "source": [
    "For 10 million simulated emissions, the efficiency is .0075 and the total random uncertainty is 1.51e-05."
   ]
  },
  {
   "cell_type": "markdown",
   "metadata": {},
   "source": [
    "Height of volume =  9.425 in.\n",
    "\n",
    "Radius of volume = 1.37/2 in.\n",
    "\n",
    "Radius of Window = .375 in.\n",
    "\n",
    "Radius of Coincidence paddle = (2.375+.125)/2 in.\n",
    "\n",
    "Distance from window = 0 in\n",
    "\n",
    "Distance from coincidence paddle = 1.7-.25 in.\n",
    "\n",
    "Volume = 14.28 in.$^3$\n",
    "\n",
    "Total Volume = 23.54 in.$^3$\n"
   ]
  },
  {
   "cell_type": "code",
   "execution_count": 6,
   "metadata": {},
   "outputs": [
    {
     "data": {
      "text/plain": [
       "array([ 0,  2,  4,  6,  8, 10, 12, 14, 16, 18])"
      ]
     },
     "execution_count": 6,
     "metadata": {},
     "output_type": "execute_result"
    }
   ],
   "source": [
    "\\"
   ]
  }
 ],
 "metadata": {
  "kernelspec": {
   "display_name": "Python 3",
   "language": "python",
   "name": "python3"
  },
  "language_info": {
   "codemirror_mode": {
    "name": "ipython",
    "version": 3
   },
   "file_extension": ".py",
   "mimetype": "text/x-python",
   "name": "python",
   "nbconvert_exporter": "python",
   "pygments_lexer": "ipython3",
   "version": "3.6.8"
  }
 },
 "nbformat": 4,
 "nbformat_minor": 2
}
