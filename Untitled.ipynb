{
 "cells": [
  {
   "cell_type": "code",
   "execution_count": 7,
   "metadata": {},
   "outputs": [],
   "source": [
    "import sympy as sym\n",
    "\n",
    "L, d, n, b, ti, ti1 = sym.symbols('l D N B ti ti1', real = True)\n",
    "sym.init_printing(use_unicode=True)\n",
    "\n",
    "expression = (sym.log((d*n*sym.exp(-L*ti1)+b*d+1)/(d*n*sym.exp(-L*ti)+b*d+1)) + b*d*L*(ti-ti1))/(d*L*(b*d+1))"
   ]
  },
  {
   "cell_type": "code",
   "execution_count": 8,
   "metadata": {},
   "outputs": [
    {
     "data": {
      "image/png": "[encoded data removed]",
      "text/latex": [
       "$$\\frac{B D \\left(ti - ti_{1}\\right) + \\frac{\\left(\\frac{D N ti \\left(B D + D N e^{- l ti_{1}} + 1\\right) e^{- l ti}}{\\left(B D + D N e^{- l ti} + 1\\right)^{2}} - \\frac{D N ti_{1} e^{- l ti_{1}}}{B D + D N e^{- l ti} + 1}\\right) \\left(B D + D N e^{- l ti} + 1\\right)}{B D + D N e^{- l ti_{1}} + 1}}{D l \\left(B D + 1\\right)} - \\frac{B D l \\left(ti - ti_{1}\\right) + \\log{\\left (\\frac{B D + D N e^{- l ti_{1}} + 1}{B D + D N e^{- l ti} + 1} \\right )}}{D l^{2} \\left(B D + 1\\right)}$$"
      ],
      "text/plain": [
       "                 ⎛       ⎛           -l⋅ti₁    ⎞  -l⋅ti              -l⋅ti₁   \n",
       "                 ⎜D⋅N⋅ti⋅⎝B⋅D + D⋅N⋅ℯ       + 1⎠⋅ℯ          D⋅N⋅ti₁⋅ℯ         \n",
       "                 ⎜───────────────────────────────────── - ────────────────────\n",
       "                 ⎜                             2                     -l⋅ti    \n",
       "                 ⎜       ⎛           -l⋅ti    ⎞           B⋅D + D⋅N⋅ℯ      + 1\n",
       "                 ⎝       ⎝B⋅D + D⋅N⋅ℯ      + 1⎠                               \n",
       "B⋅D⋅(ti - ti₁) + ─────────────────────────────────────────────────────────────\n",
       "                                                            -l⋅ti₁            \n",
       "                                                 B⋅D + D⋅N⋅ℯ       + 1        \n",
       "──────────────────────────────────────────────────────────────────────────────\n",
       "                                            D⋅l⋅(B⋅D + 1)                     \n",
       "                                                                              \n",
       "\n",
       "⎞                                                                       \n",
       "⎟ ⎛           -l⋅ti    ⎞                                                \n",
       "⎟⋅⎝B⋅D + D⋅N⋅ℯ      + 1⎠                                                \n",
       "⎟                                                                       \n",
       "⎟                                                ⎛           -l⋅ti₁    ⎞\n",
       "⎠                                                ⎜B⋅D + D⋅N⋅ℯ       + 1⎟\n",
       "────────────────────────   B⋅D⋅l⋅(ti - ti₁) + log⎜─────────────────────⎟\n",
       "                                                 ⎜            -l⋅ti    ⎟\n",
       "                                                 ⎝ B⋅D + D⋅N⋅ℯ      + 1⎠\n",
       "──────────────────────── - ─────────────────────────────────────────────\n",
       "                                              2                         \n",
       "                                           D⋅l ⋅(B⋅D + 1)               "
      ]
     },
     "execution_count": 8,
     "metadata": {},
     "output_type": "execute_result"
    }
   ],
   "source": [
    "sym.diff(expression,L)"
   ]
  },
  {
   "cell_type": "code",
   "execution_count": null,
   "metadata": {},
   "outputs": [],
   "source": [
    "(𝐵𝐷(𝑡𝑖−𝑡𝑖1)+((𝐷*𝑁*𝑡𝑖*(𝐵*𝐷+𝐷*𝑁np.exp(−𝑙*𝑡𝑖1)+1)*np.exp(−𝑙*𝑡𝑖)/((𝐵*𝐷+𝐷*𝑁*np.exp(−𝑙*𝑡𝑖)+1)**2) − (𝐷*𝑁*𝑡𝑖1*np.exp(−𝑙*𝑡𝑖1))/(𝐵*𝐷+𝐷*𝑁*np.exp(−𝑙*𝑡𝑖)+1))*(𝐵*𝐷+𝐷*𝑁*np.exp(−𝑙*𝑡𝑖)+1))/(𝐵*𝐷+𝐷*𝑁*np.exp(−𝑙*𝑡𝑖1)+1))/(𝐷*𝑙*(𝐵*𝐷+1))  −  𝐵𝐷𝑙(𝑡𝑖−𝑡𝑖1)+log(𝐵𝐷+𝐷𝑁𝑒−𝑙𝑡𝑖1+1𝐵𝐷+𝐷𝑁𝑒−𝑙𝑡𝑖+1)𝐷𝑙2(𝐵𝐷+1)"
   ]
  },
  {
   "cell_type": "code",
   "execution_count": 9,
   "metadata": {},
   "outputs": [
    {
     "data": {
      "image/png": "[encoded data removed]",
      "text/latex": [
       "$$- \\frac{B \\left(B D l \\left(ti - ti_{1}\\right) + \\log{\\left (\\frac{B D + D N e^{- l ti_{1}} + 1}{B D + D N e^{- l ti} + 1} \\right )}\\right)}{D l \\left(B D + 1\\right)^{2}} + \\frac{B l \\left(ti - ti_{1}\\right) + \\frac{\\left(\\frac{\\left(- B - N e^{- l ti}\\right) \\left(B D + D N e^{- l ti_{1}} + 1\\right)}{\\left(B D + D N e^{- l ti} + 1\\right)^{2}} + \\frac{B + N e^{- l ti_{1}}}{B D + D N e^{- l ti} + 1}\\right) \\left(B D + D N e^{- l ti} + 1\\right)}{B D + D N e^{- l ti_{1}} + 1}}{D l \\left(B D + 1\\right)} - \\frac{B D l \\left(ti - ti_{1}\\right) + \\log{\\left (\\frac{B D + D N e^{- l ti_{1}} + 1}{B D + D N e^{- l ti} + 1} \\right )}}{D^{2} l \\left(B D + 1\\right)}$$"
      ],
      "text/plain": [
       "                                                                       ⎛⎛     \n",
       "                                                                       ⎜⎝-B - \n",
       "                                                                       ⎜──────\n",
       "                                                                       ⎜      \n",
       "    ⎛                      ⎛           -l⋅ti₁    ⎞⎞                    ⎜      \n",
       "    ⎜                      ⎜B⋅D + D⋅N⋅ℯ       + 1⎟⎟                    ⎝      \n",
       "  B⋅⎜B⋅D⋅l⋅(ti - ti₁) + log⎜─────────────────────⎟⎟   B⋅l⋅(ti - ti₁) + ───────\n",
       "    ⎜                      ⎜            -l⋅ti    ⎟⎟                           \n",
       "    ⎝                      ⎝ B⋅D + D⋅N⋅ℯ      + 1⎠⎠                           \n",
       "- ───────────────────────────────────────────────── + ────────────────────────\n",
       "                                 2                                            \n",
       "                    D⋅l⋅(B⋅D + 1)                                             \n",
       "\n",
       "   -l⋅ti⎞ ⎛           -l⋅ti₁    ⎞             -l⋅ti₁    ⎞                     \n",
       "N⋅ℯ     ⎠⋅⎝B⋅D + D⋅N⋅ℯ       + 1⎠      B + N⋅ℯ          ⎟ ⎛           -l⋅ti   \n",
       "───────────────────────────────── + ────────────────────⎟⋅⎝B⋅D + D⋅N⋅ℯ      + \n",
       "                        2                      -l⋅ti    ⎟                     \n",
       "  ⎛           -l⋅ti    ⎞            B⋅D + D⋅N⋅ℯ      + 1⎟                     \n",
       "  ⎝B⋅D + D⋅N⋅ℯ      + 1⎠                                ⎠                     \n",
       "──────────────────────────────────────────────────────────────────────────────\n",
       "                                     -l⋅ti₁                                   \n",
       "                          B⋅D + D⋅N⋅ℯ       + 1                               \n",
       "──────────────────────────────────────────────────────────────────────────────\n",
       "                     D⋅l⋅(B⋅D + 1)                                            \n",
       "                                                                              \n",
       "\n",
       "                                                  \n",
       " ⎞                                                \n",
       "1⎠                                                \n",
       "                                                  \n",
       "                           ⎛           -l⋅ti₁    ⎞\n",
       "                           ⎜B⋅D + D⋅N⋅ℯ       + 1⎟\n",
       "──   B⋅D⋅l⋅(ti - ti₁) + log⎜─────────────────────⎟\n",
       "                           ⎜            -l⋅ti    ⎟\n",
       "                           ⎝ B⋅D + D⋅N⋅ℯ      + 1⎠\n",
       "── - ─────────────────────────────────────────────\n",
       "                      2                           \n",
       "                     D ⋅l⋅(B⋅D + 1)               "
      ]
     },
     "execution_count": 9,
     "metadata": {},
     "output_type": "execute_result"
    }
   ],
   "source": [
    "sym.diff(expression,d)"
   ]
  },
  {
   "cell_type": "code",
   "execution_count": null,
   "metadata": {},
   "outputs": [],
   "source": [
    "−(𝐵*(𝐵*𝐷*𝑙*(𝑡𝑖−𝑡𝑖1)+np.log((𝐵*𝐷+𝐷*𝑁*np.exp(−𝑙*𝑡𝑖1)+1)/(𝐵*𝐷+𝐷*𝑁*np.exp(−𝑙*𝑡𝑖)+1))))/(𝐷*𝑙*(𝐵*𝐷+1)**2)  +  (𝐵*𝑙*(𝑡𝑖−𝑡𝑖1)+((((−𝐵−𝑁*np.exp(−𝑙𝑡𝑖))*(𝐵*𝐷+𝐷*𝑁*np.exp(−𝑙*𝑡𝑖1)+1))/((𝐵*𝐷+𝐷*𝑁*np.exp(−𝑙𝑡𝑖)+1)**2))+(𝐵+𝑁*np.exp(−𝑙*𝑡𝑖1))/(𝐵*𝐷+𝐷*𝑁*np.exp(−𝑙*𝑡𝑖)+1))*(𝐵*𝐷+𝐷*𝑁*np.exp(−𝑙*𝑡𝑖)+1)/(𝐵*𝐷+𝐷*𝑁*np.exp(−𝑙*𝑡𝑖1)+1))/(𝐷*𝑙*(𝐵*𝐷+1))  −  (𝐵*𝐷*𝑙*(𝑡𝑖−𝑡𝑖1)+np.log((𝐵*𝐷+𝐷*𝑁*np.exp(−𝑙*𝑡𝑖1)+1)/(𝐵*𝐷+𝐷*𝑁*np.exp(−𝑙*𝑡𝑖)+1)))/((𝐷**2)*𝑙*(𝐵*𝐷+1))"
   ]
  },
  {
   "cell_type": "code",
   "execution_count": 10,
   "metadata": {},
   "outputs": [
    {
     "data": {
      "image/png": "[encoded data removed]",
      "text/latex": [
       "$$\\frac{\\left(\\frac{D e^{- l ti_{1}}}{B D + D N e^{- l ti} + 1} - \\frac{D \\left(B D + D N e^{- l ti_{1}} + 1\\right) e^{- l ti}}{\\left(B D + D N e^{- l ti} + 1\\right)^{2}}\\right) \\left(B D + D N e^{- l ti} + 1\\right)}{D l \\left(B D + 1\\right) \\left(B D + D N e^{- l ti_{1}} + 1\\right)}$$"
      ],
      "text/plain": [
       "⎛        -l⋅ti₁           ⎛           -l⋅ti₁    ⎞  -l⋅ti⎞                     \n",
       "⎜     D⋅ℯ               D⋅⎝B⋅D + D⋅N⋅ℯ       + 1⎠⋅ℯ     ⎟ ⎛           -l⋅ti   \n",
       "⎜──────────────────── - ────────────────────────────────⎟⋅⎝B⋅D + D⋅N⋅ℯ      + \n",
       "⎜           -l⋅ti                                 2     ⎟                     \n",
       "⎜B⋅D + D⋅N⋅ℯ      + 1       ⎛           -l⋅ti    ⎞      ⎟                     \n",
       "⎝                           ⎝B⋅D + D⋅N⋅ℯ      + 1⎠      ⎠                     \n",
       "──────────────────────────────────────────────────────────────────────────────\n",
       "                                   ⎛           -l⋅ti₁    ⎞                    \n",
       "                     D⋅l⋅(B⋅D + 1)⋅⎝B⋅D + D⋅N⋅ℯ       + 1⎠                    \n",
       "\n",
       "  \n",
       " ⎞\n",
       "1⎠\n",
       "  \n",
       "  \n",
       "  \n",
       "──\n",
       "  \n",
       "  "
      ]
     },
     "execution_count": 10,
     "metadata": {},
     "output_type": "execute_result"
    }
   ],
   "source": [
    "sym.diff(expression,n)"
   ]
  },
  {
   "cell_type": "code",
   "execution_count": null,
   "metadata": {},
   "outputs": [],
   "source": [
    "(((𝐷*np.exp(−l*𝑡𝑖1)/(𝐵*𝐷+𝐷*𝑁*np.exp(−l*𝑡𝑖)+1) − (𝐷*(𝐵*𝐷+𝐷*𝑁*np.exp(−l*𝑡𝑖1)+1)*np.exp(−l*𝑡𝑖))/(𝐵*𝐷+𝐷*𝑁*np.exp(−l*𝑡𝑖)+1)**2)*(𝐵*𝐷+𝐷*𝑁*np.exp(−l*𝑡𝑖)+1))/(𝐷*l*(𝐵*𝐷+1)*(𝐵*𝐷+𝐷*𝑁*np.exp(−l*𝑡𝑖1)+1)))"
   ]
  },
  {
   "cell_type": "code",
   "execution_count": null,
   "metadata": {},
   "outputs": [],
   "source": []
  },
  {
   "cell_type": "code",
   "execution_count": 11,
   "metadata": {},
   "outputs": [
    {
     "data": {
      "image/png": "[encoded data removed]",
      "text/latex": [
       "$$- \\frac{B D l \\left(ti - ti_{1}\\right) + \\log{\\left (\\frac{B D + D N e^{- l ti_{1}} + 1}{B D + D N e^{- l ti} + 1} \\right )}}{l \\left(B D + 1\\right)^{2}} + \\frac{D l \\left(ti - ti_{1}\\right) + \\frac{\\left(\\frac{D}{B D + D N e^{- l ti} + 1} - \\frac{D \\left(B D + D N e^{- l ti_{1}} + 1\\right)}{\\left(B D + D N e^{- l ti} + 1\\right)^{2}}\\right) \\left(B D + D N e^{- l ti} + 1\\right)}{B D + D N e^{- l ti_{1}} + 1}}{D l \\left(B D + 1\\right)}$$"
      ],
      "text/plain": [
       "                                                                   ⎛          \n",
       "                                                                   ⎜         D\n",
       "                                                                   ⎜──────────\n",
       "                                                                   ⎜          \n",
       "                        ⎛           -l⋅ti₁    ⎞                    ⎜B⋅D + D⋅N⋅\n",
       "                        ⎜B⋅D + D⋅N⋅ℯ       + 1⎟                    ⎝          \n",
       "  B⋅D⋅l⋅(ti - ti₁) + log⎜─────────────────────⎟   D⋅l⋅(ti - ti₁) + ───────────\n",
       "                        ⎜            -l⋅ti    ⎟                               \n",
       "                        ⎝ B⋅D + D⋅N⋅ℯ      + 1⎠                               \n",
       "- ───────────────────────────────────────────── + ────────────────────────────\n",
       "                              2                                               \n",
       "                   l⋅(B⋅D + 1)                                                \n",
       "\n",
       "               ⎛           -l⋅ti₁    ⎞⎞                       \n",
       "             D⋅⎝B⋅D + D⋅N⋅ℯ       + 1⎠⎟ ⎛           -l⋅ti    ⎞\n",
       "────────── - ─────────────────────────⎟⋅⎝B⋅D + D⋅N⋅ℯ      + 1⎠\n",
       " -l⋅ti                              2 ⎟                       \n",
       "ℯ      + 1    ⎛           -l⋅ti    ⎞  ⎟                       \n",
       "              ⎝B⋅D + D⋅N⋅ℯ      + 1⎠  ⎠                       \n",
       "──────────────────────────────────────────────────────────────\n",
       "                          -l⋅ti₁                              \n",
       "               B⋅D + D⋅N⋅ℯ       + 1                          \n",
       "──────────────────────────────────────────────────────────────\n",
       "          D⋅l⋅(B⋅D + 1)                                       \n",
       "                                                              "
      ]
     },
     "execution_count": 11,
     "metadata": {},
     "output_type": "execute_result"
    }
   ],
   "source": [
    "sym.diff(expression,b)"
   ]
  }
 ],
 "metadata": {
  "kernelspec": {
   "display_name": "Python 3",
   "language": "python",
   "name": "python3"
  },
  "language_info": {
   "codemirror_mode": {
    "name": "ipython",
    "version": 3
   },
   "file_extension": ".py",
   "mimetype": "text/x-python",
   "name": "python",
   "nbconvert_exporter": "python",
   "pygments_lexer": "ipython3",
   "version": "3.6.8"
  }
 },
 "nbformat": 4,
 "nbformat_minor": 2
}
